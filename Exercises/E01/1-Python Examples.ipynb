{
 "cells": [
  {
   "cell_type": "markdown",
   "metadata": {},
   "source": [
    "# Python Examples\n",
    "## 1) Removing list duplicates"
   ]
  },
  {
   "cell_type": "code",
   "execution_count": 1,
   "metadata": {},
   "outputs": [
    {
     "name": "stdout",
     "output_type": "stream",
     "text": [
      "{1, 2, 3, 4, 5}\n"
     ]
    }
   ],
   "source": [
    "x = [1,2,3,4,5,4,3,2]\n",
    "print(set(x))"
   ]
  },
  {
   "cell_type": "markdown",
   "metadata": {},
   "source": [
    "## 2) Euclidean distance between lists"
   ]
  },
  {
   "cell_type": "code",
   "execution_count": 3,
   "metadata": {},
   "outputs": [
    {
     "name": "stdout",
     "output_type": "stream",
     "text": [
      "3.0\n"
     ]
    }
   ],
   "source": [
    "x, y = [1,2,3], [2,4,5]\n",
    "print(sum((x[i]-y[i])**2 for i in range(len(x)))**0.5)"
   ]
  },
  {
   "cell_type": "markdown",
   "metadata": {},
   "source": [
    "## 3) Classes and lambda functions: rule-based classifier\n",
    "Write a rule based classifier that allows classifying samples based on rules provided by the user.\n",
    "- Each **sample** to be classified is a **dictionary**.\n",
    "- **Rules** specify the output class that should be assigned to the sample based on its dictionary fields\n",
    "- The classifier can take as input **more than one rule**\n",
    "- It should also request with its constructor a **default class** that is assigned when none of the rules apply to the sample\n",
    "\n",
    "**Example of sample:**\n",
    "my_sample = {'temperature' : 20, 'humidity' : 0.8}\n",
    "\n",
    "**Example of rule:**\n",
    "if temperature > 5 and humidity > 0.7 then class = 'Rainy'\n",
    "\n",
    "**Apply the classifier:**\n",
    "my_classifer.classify(my_sample)\n"
   ]
  },
  {
   "cell_type": "code",
   "execution_count": null,
   "metadata": {},
   "outputs": [],
   "source": []
  },
  {
   "cell_type": "markdown",
   "metadata": {},
   "source": [
    "**Example of creation and execution of the classifier:**"
   ]
  },
  {
   "cell_type": "code",
   "execution_count": null,
   "metadata": {},
   "outputs": [],
   "source": [
    "# Creation\n",
    "rule_clf = RuleClassifier('Sunny')\n",
    "\n",
    "# Add rules\n",
    "rule_clf.add_rule(lambda x: x['temperature']>5 and x['humidity']>0.7, 'Rainy')\n",
    "rule_clf.add_rule(lambda x: x['temperature']<5 and x['humidity']>0.7, 'Snowy')\n",
    "rule_clf.add_rule(lambda x: x['temperature']>25 and x['humidity']>0.8, 'Foggy')\n",
    "\n",
    "# Perform classification\n",
    "print(rule_clf.classify({'temperature' : 30, 'humidity' : 0.4}))\n",
    "print(rule_clf.classify({'temperature' : 15, 'humidity' : 0.8}))"
   ]
  },
  {
   "cell_type": "markdown",
   "metadata": {},
   "source": [
    "## 4) Classes and exception handling: reading csv files\n",
    "Implement a class that reads a csv file with header and allows accessing data by column."
   ]
  },
  {
   "cell_type": "code",
   "execution_count": 1,
   "metadata": {},
   "outputs": [],
   "source": [
    "class Table:\n",
    "    def __init__(self, file_path):\n",
    "        # Step 1: {'ID': [], 'Name': [] ... }\n",
    "        # Step 2: {'ID': ['1', '2', '3'], 'Name': ['John', 'Alicia', 'Sam'] ... }\n",
    "        \n",
    "        with open(file_path, 'r') as f:\n",
    "            header = f.readline().strip().split(',')\n",
    "            \n",
    "            # Initialize the dictionary self.__columns\n",
    "            \n",
    "            # Read lines\n",
    "            \n",
    "    \n",
    "    def get_column(self, column_name):\n",
    "        pass"
   ]
  },
  {
   "cell_type": "code",
   "execution_count": null,
   "metadata": {},
   "outputs": [],
   "source": [
    "try:\n",
    "    table = Table('./TableExample.csv')\n",
    "    print(table.get_column('Name'))\n",
    "except:\n",
    "    print(\"Error while loading table\")"
   ]
  }
 ],
 "metadata": {
  "kernelspec": {
   "display_name": ".venv",
   "language": "python",
   "name": "python3"
  },
  "language_info": {
   "codemirror_mode": {
    "name": "ipython",
    "version": 3
   },
   "file_extension": ".py",
   "mimetype": "text/x-python",
   "name": "python",
   "nbconvert_exporter": "python",
   "pygments_lexer": "ipython3",
   "version": "3.12.0"
  }
 },
 "nbformat": 4,
 "nbformat_minor": 2
}
