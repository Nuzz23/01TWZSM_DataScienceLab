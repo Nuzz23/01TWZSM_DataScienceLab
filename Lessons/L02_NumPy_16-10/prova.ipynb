{
 "cells": [
  {
   "cell_type": "markdown",
   "metadata": {},
   "source": [
    "## Broadcasting \n",
    "pattern used when dealing with operations between elements with different shapes <br>\n",
    "ex 2x2 + 1x1 --> [[2,3],[4,3]] + [1] -> [[2,3],[4,3]] + [[1,1],[1,1]] <br>\n",
    "ex 2x2 + 1x2 --> [[2,3],[4,3]] + [1,2] -> [[2,3],[4,3]] + [[1,2],[1,2]] repeats to match the shape <br>\n",
    "ex 2x2 + 1x2 --> [[2,3],[4,3]] + [[1],[2]] -> [[2,3],[4,3]] + [[1,1],[2,2]] repeats to match the shape\n",
    "\n",
    "<br><br>\n",
    "There are two rules of broadcasting:\n",
    "<ul>\n",
    "<li>Look at the shape -> if different -> take the array with the least dimension and append at the end of the dimension, until they have the same number of dimension</li>\n",
    "<li>Now check if all the dimension match to each other -> dim1A = dim1B, dim2A = dim2B -> if a number of element along a dimension doesn't match, then we repeat the array with the one dimension as may time as we need to match the other arrays' dimension, if it is not one is tricky since the may not match ex dim2A = 2 and dim2B=3 so better to avoid -> <b>Cannot broadcast the shaper together </b> </li>\n",
    "</ul>\n",
    "\n"
   ]
  },
  {
   "cell_type": "code",
   "execution_count": 43,
   "metadata": {},
   "outputs": [
    {
     "name": "stdout",
     "output_type": "stream",
     "text": [
      "[[12 13 14]\n",
      " [23 24 25]\n",
      " [34 35 36]]\n",
      "(3,) (3, 1)\n",
      "(1, 3)\n",
      "[[12 13 14]\n",
      " [23 24 25]\n",
      " [34 35 36]]\n"
     ]
    }
   ],
   "source": [
    "import numpy as np\n",
    "\n",
    "A = np.array([1, 2, 3])\n",
    "B = np.array([[11], [22], [33]])\n",
    "print(A+B)\n",
    "print(A.shape, B.shape)\n",
    "#print([A].shape)\n",
    "print(np.array([A]).shape)\n",
    "A = np.array([A, A, A])\n",
    "print(A+B)\n",
    "\n",
    "x = np.random.random((3,2))\n",
    "y = np.random.random((2,3))\n",
    "# print(x+y)"
   ]
  },
  {
   "cell_type": "markdown",
   "metadata": {},
   "source": [
    "## Arrays indexing\n",
    "\n",
    "how to index arrays in numpy, can be accessed in many ways \n",
    "<ol>\n",
    "<li>Simple indexing: reads/write access to an array v[i], A[i, j], A[i, j, k], assignment of values works as expected, negative indexes are welcome</li>\n",
    "<li>Slicing: slicing as done in python, you can omit start, stop and/or step</li>\n",
    "<li>Masking: doing the mask as said below, it creates a copy</li>\n",
    "<li>Fancy indexing: we specify the index we want to select along each dimension so [x_index = [], y_index = []]\n",
    "which is usually combined with other type of indexing</li>\n",
    "<li>Combined indexing: a mix and match of all the previous indexing</li>\n",
    "</ol>"
   ]
  },
  {
   "cell_type": "code",
   "execution_count": 54,
   "metadata": {},
   "outputs": [
    {
     "name": "stdout",
     "output_type": "stream",
     "text": [
      "0.23640598245839772\n",
      "[[0.31384738 0.69380416 0.92768064 0.74817894]\n",
      " [0.95591939 0.29804458 0.50129692 0.70071374]]\n",
      "[0.76959281 0.74577434 0.70743251 0.06694212]\n",
      "[[0.4016083  0.08829462 0.13963481 0.4340723 ]\n",
      " [0.31384738 0.69380416 0.92768064 0.74817894]\n",
      " [0.95591939 0.29804458 0.50129692 0.70071374]\n",
      " [0.70560447 0.80568832 0.56353839 0.9617476 ]\n",
      " [0.20443947 0.94426865 0.21279991 0.19377001]]\n",
      "[0.4016083  0.56353839]\n"
     ]
    }
   ],
   "source": [
    "v = np.random.random((10))\n",
    "A = np.random.random((5,4))\n",
    "print(v[1])\n",
    "# rows, columns\n",
    "print(A[1:3, :])\n",
    "print(v[3:7])\n",
    "print(A)\n",
    "print(A[[0,3],[0,2]])\n"
   ]
  },
  {
   "cell_type": "markdown",
   "metadata": {},
   "source": [
    "## Masking\n",
    "use boolean mask with the same size as the array i want to index that is used to understand if a certain element meets the condition, we then apply the mask to the original matrix to then discard false elements, a 1D is always returned as a row vector"
   ]
  },
  {
   "cell_type": "code",
   "execution_count": 52,
   "metadata": {},
   "outputs": [
    {
     "name": "stdout",
     "output_type": "stream",
     "text": [
      "[[0.8808293  0.2354275 ]\n",
      " [0.28215077 0.23944031]\n",
      " [0.04166704 0.75637203]]\n",
      "[0.8808293  0.28215077 0.75637203]\n",
      "[[[0.28215077 0.23944031]\n",
      "  [0.8808293  0.2354275 ]]\n",
      "\n",
      " [[0.28215077 0.23944031]\n",
      "  [0.8808293  0.2354275 ]]\n",
      "\n",
      " [[0.8808293  0.2354275 ]\n",
      "  [0.28215077 0.23944031]]]\n",
      "[[ True False]\n",
      " [False False]\n",
      " [False  True]]\n",
      "[0.8808293  0.75637203]\n",
      "[[ True False]\n",
      " [False False]\n",
      " [ True False]]\n"
     ]
    }
   ],
   "source": [
    "x = np.random.random((3,2))\n",
    "mask = [[True, False], [True, False], [False, True]]\n",
    "# NOT TO USE MASK 2, ITs FANCY INDEXING NOT A MASK !!!\n",
    "mask2 = [[1, 0], [1, 0], [0, 1]]\n",
    "print(x, x[mask], sep=\"\\n\")\n",
    "print(x[mask2])\n",
    "\n",
    "# ex every value grater than 0.5 is mapped as 10\n",
    "# we can directly do x>0.5 due to broadCasting\n",
    "print(x>0.5)\n",
    "print(x[x>0.5])\n",
    "#x[x>0.5]=10.0\n",
    "#print(x)\n",
    "\n",
    "# we can also use a more complex mask\n",
    "print((x<0.2) | (x>0.8))\n",
    "\n"
   ]
  },
  {
   "cell_type": "markdown",
   "metadata": {},
   "source": [
    "## Working with Arrays\n",
    "\n",
    "<ul>\n",
    "<li>Arrays concatenation, arrays can be concatenated along axis 0 (as default) and and stacked on top of each other or next to each other, so, <br>h stack to do it horizontally, v stack to do it vertically</li>\n",
    "<li>arrays split: will split an array into sub arrays, if N == integer, will split the array in N dimensional array (if not multiple error), if N is a 1d array, it specifies which items to split, axis can be specified</li>\n",
    "<li>I can also reshape an array to change it's component, but we must reshape according to dimension</li>\n",
    "</ul>"
   ]
  },
  {
   "cell_type": "code",
   "execution_count": 68,
   "metadata": {},
   "outputs": [
    {
     "name": "stdout",
     "output_type": "stream",
     "text": [
      "[[0.11784977 0.09379633]\n",
      " [0.33449928 0.40741109]\n",
      " [0.95862843 0.60819318]]\n",
      "[[0.6124695 ]\n",
      " [0.59778022]\n",
      " [0.93680053]]\n",
      "[[0.11784977 0.09379633 0.6124695 ]\n",
      " [0.33449928 0.40741109 0.59778022]\n",
      " [0.95862843 0.60819318 0.93680053]]\n",
      "[array([[1, 2, 3, 4],\n",
      "       [5, 6, 7, 8]])]\n",
      "[array([[1, 2, 3, 4]]), array([[5, 6, 7, 8]]), array([], shape=(0, 4), dtype=int64)]\n",
      "[0.11784977 0.09379633 0.33449928 0.40741109 0.95862843 0.60819318]\n",
      "[[0.11784977 0.09379633 0.33449928]\n",
      " [0.40741109 0.95862843 0.60819318]]\n",
      "ඞ\n",
      "True\n"
     ]
    }
   ],
   "source": [
    "y = np.random.random((3,1))\n",
    "x = np.random.random((3,2))\n",
    "\n",
    "print(x)\n",
    "print(y)\n",
    "print(np.concatenate([x,y], axis=1))\n",
    "\n",
    "v = np.array([[1,2,3,4],[5,6,7,8]])\n",
    "print(np.split(v, 1, axis=0))\n",
    "print(np.split(v, [1,2]))\n",
    "\n",
    "print(x.reshape(6))\n",
    "#numpy will automatically find the last dimension (-1 is a placeholder)\n",
    "print(x.reshape(2,-1))\n",
    "\n",
    "print(chr(sum(range(ord(min(str(not())))))))"
   ]
  }
 ],
 "metadata": {
  "kernelspec": {
   "display_name": ".venv",
   "language": "python",
   "name": "python3"
  },
  "language_info": {
   "codemirror_mode": {
    "name": "ipython",
    "version": 3
   },
   "file_extension": ".py",
   "mimetype": "text/x-python",
   "name": "python",
   "nbconvert_exporter": "python",
   "pygments_lexer": "ipython3",
   "version": "3.12.0"
  }
 },
 "nbformat": 4,
 "nbformat_minor": 2
}
