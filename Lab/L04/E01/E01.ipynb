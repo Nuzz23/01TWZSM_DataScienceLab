{
 "cells": [
  {
   "cell_type": "markdown",
   "metadata": {},
   "source": [
    "All the modules, constant, imports and libraries used in this program"
   ]
  },
  {
   "cell_type": "code",
   "execution_count": 11,
   "metadata": {},
   "outputs": [],
   "source": [
    "import numpy as np\n",
    "import pandas as pd\n",
    "from random import randint\n",
    "from KNN import KNearestNeighbors\n",
    "\n",
    "FILE_INPUT = {'IRIS':'iris.csv', 'MNIST':'mnist_test.csv'}\n",
    "PERCENTAGE = 0.20"
   ]
  },
  {
   "cell_type": "markdown",
   "metadata": {},
   "source": [
    "#### Read a given csv file\n",
    "\n",
    "This function reads the input file: <ol>\n",
    "<li>Takes the input file path</li>\n",
    "<li>The columns name if not present in the file</li> \n",
    "</ol>\n",
    "Returns: \n",
    "<ol>\n",
    "<li>The pandas data frame</li>\n",
    "</ol>"
   ]
  },
  {
   "cell_type": "code",
   "execution_count": 12,
   "metadata": {},
   "outputs": [],
   "source": [
    "def read_file(file:str, columnsName:list[str]=None)->pd.DataFrame:\n",
    "    \"\"\" _summary_\n",
    "    Args:\n",
    "        file: the file path\n",
    "        columnsName: the header of the file if not present\n",
    "    Returns:\n",
    "        :returns: pandas dataFrame with the given header\n",
    "    \"\"\"\n",
    "    return pd.read_csv(file, header=None if columnsName else 0, names=columnsName if columnsName else None)"
   ]
  },
  {
   "cell_type": "markdown",
   "metadata": {},
   "source": [
    "#### Random index generator \n",
    "Given the number of index you want to be generated it creates them <br> \n",
    "bounded by the upper limit and the lower limit (0 if not present)\n",
    "<br>\n",
    "Returns:\n",
    "- The list of random indexes "
   ]
  },
  {
   "cell_type": "code",
   "execution_count": 13,
   "metadata": {},
   "outputs": [],
   "source": [
    "def generateRandomIndex(num:int, upperLimit:int, lowerLimit:int=0)->set[int]:\n",
    "    \"\"\"_summary_\n",
    "    Args:\n",
    "        num : the number of numbers you want to be generated\n",
    "        upperLimit : the upper limit of the number to be generated\n",
    "        lowerLimit : the lower limit of the number to be generated\n",
    "    Returns:\n",
    "        pd.dataFrame: the set of random numbers created\n",
    "    \"\"\"\n",
    "    numbers = set()\n",
    "    i=0\n",
    "    while i < num:\n",
    "        gen = randint(lowerLimit, upperLimit)\n",
    "        if gen not in numbers:\n",
    "            numbers.add(gen)\n",
    "            i += 1\n",
    "    \n",
    "    return numbers\n",
    "    # May not be of len equal to num due to duplicates\n",
    "    #return {randint(lowerLimit, upperLimit) for _ in range(num)}"
   ]
  },
  {
   "cell_type": "markdown",
   "metadata": {},
   "source": [
    "#### Split array\n",
    "\n",
    "Splits an array into values and labels to be used for KNN\n",
    "<ol>\n",
    "<li>All the given data of the data frame</li>\n",
    "<li>The indexes of the data chosen to be into the training set</li>\n",
    "</ol>\n",
    "Returns:\n",
    "<ol>\n",
    "<li>The np.array (matrix) containing the values</li>\n",
    "<li>The np.array (vector) containing the label associated to said values</li>\n",
    "</ol>"
   ]
  },
  {
   "cell_type": "code",
   "execution_count": 14,
   "metadata": {},
   "outputs": [],
   "source": [
    "def createSplitArray(data:pd.DataFrame, indexes:list[int])->[np.dtypes.Float16DType, np.dtypes.StringDType]: # type: ignore\n",
    "    \"\"\"_summary_\n",
    "\n",
    "    Args:\n",
    "        data (pd.DataFrame): the data frame\n",
    "        indexes (list[int]): list of indexes you want to work on\n",
    "\n",
    "    Returns:\n",
    "        np.dtypes.Float16DType: the array of the values selected\n",
    "        np.dtypes.StringDType: the class associated to the selected values \n",
    "    \"\"\"\n",
    "    \n",
    "    \n",
    "    val = np.zeros((len(indexes), len(data.columns)-1), dtype=np.dtypes.Float16DType)\n",
    "    classes = np.zeros(len(indexes), dtype=np.dtypes.StringDType)\n",
    "    \n",
    "    for i in range(len(indexes)):\n",
    "        val[i] = np.array([float(data.values[indexes[i]][j]) for j in range(len(data.values[indexes[i]])-1) ] , dtype=np.dtypes.Float16DType)\n",
    "        classes[i] = data.values[indexes[i]][-1]\n",
    "    \n",
    "    return val, classes"
   ]
  },
  {
   "cell_type": "markdown",
   "metadata": {},
   "source": [
    "#### Main function\n",
    "\n",
    "This is the main function of the program:\n",
    "<ol>\n",
    "<li>Reads the iris.csv dataset into a pandas dataFrame</li>\n",
    "<li>Selects randomly x% of our N data </li>\n",
    "<li>Creates the test array also portioning the data as given</li>\n",
    "<ol>"
   ]
  },
  {
   "cell_type": "code",
   "execution_count": 15,
   "metadata": {},
   "outputs": [
    {
     "name": "stdout",
     "output_type": "stream",
     "text": [
      "2\n"
     ]
    }
   ],
   "source": [
    "def main() -> None:\n",
    "    iris = read_file(FILE_INPUT['IRIS'], ['sepal length', 'sepal width', 'petal length', 'petal width', 'species'])\n",
    "    randomIndex = generateRandomIndex(int(PERCENTAGE*len(iris)), len(iris)-1)\n",
    "    X_test, Y_test = createSplitArray(iris, sorted(randomIndex))\n",
    "    X_train, Y_train = createSplitArray(iris, sorted(set(list(range(len(iris)))).difference(randomIndex)))\n",
    "    \n",
    "    knn = KNearestNeighbors(5, \"alessio\")\n",
    "    \n",
    "    print(knn.manhattan(np.array([16, 15]), np.array([14, 15])))\n",
    "    \n",
    "    knn.manhattan(knn.manhattan)\n",
    "    \n",
    "main()"
   ]
  }
 ],
 "metadata": {
  "kernelspec": {
   "display_name": ".venv",
   "language": "python",
   "name": "python3"
  },
  "language_info": {
   "codemirror_mode": {
    "name": "ipython",
    "version": 3
   },
   "file_extension": ".py",
   "mimetype": "text/x-python",
   "name": "python",
   "nbconvert_exporter": "python",
   "pygments_lexer": "ipython3",
   "version": "3.12.0"
  }
 },
 "nbformat": 4,
 "nbformat_minor": 2
}
