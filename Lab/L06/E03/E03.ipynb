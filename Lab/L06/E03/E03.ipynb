{
 "cells": [
  {
   "cell_type": "markdown",
   "metadata": {},
   "source": [
    "# 0 - IMPORTS AND CONSTANTS"
   ]
  },
  {
   "cell_type": "markdown",
   "metadata": {},
   "source": [
    "All modules, imports, libraries and constant used in this file"
   ]
  },
  {
   "cell_type": "code",
   "execution_count": 29,
   "metadata": {},
   "outputs": [],
   "source": [
    "import pandas as pd\n",
    "import matplotlib.pyplot as plt\n",
    "from sklearn.model_selection import train_test_split\n",
    "from sklearn.tree import DecisionTreeClassifier\n",
    "from seaborn import heatmap\n",
    "\n",
    "# All the validation metrics\n",
    "from sklearn.metrics import accuracy_score, recall_score, precision_score, f1_score, confusion_matrix\n",
    "\n",
    "\n",
    "\n",
    "INPUT_FILE_PATH = 'mnist_784.csv'\n",
    "METRICS = {accuracy_score, recall_score, precision_score, f1_score}\n",
    "METRICS_PARAMETER={accuracy_score:None, recall_score:{'average':None}, precision_score:{'average':None}, f1_score:{'average':None}}\n"
   ]
  },
  {
   "cell_type": "markdown",
   "metadata": {},
   "source": [
    "# 1 - DATA READING AND PARTITIONING"
   ]
  },
  {
   "cell_type": "markdown",
   "metadata": {},
   "source": [
    "Load the MNIST dataset into memory. <br>\n",
    "Divide the 70,000 digits you have into:\n",
    "- training set (60,000 digits) \n",
    "- test set (10,000 digits)."
   ]
  },
  {
   "cell_type": "code",
   "execution_count": 30,
   "metadata": {},
   "outputs": [],
   "source": [
    "def readMnistDataset(file:str)->pd.DataFrame:\n",
    "    return pd.read_csv(filepath_or_buffer=file, header=0).rename(columns={'class':'label'})"
   ]
  },
  {
   "cell_type": "markdown",
   "metadata": {},
   "source": [
    "# 2 - SINGLE RANDOM TREE"
   ]
  },
  {
   "cell_type": "markdown",
   "metadata": {},
   "source": [
    "Train a single decision tree (with the default parameters) on the training set, then compute its\n",
    "accuracy on the test set."
   ]
  },
  {
   "cell_type": "code",
   "execution_count": null,
   "metadata": {},
   "outputs": [],
   "source": [
    "def computeMetrics(yTrue:pd.DataFrame, yPred:pd.DataFrame, metrics:list=METRICS, options:dict[dict]=METRICS_PARAMETER,\n",
    "                    printMap: bool=False)->dict[str:float]:\n",
    "    if printMap:\n",
    "        fig, ax = plt.subplots(1,1,figsize=(12,12))\n",
    "        heatmap(confusion_matrix(yTrue, yPred), annot=True, ax=ax)\n",
    "        plt.show()\n",
    "    \n",
    "    return pd.DataFrame({str(metric).split()[1]:metric(yTrue, yPred, **options[metric]) if options[metric] else metric(yTrue, yPred)\n",
    "            for metric in metrics})\n",
    "        \n",
    "\n",
    "def createAndTestSingleRandomTree(xTrain:pd.DataFrame, xTest:pd.DataFrame, yTrain:pd.DataFrame, yTest:pd.DataFrame, \n",
    "                                metrics:list=METRICS, options:dict[dict]=METRICS_PARAMETER, printMap: bool=False)->dict[str:float]:\n",
    "    \n",
    "    return computeMetrics(yTest, DecisionTreeClassifier().fit(xTrain, yTrain).predict(xTest),\n",
    "                            metrics=metrics, printMap=printMap, options=options)\n",
    "    "
   ]
  },
  {
   "cell_type": "markdown",
   "metadata": {},
   "source": []
  },
  {
   "cell_type": "markdown",
   "metadata": {},
   "source": []
  },
  {
   "cell_type": "code",
   "execution_count": null,
   "metadata": {},
   "outputs": [],
   "source": []
  },
  {
   "cell_type": "markdown",
   "metadata": {},
   "source": [
    "# MAIN FUNCTION"
   ]
  },
  {
   "cell_type": "markdown",
   "metadata": {},
   "source": [
    "This is the main function of the program, it does the following things:\n",
    "<ol>\n",
    "<li>Reads the mnist dataset and partitions it</li>\n",
    "<li>Trains a single decision tree and test it's accuracy</li>\n",
    "<li></li>\n",
    "<li></li>\n",
    "<li></li>\n",
    "<li></li>\n",
    "<li></li>\n",
    "</ol> "
   ]
  },
  {
   "cell_type": "code",
   "execution_count": null,
   "metadata": {},
   "outputs": [
    {
     "name": "stdout",
     "output_type": "stream",
     "text": [
      "FINAL RESULTS OF A SINGLE DECISION TREE :\n"
     ]
    },
    {
     "data": {
      "text/html": [
       "<div>\n",
       "<style scoped>\n",
       "    .dataframe tbody tr th:only-of-type {\n",
       "        vertical-align: middle;\n",
       "    }\n",
       "\n",
       "    .dataframe tbody tr th {\n",
       "        vertical-align: top;\n",
       "    }\n",
       "\n",
       "    .dataframe thead th {\n",
       "        text-align: right;\n",
       "    }\n",
       "</style>\n",
       "<table border=\"1\" class=\"dataframe\">\n",
       "  <thead>\n",
       "    <tr style=\"text-align: right;\">\n",
       "      <th></th>\n",
       "      <th>f1_score</th>\n",
       "      <th>precision_score</th>\n",
       "      <th>accuracy_score</th>\n",
       "      <th>recall_score</th>\n",
       "    </tr>\n",
       "  </thead>\n",
       "  <tbody>\n",
       "    <tr>\n",
       "      <th>0</th>\n",
       "      <td>0.933198</td>\n",
       "      <td>0.931313</td>\n",
       "      <td>0.8731</td>\n",
       "      <td>0.935091</td>\n",
       "    </tr>\n",
       "    <tr>\n",
       "      <th>1</th>\n",
       "      <td>0.950891</td>\n",
       "      <td>0.930272</td>\n",
       "      <td>0.8731</td>\n",
       "      <td>0.972444</td>\n",
       "    </tr>\n",
       "    <tr>\n",
       "      <th>2</th>\n",
       "      <td>0.840345</td>\n",
       "      <td>0.851129</td>\n",
       "      <td>0.8731</td>\n",
       "      <td>0.829830</td>\n",
       "    </tr>\n",
       "    <tr>\n",
       "      <th>3</th>\n",
       "      <td>0.840196</td>\n",
       "      <td>0.840196</td>\n",
       "      <td>0.8731</td>\n",
       "      <td>0.840196</td>\n",
       "    </tr>\n",
       "    <tr>\n",
       "      <th>4</th>\n",
       "      <td>0.866222</td>\n",
       "      <td>0.865779</td>\n",
       "      <td>0.8731</td>\n",
       "      <td>0.866667</td>\n",
       "    </tr>\n",
       "    <tr>\n",
       "      <th>5</th>\n",
       "      <td>0.817673</td>\n",
       "      <td>0.825056</td>\n",
       "      <td>0.8731</td>\n",
       "      <td>0.810421</td>\n",
       "    </tr>\n",
       "    <tr>\n",
       "      <th>6</th>\n",
       "      <td>0.904348</td>\n",
       "      <td>0.908530</td>\n",
       "      <td>0.8731</td>\n",
       "      <td>0.900204</td>\n",
       "    </tr>\n",
       "    <tr>\n",
       "      <th>7</th>\n",
       "      <td>0.904281</td>\n",
       "      <td>0.906461</td>\n",
       "      <td>0.8731</td>\n",
       "      <td>0.902111</td>\n",
       "    </tr>\n",
       "    <tr>\n",
       "      <th>8</th>\n",
       "      <td>0.826378</td>\n",
       "      <td>0.830228</td>\n",
       "      <td>0.8731</td>\n",
       "      <td>0.822564</td>\n",
       "    </tr>\n",
       "    <tr>\n",
       "      <th>9</th>\n",
       "      <td>0.828657</td>\n",
       "      <td>0.825349</td>\n",
       "      <td>0.8731</td>\n",
       "      <td>0.831992</td>\n",
       "    </tr>\n",
       "  </tbody>\n",
       "</table>\n",
       "</div>"
      ],
      "text/plain": [
       "   f1_score  precision_score  accuracy_score  recall_score\n",
       "0  0.933198         0.931313          0.8731      0.935091\n",
       "1  0.950891         0.930272          0.8731      0.972444\n",
       "2  0.840345         0.851129          0.8731      0.829830\n",
       "3  0.840196         0.840196          0.8731      0.840196\n",
       "4  0.866222         0.865779          0.8731      0.866667\n",
       "5  0.817673         0.825056          0.8731      0.810421\n",
       "6  0.904348         0.908530          0.8731      0.900204\n",
       "7  0.904281         0.906461          0.8731      0.902111\n",
       "8  0.826378         0.830228          0.8731      0.822564\n",
       "9  0.828657         0.825349          0.8731      0.831992"
      ]
     },
     "metadata": {},
     "output_type": "display_data"
    }
   ],
   "source": [
    "def main()->None:\n",
    "    df = readMnistDataset(INPUT_FILE_PATH) # 1\n",
    "    xTrain, xTest, yTrain, yTest = train_test_split(df.loc[:, df.columns.difference({'label'})], \n",
    "                                                    df['label'], test_size=1/7, shuffle=True, stratify=df['label']) # 1\n",
    "    \n",
    "    res = createAndTestSingleRandomTree(xTrain, xTest, yTrain, yTest, printMap=True) # 2\n",
    "    print(\"FINAL RESULTS OF A SINGLE DECISION TREE :\") # 2\n",
    "    display(res) # 2\n",
    "    \n",
    "\n",
    "\n",
    "\n",
    "main()"
   ]
  },
  {
   "cell_type": "code",
   "execution_count": null,
   "metadata": {},
   "outputs": [],
   "source": []
  }
 ],
 "metadata": {
  "kernelspec": {
   "display_name": ".venv",
   "language": "python",
   "name": "python3"
  },
  "language_info": {
   "codemirror_mode": {
    "name": "ipython",
    "version": 3
   },
   "file_extension": ".py",
   "mimetype": "text/x-python",
   "name": "python",
   "nbconvert_exporter": "python",
   "pygments_lexer": "ipython3",
   "version": "3.12.0"
  }
 },
 "nbformat": 4,
 "nbformat_minor": 2
}
