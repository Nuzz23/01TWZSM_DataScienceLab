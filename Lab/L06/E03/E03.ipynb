{
 "cells": [
  {
   "cell_type": "markdown",
   "metadata": {},
   "source": [
    "# 0 - IMPORTS AND CONSTANTS"
   ]
  },
  {
   "cell_type": "markdown",
   "metadata": {},
   "source": [
    "All modules, imports, libraries and constant used in this file"
   ]
  },
  {
   "cell_type": "code",
   "execution_count": 1,
   "metadata": {},
   "outputs": [],
   "source": [
    "import pandas as pd\n",
    "import matplotlib.pyplot as plt\n",
    "from sklearn.model_selection import train_test_split\n",
    "from sklearn.tree import DecisionTreeClassifier\n",
    "from sklearn.ensemble import RandomForestClassifier\n",
    "import seaborn as sns\n",
    "import numpy as np\n",
    "\n",
    "\n",
    "# All the validation metrics\n",
    "from sklearn.metrics import accuracy_score, recall_score, precision_score, f1_score, confusion_matrix\n",
    "\n",
    "# imports of class created by me\n",
    "from ForestaRandomica import ForestaRandomica\n",
    "\n",
    "\n",
    "INPUT_FILE_PATH = 'mnist_784.csv'\n",
    "METRICS_PARAMETER={accuracy_score:None, recall_score:{'average':None}, precision_score:{'average':None}, f1_score:{'average':None}}\n"
   ]
  },
  {
   "cell_type": "markdown",
   "metadata": {},
   "source": [
    "# 1 - DATA READING AND PARTITIONING"
   ]
  },
  {
   "cell_type": "markdown",
   "metadata": {},
   "source": [
    "Load the MNIST dataset into memory. <br>\n",
    "Divide the 70,000 digits you have into:\n",
    "- training set (60,000 digits) \n",
    "- test set (10,000 digits)."
   ]
  },
  {
   "cell_type": "code",
   "execution_count": 2,
   "metadata": {},
   "outputs": [],
   "source": [
    "def readMnistDataset(file:str)->pd.DataFrame:\n",
    "    return pd.read_csv(filepath_or_buffer=file, header=0).rename(columns={'class':'label'})"
   ]
  },
  {
   "cell_type": "markdown",
   "metadata": {},
   "source": [
    "# 2 - SINGLE RANDOM TREE"
   ]
  },
  {
   "cell_type": "markdown",
   "metadata": {},
   "source": [
    "Train a single decision tree (with the default parameters) on the training set, then compute its\n",
    "accuracy on the test set."
   ]
  },
  {
   "cell_type": "code",
   "execution_count": 3,
   "metadata": {},
   "outputs": [],
   "source": [
    "def computeMetrics(yTrue:pd.DataFrame, yPred:pd.DataFrame, metrics:list=METRICS_PARAMETER,\n",
    "                    printMap: bool=False)->dict[str:float]:\n",
    "    if printMap:\n",
    "        fig, ax = plt.subplots(1,1,figsize=(12,12))\n",
    "        sns.heatmap(confusion_matrix(yTrue, yPred), annot=True, ax=ax)\n",
    "        plt.show()\n",
    "    \n",
    "    val = pd.DataFrame({str(metric).split()[1]:(metric(yTrue, yPred, **metrics[metric])if metrics[metric] else metric(yTrue, yPred))*100\n",
    "            for metric in metrics})\n",
    "    \n",
    "    return (pd.concat([val, val.agg(func=['mean', 'min', 'max', 'std'], axis=0)], axis=0)\n",
    "            .map(lambda x: x if not isinstance(x, float) else (round(x, 3) if x > 1e-6 else 0)))\n",
    "\n",
    "def createAndTestSingleRandomTree(xTrain:pd.DataFrame, xTest:pd.DataFrame, yTrain:pd.DataFrame, yTest:pd.DataFrame, \n",
    "                                metrics:list=METRICS_PARAMETER, printMap: bool=False)->dict[str:float]:\n",
    "    \n",
    "    print(\"FINAL RESULTS OF A SINGLE DECISION TREE :\") \n",
    "    \n",
    "    return computeMetrics(yTest, DecisionTreeClassifier().fit(xTrain, yTrain).predict(xTest),\n",
    "                            metrics=metrics, printMap=printMap)\n",
    "    "
   ]
  },
  {
   "cell_type": "markdown",
   "metadata": {},
   "source": [
    "# 3 - MY OWN RANDOM FOREST"
   ]
  },
  {
   "cell_type": "markdown",
   "metadata": {},
   "source": [
    "Was implemented in the class ForestaRandomica.<br>\n",
    "This function just tests it"
   ]
  },
  {
   "cell_type": "markdown",
   "metadata": {},
   "source": [
    "# 4 - TEST MY RANDOM FOREST"
   ]
  },
  {
   "cell_type": "markdown",
   "metadata": {},
   "source": [
    "Now train your random forest with the 60,000 points of the training set and compute its accuracy\n",
    "against the test set. How does the random forest behave? How does it compare to a decision tree? <br>\n",
    "How does this performance vary as the number of estimators grow? Try values from 10 to 100 (with\n",
    "steps of 10) for n_estimators."
   ]
  },
  {
   "cell_type": "code",
   "execution_count": 4,
   "metadata": {},
   "outputs": [],
   "source": [
    "def testMyOwnRandomForest(xTrain:pd.DataFrame, xTest:pd.DataFrame, yTrain:pd.DataFrame, yTest:pd.DataFrame, \n",
    "                        estimators:int=10)->pd.DataFrame:\n",
    "    print(f\"FINAL RESULTS OF MY RANDOM FOREST OF {estimators} TREES\")\n",
    "    return computeMetrics(yTest, ForestaRandomica(nEstimators=estimators).fit(xTrain, yTrain).predict(xTest), printMap=True)\n",
    "    "
   ]
  },
  {
   "cell_type": "markdown",
   "metadata": {},
   "source": [
    "# 5 - SKLEARN RANDOM FOREST"
   ]
  },
  {
   "cell_type": "markdown",
   "metadata": {},
   "source": [
    "Scikit-learn implements its own version of a random forest classifier, which is unsurprisingly called\n",
    "RandomForestClassifier (from sklearn.ensemble). Answer the same questions as the previous\n",
    "exercise. How does your implementation of the random forest compare to sklearn’s?\n"
   ]
  },
  {
   "cell_type": "code",
   "execution_count": 5,
   "metadata": {},
   "outputs": [],
   "source": [
    "def testSKlearnRandomForest(xTrain:pd.DataFrame, xTest:pd.DataFrame, yTrain:pd.DataFrame, yTest:pd.DataFrame, \n",
    "                        estimators:int=10)->pd.DataFrame:\n",
    "    print(f\"FINAL RESULTS OF SKLEARN RANDOM FOREST OF {estimators} TREES\")\n",
    "    return computeMetrics(yTest, RandomForestClassifier(n_estimators=estimators).fit(xTrain, yTrain).predict(xTest), printMap=True)\n",
    "    "
   ]
  },
  {
   "cell_type": "markdown",
   "metadata": {},
   "source": [
    "# 6 - FEATURE IMPORTANCE "
   ]
  },
  {
   "cell_type": "markdown",
   "metadata": {},
   "source": [
    "Much like for decision trees, sklearn’s random forests can compute the importance of the features\n",
    "used. It does this by aggregating the feature importance of the trees into a single value. If $I_{ab}$ is\n",
    "the feature importance of the $a^{th}$ feature according to the $b^{th}$ tree, the feature importance for a\n",
    "according to the random forest can be computed as follows:<br>\n",
    "$Ia = \\frac{\\sum_j I_{aj}}{\\sum_i\\sum_j I_{ij}}$\n",
    "\n",
    "That is, the overall feature importance for any feature is given by the sum of the feature importance\n",
    "for that feature across all trees, divided by the sum of the feature importances across all trees.\n",
    "This makes it so that $\\sum_i I_i = 1$. <br>\n",
    "Compute the feature importance for the 784 features of MNIST\n",
    "according to your random forest (to compute the feature importance of each tree, you can either use\n",
    "sklearn’s precomputed feature importance, tree.feature_importances_, or you can use your own\n",
    "implementation from Exercise 1).\n"
   ]
  },
  {
   "cell_type": "code",
   "execution_count": 6,
   "metadata": {},
   "outputs": [],
   "source": [
    "def computeFeatureImportance(forest:ForestaRandomica, sort:bool=False)->pd.DataFrame:\n",
    "    return forest.getFeatureImportance(sort=sort)"
   ]
  },
  {
   "cell_type": "markdown",
   "metadata": {},
   "source": [
    "# 7 - FEATURE IMPORTANCE VISUALIZATION"
   ]
  },
  {
   "cell_type": "markdown",
   "metadata": {},
   "source": [
    "From the previous exercise, you should now have an array with 784 feature importances, one for\n",
    "each of the features in MNIST. You can reshape this array to a 28 × 28 matrix of values (remember\n",
    "that MNIST images are 28×28 black and white images). You can use the seaborn library to visualize\n",
    "a heatmap of this matrix (i.e. a 2D grid where elements have different colors based on their value).<br>\n",
    "Now train a random forest from sklearn, extract its feature importance (rf.feature_importances_)\n",
    "and visualize it. \n",
    "- Does it resemble your results? \n",
    "- What are the most important features? \n",
    "<br>From Lab 1, you should have some idea as to which features are most relevant to distinguish 0’s from 1’s. \n",
    "- Are those pixels also relevant for the 10 classes problem?"
   ]
  },
  {
   "cell_type": "code",
   "execution_count": 7,
   "metadata": {},
   "outputs": [],
   "source": [
    "def visualizeFeatureImportance(df:pd.DataFrame, ax:str=None)->None:\n",
    "    sns.heatmap(np.reshape(df, (28,28)), cmap='binary', ax=ax)"
   ]
  },
  {
   "cell_type": "markdown",
   "metadata": {},
   "source": [
    "# MAIN FUNCTION"
   ]
  },
  {
   "cell_type": "markdown",
   "metadata": {},
   "source": [
    "This is the main function of the program, it does the following things:\n",
    "<ol>\n",
    "<li>Reads the mnist dataset and partitions it</li>\n",
    "<li>Trains a single decision tree and test it's accuracy</li>\n",
    "<li>Try implementing a random forest classifier</li>\n",
    "<li>Tests the newly implemented random forest</li>\n",
    "<li>Use sklearn implementation of a random forest</li>\n",
    "<li>Computes the importance of each feature</li>\n",
    "<li>Visualization of feature importance</li>\n",
    "</ol> "
   ]
  },
  {
   "cell_type": "code",
   "execution_count": 8,
   "metadata": {},
   "outputs": [
    {
     "data": {
      "image/png": "[encoded data removed]",
      "text/plain": [
       "<Figure size 500x1000 with 4 Axes>"
      ]
     },
     "metadata": {},
     "output_type": "display_data"
    }
   ],
   "source": [
    "def main()->None:\n",
    "    df = readMnistDataset(INPUT_FILE_PATH) # 1\n",
    "    xTrain, xTest, yTrain, yTest = train_test_split(df.loc[:, df.columns.difference({'label'})], \n",
    "                                                    df['label'], test_size=1/7, shuffle=True, stratify=df['label']) # 1\n",
    "    \n",
    "    # display(createAndTestSingleRandomTree(xTrain, xTest, yTrain, yTest, printMap=True)) # 2\n",
    "    \n",
    "    # 3 check class ForestaRandomica\n",
    "    \n",
    "    # for estimators in range(10, 100, 10): # 4\n",
    "        # display(testMyOwnRandomForest(xTrain, xTest, yTrain, yTest, estimators)) # 4\n",
    "        \n",
    "    # display(testMyOwnRandomForest(xTrain, xTest, yTrain, yTest, 20)) # 4\n",
    "    # display(testSKlearnRandomForest(xTrain, xTest, yTrain, yTest, 20))  # 5  \n",
    "    \n",
    "    # temp = computeFeatureImportance(ForestaRandomica(nEstimators=10).fit(xTrain, yTrain)) # 6\n",
    "    #display(temp[temp['importance']>0.05]) # 6\n",
    "    \n",
    "    \n",
    "    fig, ax = plt.subplots(2,1, figsize=(5,10))\n",
    "    visualizeFeatureImportance(computeFeatureImportance(ForestaRandomica(nEstimators=10).fit(xTrain, yTrain), sort=False), ax=ax[0]) # 7\n",
    "    visualizeFeatureImportance(RandomForestClassifier(n_estimators=10).fit(xTrain, yTrain).feature_importances_, ax=ax[1]) # 7\n",
    "    plt.tight_layout()\n",
    "\n",
    "main()"
   ]
  }
 ],
 "metadata": {
  "kernelspec": {
   "display_name": ".venv",
   "language": "python",
   "name": "python3"
  },
  "language_info": {
   "codemirror_mode": {
    "name": "ipython",
    "version": 3
   },
   "file_extension": ".py",
   "mimetype": "text/x-python",
   "name": "python",
   "nbconvert_exporter": "python",
   "pygments_lexer": "ipython3",
   "version": "3.12.0"
  }
 },
 "nbformat": 4,
 "nbformat_minor": 2
}
