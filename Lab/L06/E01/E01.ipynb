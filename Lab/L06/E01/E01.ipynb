{
 "cells": [
  {
   "cell_type": "markdown",
   "metadata": {},
   "source": [
    "### 0 - MODULES AND CONSTANTS\n",
    "All the modules, constants, import and libraries used in this file"
   ]
  },
  {
   "cell_type": "code",
   "execution_count": 144,
   "metadata": {},
   "outputs": [],
   "source": [
    "import pandas as pd\n",
    "from seaborn import heatmap\n",
    "\n",
    "## Imports from sklearn\n",
    "from sklearn.model_selection import train_test_split, ParameterGrid, KFold\n",
    "from sklearn.tree import DecisionTreeClassifier, plot_tree, export_graphviz\n",
    "from sklearn.metrics import accuracy_score, balanced_accuracy_score, confusion_matrix, precision_score, recall_score, f1_score\n",
    "\n",
    "\n",
    "DATA_INPUT_FILE = 'wine.data'\n",
    "CLASSES = ['class']\n",
    "FEATURE_NAMES = ['Alcohol', 'Malicacid', 'Ash', 'Alcalinity_of_ash', 'Magnesium', 'Total_phenols', 'Flavanoids', 'Nonflavanoid_phenols',\n",
    "'Proanthocyanins', 'Color_intensity', 'Hue', '0D280_0D315_of_diluted_wines', 'Proline']\n",
    "TEST_DATA_PERCENTAGE=0.2\n",
    "METRICS = ['accuracy_score', 'balanced_accuracy_score', 'balanced_accuracy_score_adjusted', 'f1_score', \n",
    "            'recall_score', 'precision_score']\n",
    "PRINT_METRIC_ANALYSIS_TO_CSV = 1\n",
    "OUTPUT_CSV_PATH = 'metricsToBeAnalyzed.csv'"
   ]
  },
  {
   "cell_type": "markdown",
   "metadata": {},
   "source": [
    "### 1 - DATASET LOADING"
   ]
  },
  {
   "cell_type": "markdown",
   "metadata": {},
   "source": [
    "Load the dataset from sklearn, as described in Subsec. Then, based on your X and y, answer\n",
    "the following questions:\n",
    "- How many records are available?\n",
    "- Are there missing values?\n",
    "- How many elements does each class contain?"
   ]
  },
  {
   "cell_type": "code",
   "execution_count": 145,
   "metadata": {},
   "outputs": [],
   "source": [
    "def loadDataBase(file:str, cols:list[str])->pd.DataFrame:\n",
    "    return pd.read_csv(filepath_or_buffer=file, delimiter=',', header=None, names=cols)\n",
    "\n",
    "def AnsQuestionPart1(df:pd.DataFrame)->None:\n",
    "    print('How many records are available ? \\t', df.shape[0])\n",
    "    print('Are there missing values ? \\n', df[df.isna()].count())\n",
    "    print('How many elements does each class contain? \\t', df.loc[:, 'class'].value_counts().sort_index())"
   ]
  },
  {
   "cell_type": "markdown",
   "metadata": {},
   "source": [
    "### 2 - CLASSIFIER BUILDING AND TRAINING"
   ]
  },
  {
   "cell_type": "markdown",
   "metadata": {},
   "source": [
    "Create a DecisionTreeClassifier object with the default configuration (i.e. without passing any\n",
    "parameters to the constructor). <br>Train the classifier using your X and y."
   ]
  },
  {
   "cell_type": "code",
   "execution_count": 146,
   "metadata": {},
   "outputs": [],
   "source": [
    "def createAndTrainTree(df:pd.DataFrame, features:list[str], classes:list[str])->DecisionTreeClassifier:\n",
    "    tree = DecisionTreeClassifier()\n",
    "    tree.fit(X=df.loc[:, features], y=df.loc[:, classes])\n",
    "    \n",
    "    return tree"
   ]
  },
  {
   "cell_type": "markdown",
   "metadata": {},
   "source": [
    "### 3 - TREE PLOTTING\n"
   ]
  },
  {
   "cell_type": "markdown",
   "metadata": {},
   "source": [
    "Now that you have created a tree, you can visualize it. Sklearn offers two functions to visualize decision trees. \n",
    "<ul>\n",
    "<li>The first one, plot_tree(), plots the tree in a matplotlib-based, interactive window.</li>\n",
    "<li>An alternative way is using export_graphviz(). This function exports the tree as a DOT file. DOT\n",
    "is a language for describing graph (and, as a consequence, trees). From the DOT code, you can\n",
    "generate the resulting visual representation either using specific Python libraries, or by using any\n",
    "online tools (such as Webgraphviz). </li>\n",
    "</ul>\n",
    "We recommend using the latter approach, where you paste the string returned by export_graphviz (which is the DOT file) directly into Webgraphviz.<br> If, instead, you would rather run it locally, you can install pydot (Python package) and graphviz (a graph\n",
    "visualization software). <br>\n",
    "After you successfully plotted a tree, you can take a closer look at the result and draw some conclusions. \n",
    "<br> In particular, what information is contained in each node? Take a closer look at the leaf\n",
    "nodes. <br>Based on what you know about over fitting, what can you learn from these nodes?\n",
    "\n"
   ]
  },
  {
   "cell_type": "code",
   "execution_count": 147,
   "metadata": {},
   "outputs": [],
   "source": [
    "# Note: this import are only used here, so they will be exceptionally defined here\n",
    "from pydot import graph_from_dot_data\n",
    "from IPython.display import Image\n",
    "\n",
    "def printTree(tree:DecisionTreeClassifier, features:list[str], printGood:bool)->None:\n",
    "    if printGood:\n",
    "        dot_code = export_graphviz(tree, feature_names=features)\n",
    "        Image(graph_from_dot_data(dot_code)[0].create_png())\n",
    "    else:\n",
    "        plot_tree(tree)\n"
   ]
  },
  {
   "cell_type": "markdown",
   "metadata": {},
   "source": [
    "### 4 - PREDICTION FOR OVER FITTING "
   ]
  },
  {
   "cell_type": "markdown",
   "metadata": {},
   "source": [
    "Given the dataset X, you can get the predictions of the classifier (one for each entry in X) by calling\n",
    "the predict() of DecisionTreeClassifier. <br>\n",
    "Then, use the accuracy_score() function (which you can import from sklearn.metrics) to compute the accuracy between two lists of values (y_true,\n",
    "the list of “correct” labels, and y_pred, the list of predictions made by the classifier). \n",
    "<br> Since you already have both these lists (y for the ground truth, and the result of the predict() method for the\n",
    "prediction), you can already compute the accuracy of your classifier. \n",
    "<br> What result do you get? \n",
    "<br> Does this result seem particularly high/low? \n",
    "<br> Why do you think that is?"
   ]
  },
  {
   "cell_type": "code",
   "execution_count": 148,
   "metadata": {},
   "outputs": [],
   "source": [
    "def testOverFittingValues(tree:DecisionTreeClassifier, df:pd.DataFrame, classes:list[str], features:list[str], method: object) -> float:\n",
    "    return method(df.loc[:, classes], tree.predict(df.loc[:, features])) *100"
   ]
  },
  {
   "cell_type": "markdown",
   "metadata": {},
   "source": [
    "### 5 - PARTITIONED DATA SET TESTING AND ACCURACY"
   ]
  },
  {
   "cell_type": "markdown",
   "metadata": {},
   "source": [
    "\n",
    "Now, we can split our dataset into a training set and a test set. <br>\n",
    "We will use the training set to train a model, and to assess its performance with the test set. <br>\n",
    "Sklearn offers the train_test_split() function to split any number of arrays (all having the same length on the first dimension) into two\n",
    "sets. <br> You can use an 80/20 train/test split. If used correctly, you will get 4 arrays: X_train, X_test, y_train, y_test."
   ]
  },
  {
   "cell_type": "code",
   "execution_count": 149,
   "metadata": {},
   "outputs": [],
   "source": [
    "def partitionAndTest(tree:DecisionTreeClassifier, df:pd.DataFrame, classes:list[str], features:list[str], testPercentage:float)->float:\n",
    "    xTrain, xTest, yTrain, yTest = train_test_split(df.loc[:, features], df.loc[:, classes], test_size=testPercentage)\n",
    "    tree.fit(xTrain, yTrain)\n",
    "    yPred = tree.predict(xTest)\n",
    "    \n",
    "    heatmap(confusion_matrix(yTest, yPred), annot=True)\n",
    "    \n",
    "    return round(accuracy_score(yTest, yPred),3)*100"
   ]
  },
  {
   "cell_type": "markdown",
   "metadata": {},
   "source": [
    "### 6 -  ADVANCED METRICS"
   ]
  },
  {
   "cell_type": "markdown",
   "metadata": {},
   "source": [
    "Now, train a new model using (X_train, y_train). Then, compute the accuracy with (X_test,y_test). \n",
    "<br> How does this value compare to the previously computed one? Is this a more reasonable value? Why? <br>\n",
    "\n",
    "This should give you a good idea as to why training and testing on the same dataset returns meaningless results. \n",
    "\n",
    "You can also compute other metrics (e.g. precision, recall, F1 score) using the respective functions (precision_score, recall_score, f1_score). <br> Note that, since these three metrics are all based on a single class, you can either compute the value for a single class, aggregate\n",
    "the results into a single value, or receive the results for all three classes. \n",
    "<br>You can also use the classification_report function, which returns various metrics (including the previously mentioned ones) for each of the\n",
    "classes of the problem."
   ]
  },
  {
   "cell_type": "code",
   "execution_count": 150,
   "metadata": {},
   "outputs": [],
   "source": [
    "def partitionAndTestWithAdvancedMetrics(tree:DecisionTreeClassifier, df:pd.DataFrame, classes:list[str], \n",
    "                                        features:list[str], testPercentage:float, printMatrix:bool=False)->dict[str:float]:\n",
    "        \n",
    "        xTrain, XTest, yTrain, yTest = train_test_split(df.loc[:, features], df.loc[:, classes], test_size=testPercentage)\n",
    "        tree.fit(xTrain, yTrain)\n",
    "        yPred = tree.predict(XTest)\n",
    "        \n",
    "        if printMatrix:\n",
    "                heatmap(confusion_matrix(yTest, yPred), annot=True)\n",
    "        \n",
    "        return {'accuracy_score':accuracy_score(yTest, yPred), 'balanced_accuracy_score':balanced_accuracy_score(yTest, yPred),\n",
    "                'balanced_accuracy_score_adjusted':balanced_accuracy_score(yTest, yPred, adjusted=True), \n",
    "                'f1_score':f1_score(yTest, yPred, labels=[1,2,3], average=None), 'recall_score':recall_score(yTest, yPred, average=None), \n",
    "                'precision_score':precision_score(yTest, yPred, average=None)}"
   ]
  },
  {
   "cell_type": "markdown",
   "metadata": {},
   "source": [
    "### 7 - ADVANCED TREE SETTINGS\n"
   ]
  },
  {
   "cell_type": "markdown",
   "metadata": {},
   "source": [
    "So far, you have only used “default” decision trees, but, the “default” decision tree might not be the best option in terms of performance to fit our dataset. <br>\n",
    "In this exercise, you will perform a “grid search”: you will define a set of possible configurations and, for each configuration, build a classifier. Then, you will test the performance of each classifier and identify that configuration that produces the best model.<br>\n",
    "On the official documentation for DecisionTreeClassifier you can find a list of all parameters you\n",
    "can modify. Identify some of the parameters that, based on your theoretical knowledge of decision\n",
    "trees, might affect the performance of the tree. <br>\n",
    "For each of these parameters, define a set of possible\n",
    "values (the official documentation provides additional information about the possible values that can\n",
    "be used). For example, we can identify these two parameters:\n",
    "<ul>\n",
    "<li><b>max_depth</b>: which defines the maximum depth of the decision tree, can be set to None (i.e.\n",
    "unbounded depth), or to values such as 2, 4, 8 (we already know from previous exercises the\n",
    "approximate depth the tree can reach with this dataset) </li>\n",
    "<li><b>splitter</b>: which can be set to either best (in which case, for each split, the algorithm will try\n",
    "all possible splits), or random (in this case, the algorithm will try N random splits on various\n",
    "features and select the best one)\n",
    "</li>\n",
    "</ul>\n",
    "\n",
    "You can and should identify additional parameters and possible values for them. Then, you can\n",
    "build a parameter dictionary (i.e. a dictionary where keys are parameter names and values are lists\n",
    "of candidate values). Using the ParameterGrid class offered by scikit-learn, you can generate a list\n",
    "of all possible configurations that can be obtained from the parameter dictionary.<br>\n",
    "For each configuration config, we can train a separate model with our training data, and validate\n",
    "it with our test data: for each configuration, compute the resulting accuracy on the test data. Then,\n",
    "select the parameter configuration having highest accuracy.\n"
   ]
  },
  {
   "cell_type": "code",
   "execution_count": 151,
   "metadata": {},
   "outputs": [],
   "source": [
    "def advancedTreeBuilding(df: pd.DataFrame) -> pd.DataFrame:\n",
    "    param = ParameterGrid({\n",
    "        \"max_depth\": [None, 2, 4, 8],\n",
    "        \"splitter\": [\"best\", \"random\"],\n",
    "        \"criterion\":['gini', 'entropy']\n",
    "    })\n",
    "    \n",
    "    ris = (pd.DataFrame(partitionAndTestWithAdvancedMetrics(DecisionTreeClassifier(**param[0]), df, CLASSES, FEATURE_NAMES, TEST_DATA_PERCENTAGE))\n",
    "                .set_index(keys=pd.MultiIndex.from_arrays([[' - '.join([f\"{param[0][k]}\" for k in (\"max_depth\", \"splitter\", \"criterion\")])]*3, [1,2,3]], \n",
    "                                                        names=['configuration [max_depth - splitter - criterion]', 'class'])))\n",
    "    \n",
    "    for i in range(1,len(param)):\n",
    "        ris = pd.concat([ris, pd.DataFrame(partitionAndTestWithAdvancedMetrics(DecisionTreeClassifier(**(param[i])), df, CLASSES, FEATURE_NAMES, TEST_DATA_PERCENTAGE))\n",
    "                .set_index(keys=pd.MultiIndex.from_arrays([[' - '.join([f\"{param[i][k]}\" for k in (\"max_depth\", \"splitter\", \"criterion\")])]*3, [1,2,3]], \n",
    "                                                        names=['configuration [max_depth - splitter - criterion]', 'class']))])\n",
    "    \n",
    "    return ris"
   ]
  },
  {
   "cell_type": "markdown",
   "metadata": {},
   "source": [
    "### 8 - CROSS VALIDATION"
   ]
  },
  {
   "cell_type": "markdown",
   "metadata": {},
   "source": [
    "In the previous exercise, you searched for the best configuration among a list of possible alternatives. <br>\n",
    "Since we used our test data to select the model, you may be overfitting on the test data (you may\n",
    "have selected the configuration that works best for the test set, but which may not be as good on\n",
    "new data). <br>\n",
    "Typically, you do not want to use the test set for tuning the model’s hyperparameters,\n",
    "since the test set should only be used as a final evaluation.<br>\n",
    "For this reason, datasets are typically split into:\n",
    "<ul>\n",
    "<li>Training set: used to create the model.</li>\n",
    "<li>Validation set: used to assess how good each configuration of a classifier is.</li>\n",
    "<li>Test set: used at the end of the hyperparameter tuning, to assess how good our final model is.</li>\n",
    "</ul>\n",
    "<br>\n",
    "However, it often happens that only a limited amount of data is available. In these cases, it is wasteful\n",
    "to only use a small fraction of the dataset for the actual training. In these cases, cross-validation can\n",
    "be used to “get rid” of the validation set. One popular method of is the k-fold cross-validation. <br>\n",
    "In this, the training set is split into k partitions. \n",
    "k − 1 are used for the training, the other one is used validation. This is repeated until all\n",
    "partitions have been used once for validation.\n",
    "<br>\n",
    "For each fold, you can use the training data to train each classifier and measure the performance on the\n",
    "validation data (i.e. X_valid).<br> \n",
    "You can then aggregate the information extracted  and select the best performing model. After\n",
    "you select one model, you can assess its performance on never-before-seen data.\n"
   ]
  },
  {
   "cell_type": "markdown",
   "metadata": {},
   "source": [
    "Functions for building and testing the given model"
   ]
  },
  {
   "cell_type": "code",
   "execution_count": 152,
   "metadata": {},
   "outputs": [],
   "source": [
    "def testMetrics(tree:DecisionTreeClassifier, xTest:pd.DataFrame, yTest:pd.DataFrame, printHeatMap:bool=False)->dict[str:float]:\n",
    "    yPred = tree.predict(xTest)\n",
    "    \n",
    "    if printHeatMap:\n",
    "        heatmap(confusion_matrix(yTest, yPred))\n",
    "        \n",
    "    return {'accuracy_score':accuracy_score(yTest, yPred), 'balanced_accuracy_score':balanced_accuracy_score(yTest, yPred),\n",
    "                'balanced_accuracy_score_adjusted':balanced_accuracy_score(yTest, yPred, adjusted=True), \n",
    "                'f1_score':f1_score(yTest, yPred, labels=[1,2,3], average=None), 'recall_score':recall_score(yTest, yPred, average=None), \n",
    "                'precision_score':precision_score(yTest, yPred, average=None)}\n",
    "\n",
    "\n",
    "def advancedTreeBuilding(xTrain: pd.DataFrame, xTest: pd.DataFrame, yTrain:pd.DataFrame, yTest: pd.DataFrame, \n",
    "                        iter:int) -> pd.DataFrame:\n",
    "    param = ParameterGrid({\n",
    "        \"max_depth\": [None, 2, 4, 8],\n",
    "        \"splitter\": [\"best\", \"random\"],\n",
    "        \"criterion\":['gini', 'entropy']\n",
    "    })\n",
    "    \n",
    "    ris = pd.DataFrame()\n",
    "    \n",
    "    for i in range(len(param)):\n",
    "        if len(ris) <= 1:\n",
    "            ris=(pd.DataFrame(testMetrics(DecisionTreeClassifier(**(param[i])).fit(xTrain, yTrain), xTest, yTest))\n",
    "            .set_index(keys=pd.MultiIndex.from_arrays([[' - '.join([f\"{param[i][k]}\" for k in (\"max_depth\", \"splitter\", \"criterion\")])]*3, [iter]*3, [1,2,3]], \n",
    "                                                            names=['configuration [max_depth - splitter - criterion]', 'iteration','class']))   \n",
    "            )\n",
    "        else:\n",
    "            ris = pd.concat([ris, \n",
    "                            (pd.DataFrame(testMetrics(DecisionTreeClassifier(**(param[i])).fit(xTrain, yTrain), xTest, yTest))\n",
    "            .set_index(keys=pd.MultiIndex.from_arrays([[' - '.join([f\"{param[i][k]}\" for k in (\"max_depth\", \"splitter\", \"criterion\")])]*3, [iter]*3, [1,2,3]], \n",
    "                                                            names=['configuration [max_depth - splitter - criterion]', 'iteration','class']))   \n",
    "            )])\n",
    "    return ris"
   ]
  },
  {
   "cell_type": "markdown",
   "metadata": {},
   "source": [
    "Function for doing the cross validation of our data and the printing on file"
   ]
  },
  {
   "cell_type": "code",
   "execution_count": 153,
   "metadata": {},
   "outputs": [],
   "source": [
    "def crossValidation(df:pd.DataFrame, features:list[str], classes:list[str], testPercentage:float, crossValidationSize:int=5, \n",
    "                    printOnFile: bool=False)->list[pd.DataFrame, pd.DataFrame, pd.DataFrame]:\n",
    "    # Split the datasets into two:\n",
    "    #   X_train_valid: the dataset used for the k-fold cross-validation\n",
    "    #   X_test: the dataset used for the final testing (this will NOT be seen by the classifier during the training/validation phases)\n",
    "    \n",
    "    X_train_valid, X_test, y_train_valid, y_test = train_test_split(df.loc[:, features], df.loc[:, classes], test_size=testPercentage)\n",
    "    \n",
    "    kf = KFold(n_splits=crossValidationSize)\n",
    "\n",
    "    data = pd.DataFrame()\n",
    "\n",
    "    for i, (train_indices, validation_indices) in enumerate(kf.split(X_train_valid)):\n",
    "        xTrain = X_train_valid.iloc[train_indices]\n",
    "        xValid = X_train_valid.iloc[validation_indices]\n",
    "        yTrain = y_train_valid.iloc[train_indices]\n",
    "        yValid = y_train_valid.iloc[validation_indices]\n",
    "        ## To be implemented the hyper maxi df\n",
    "        # with the metrics and the avg and variance\n",
    "        if len(data) <= 1: \n",
    "            data = advancedTreeBuilding(xTrain, xValid, yTrain, yValid, i)\n",
    "        else:\n",
    "            data = pd.concat([data, advancedTreeBuilding(xTrain, xValid, yTrain, yValid, i)])\n",
    "        \n",
    "        \n",
    "    return data, X_test, y_test"
   ]
  },
  {
   "cell_type": "markdown",
   "metadata": {},
   "source": [
    "This function prints the best possible hyper parameters for the configuration of the decision Tree"
   ]
  },
  {
   "cell_type": "code",
   "execution_count": null,
   "metadata": {},
   "outputs": [],
   "source": [
    "def findBestConfiguration(df:pd.DataFrame)->dict[str:float|str]:\n",
    "    pass"
   ]
  },
  {
   "cell_type": "markdown",
   "metadata": {},
   "source": [
    "### MAIN FUNCTION\n"
   ]
  },
  {
   "cell_type": "markdown",
   "metadata": {},
   "source": [
    "this is the main function of our program that will coordinate code execution, it does:\n",
    "<ol>\n",
    "<li>Loads the database into a data structure</li>\n",
    "<li>Creates and trains the classifier</li>\n",
    "<li>Prints the tree</li>\n",
    "<li>Accuracy evaluation for over fitting</li>\n",
    "<li>Model testing with partitioned data set</li>\n",
    "<li>Advanced metrics</li>\n",
    "<li>Advanced and custom tree classifier usage</li>\n",
    "<li>Validating the model trough cross validation</li>\n",
    "<li></li>\n",
    "</ol>"
   ]
  },
  {
   "cell_type": "code",
   "execution_count": 155,
   "metadata": {},
   "outputs": [
    {
     "data": {
      "text/html": [
       "<div>\n",
       "<style scoped>\n",
       "    .dataframe tbody tr th:only-of-type {\n",
       "        vertical-align: middle;\n",
       "    }\n",
       "\n",
       "    .dataframe tbody tr th {\n",
       "        vertical-align: top;\n",
       "    }\n",
       "\n",
       "    .dataframe thead th {\n",
       "        text-align: right;\n",
       "    }\n",
       "</style>\n",
       "<table border=\"1\" class=\"dataframe\">\n",
       "  <thead>\n",
       "    <tr style=\"text-align: right;\">\n",
       "      <th></th>\n",
       "      <th></th>\n",
       "      <th></th>\n",
       "      <th>accuracy_score</th>\n",
       "      <th>balanced_accuracy_score</th>\n",
       "      <th>balanced_accuracy_score_adjusted</th>\n",
       "      <th>f1_score</th>\n",
       "      <th>recall_score</th>\n",
       "      <th>precision_score</th>\n",
       "    </tr>\n",
       "    <tr>\n",
       "      <th>configuration [max_depth - splitter - criterion]</th>\n",
       "      <th>iteration</th>\n",
       "      <th>class</th>\n",
       "      <th></th>\n",
       "      <th></th>\n",
       "      <th></th>\n",
       "      <th></th>\n",
       "      <th></th>\n",
       "      <th></th>\n",
       "    </tr>\n",
       "  </thead>\n",
       "  <tbody>\n",
       "    <tr>\n",
       "      <th rowspan=\"3\" valign=\"top\">None - best - gini</th>\n",
       "      <th rowspan=\"3\" valign=\"top\">0</th>\n",
       "      <th>1</th>\n",
       "      <td>0.827586</td>\n",
       "      <td>0.789744</td>\n",
       "      <td>0.684615</td>\n",
       "      <td>0.880000</td>\n",
       "      <td>1.000000</td>\n",
       "      <td>0.785714</td>\n",
       "    </tr>\n",
       "    <tr>\n",
       "      <th>2</th>\n",
       "      <td>0.827586</td>\n",
       "      <td>0.789744</td>\n",
       "      <td>0.684615</td>\n",
       "      <td>0.833333</td>\n",
       "      <td>0.769231</td>\n",
       "      <td>0.909091</td>\n",
       "    </tr>\n",
       "    <tr>\n",
       "      <th>3</th>\n",
       "      <td>0.827586</td>\n",
       "      <td>0.789744</td>\n",
       "      <td>0.684615</td>\n",
       "      <td>0.666667</td>\n",
       "      <td>0.600000</td>\n",
       "      <td>0.750000</td>\n",
       "    </tr>\n",
       "    <tr>\n",
       "      <th rowspan=\"2\" valign=\"top\">None - random - gini</th>\n",
       "      <th rowspan=\"2\" valign=\"top\">0</th>\n",
       "      <th>1</th>\n",
       "      <td>1.000000</td>\n",
       "      <td>1.000000</td>\n",
       "      <td>1.000000</td>\n",
       "      <td>1.000000</td>\n",
       "      <td>1.000000</td>\n",
       "      <td>1.000000</td>\n",
       "    </tr>\n",
       "    <tr>\n",
       "      <th>2</th>\n",
       "      <td>1.000000</td>\n",
       "      <td>1.000000</td>\n",
       "      <td>1.000000</td>\n",
       "      <td>1.000000</td>\n",
       "      <td>1.000000</td>\n",
       "      <td>1.000000</td>\n",
       "    </tr>\n",
       "    <tr>\n",
       "      <th>...</th>\n",
       "      <th>...</th>\n",
       "      <th>...</th>\n",
       "      <td>...</td>\n",
       "      <td>...</td>\n",
       "      <td>...</td>\n",
       "      <td>...</td>\n",
       "      <td>...</td>\n",
       "      <td>...</td>\n",
       "    </tr>\n",
       "    <tr>\n",
       "      <th rowspan=\"2\" valign=\"top\">8 - best - entropy</th>\n",
       "      <th rowspan=\"2\" valign=\"top\">4</th>\n",
       "      <th>2</th>\n",
       "      <td>1.000000</td>\n",
       "      <td>1.000000</td>\n",
       "      <td>1.000000</td>\n",
       "      <td>1.000000</td>\n",
       "      <td>1.000000</td>\n",
       "      <td>1.000000</td>\n",
       "    </tr>\n",
       "    <tr>\n",
       "      <th>3</th>\n",
       "      <td>1.000000</td>\n",
       "      <td>1.000000</td>\n",
       "      <td>1.000000</td>\n",
       "      <td>1.000000</td>\n",
       "      <td>1.000000</td>\n",
       "      <td>1.000000</td>\n",
       "    </tr>\n",
       "    <tr>\n",
       "      <th rowspan=\"3\" valign=\"top\">8 - random - entropy</th>\n",
       "      <th rowspan=\"3\" valign=\"top\">4</th>\n",
       "      <th>1</th>\n",
       "      <td>0.964286</td>\n",
       "      <td>0.969697</td>\n",
       "      <td>0.954545</td>\n",
       "      <td>0.952381</td>\n",
       "      <td>0.909091</td>\n",
       "      <td>1.000000</td>\n",
       "    </tr>\n",
       "    <tr>\n",
       "      <th>2</th>\n",
       "      <td>0.964286</td>\n",
       "      <td>0.969697</td>\n",
       "      <td>0.954545</td>\n",
       "      <td>0.960000</td>\n",
       "      <td>1.000000</td>\n",
       "      <td>0.923077</td>\n",
       "    </tr>\n",
       "    <tr>\n",
       "      <th>3</th>\n",
       "      <td>0.964286</td>\n",
       "      <td>0.969697</td>\n",
       "      <td>0.954545</td>\n",
       "      <td>1.000000</td>\n",
       "      <td>1.000000</td>\n",
       "      <td>1.000000</td>\n",
       "    </tr>\n",
       "  </tbody>\n",
       "</table>\n",
       "<p>240 rows × 6 columns</p>\n",
       "</div>"
      ],
      "text/plain": [
       "                                                                  accuracy_score  \\\n",
       "configuration [max_depth - splitter - criterion] iteration class                   \n",
       "None - best - gini                               0         1            0.827586   \n",
       "                                                           2            0.827586   \n",
       "                                                           3            0.827586   \n",
       "None - random - gini                             0         1            1.000000   \n",
       "                                                           2            1.000000   \n",
       "...                                                                          ...   \n",
       "8 - best - entropy                               4         2            1.000000   \n",
       "                                                           3            1.000000   \n",
       "8 - random - entropy                             4         1            0.964286   \n",
       "                                                           2            0.964286   \n",
       "                                                           3            0.964286   \n",
       "\n",
       "                                                                  balanced_accuracy_score  \\\n",
       "configuration [max_depth - splitter - criterion] iteration class                            \n",
       "None - best - gini                               0         1                     0.789744   \n",
       "                                                           2                     0.789744   \n",
       "                                                           3                     0.789744   \n",
       "None - random - gini                             0         1                     1.000000   \n",
       "                                                           2                     1.000000   \n",
       "...                                                                                   ...   \n",
       "8 - best - entropy                               4         2                     1.000000   \n",
       "                                                           3                     1.000000   \n",
       "8 - random - entropy                             4         1                     0.969697   \n",
       "                                                           2                     0.969697   \n",
       "                                                           3                     0.969697   \n",
       "\n",
       "                                                                  balanced_accuracy_score_adjusted  \\\n",
       "configuration [max_depth - splitter - criterion] iteration class                                     \n",
       "None - best - gini                               0         1                              0.684615   \n",
       "                                                           2                              0.684615   \n",
       "                                                           3                              0.684615   \n",
       "None - random - gini                             0         1                              1.000000   \n",
       "                                                           2                              1.000000   \n",
       "...                                                                                            ...   \n",
       "8 - best - entropy                               4         2                              1.000000   \n",
       "                                                           3                              1.000000   \n",
       "8 - random - entropy                             4         1                              0.954545   \n",
       "                                                           2                              0.954545   \n",
       "                                                           3                              0.954545   \n",
       "\n",
       "                                                                  f1_score  \\\n",
       "configuration [max_depth - splitter - criterion] iteration class             \n",
       "None - best - gini                               0         1      0.880000   \n",
       "                                                           2      0.833333   \n",
       "                                                           3      0.666667   \n",
       "None - random - gini                             0         1      1.000000   \n",
       "                                                           2      1.000000   \n",
       "...                                                                    ...   \n",
       "8 - best - entropy                               4         2      1.000000   \n",
       "                                                           3      1.000000   \n",
       "8 - random - entropy                             4         1      0.952381   \n",
       "                                                           2      0.960000   \n",
       "                                                           3      1.000000   \n",
       "\n",
       "                                                                  recall_score  \\\n",
       "configuration [max_depth - splitter - criterion] iteration class                 \n",
       "None - best - gini                               0         1          1.000000   \n",
       "                                                           2          0.769231   \n",
       "                                                           3          0.600000   \n",
       "None - random - gini                             0         1          1.000000   \n",
       "                                                           2          1.000000   \n",
       "...                                                                        ...   \n",
       "8 - best - entropy                               4         2          1.000000   \n",
       "                                                           3          1.000000   \n",
       "8 - random - entropy                             4         1          0.909091   \n",
       "                                                           2          1.000000   \n",
       "                                                           3          1.000000   \n",
       "\n",
       "                                                                  precision_score  \n",
       "configuration [max_depth - splitter - criterion] iteration class                   \n",
       "None - best - gini                               0         1             0.785714  \n",
       "                                                           2             0.909091  \n",
       "                                                           3             0.750000  \n",
       "None - random - gini                             0         1             1.000000  \n",
       "                                                           2             1.000000  \n",
       "...                                                                           ...  \n",
       "8 - best - entropy                               4         2             1.000000  \n",
       "                                                           3             1.000000  \n",
       "8 - random - entropy                             4         1             1.000000  \n",
       "                                                           2             0.923077  \n",
       "                                                           3             1.000000  \n",
       "\n",
       "[240 rows x 6 columns]"
      ]
     },
     "metadata": {},
     "output_type": "display_data"
    },
    {
     "ename": "TypeError",
     "evalue": "findBestConfiguration() takes 0 positional arguments but 1 was given",
     "output_type": "error",
     "traceback": [
      "\u001b[1;31m---------------------------------------------------------------------------\u001b[0m",
      "\u001b[1;31mTypeError\u001b[0m                                 Traceback (most recent call last)",
      "Cell \u001b[1;32mIn[155], line 25\u001b[0m\n\u001b[0;32m     20\u001b[0m         metrics\u001b[38;5;241m.\u001b[39mto_csv(path_or_buf\u001b[38;5;241m=\u001b[39mOUTPUT_CSV_PATH)\n\u001b[0;32m     22\u001b[0m     testMetrics(findBestConfiguration(metrics), xTest, yTest, \u001b[38;5;28;01mTrue\u001b[39;00m)\n\u001b[1;32m---> 25\u001b[0m \u001b[43mmain\u001b[49m\u001b[43m(\u001b[49m\u001b[43m)\u001b[49m\n",
      "Cell \u001b[1;32mIn[155], line 22\u001b[0m, in \u001b[0;36mmain\u001b[1;34m()\u001b[0m\n\u001b[0;32m     19\u001b[0m \u001b[38;5;28;01mif\u001b[39;00m PRINT_METRIC_ANALYSIS_TO_CSV:\n\u001b[0;32m     20\u001b[0m     metrics\u001b[38;5;241m.\u001b[39mto_csv(path_or_buf\u001b[38;5;241m=\u001b[39mOUTPUT_CSV_PATH)\n\u001b[1;32m---> 22\u001b[0m testMetrics(\u001b[43mfindBestConfiguration\u001b[49m\u001b[43m(\u001b[49m\u001b[43mmetrics\u001b[49m\u001b[43m)\u001b[49m, xTest, yTest, \u001b[38;5;28;01mTrue\u001b[39;00m)\n",
      "\u001b[1;31mTypeError\u001b[0m: findBestConfiguration() takes 0 positional arguments but 1 was given"
     ]
    }
   ],
   "source": [
    "def main()->None:\n",
    "    df = loadDataBase(DATA_INPUT_FILE, CLASSES+FEATURE_NAMES) # 1\n",
    "    # AnsQuestionPart1(df) # 1\n",
    "    \n",
    "    tree = createAndTrainTree(df, FEATURE_NAMES, classes=['class']) # 2\n",
    "    \n",
    "    # printTree(tree, FEATURE_NAMES, False) # 3\n",
    "    \n",
    "    # print(\"'DUMB' Accuracy of the model \", testOverFittingValues(tree, df, CLASSES, FEATURE_NAMES, accuracy_score)) # 4\n",
    "    \n",
    "    # print(\"final accuracy = \", partitionAndTest(DecisionTreeClassifier(), df, CLASSES, FEATURE_NAMES, TEST_DATA_PERCENTAGE)) # 5\n",
    "    \n",
    "    # display(pd.DataFrame(partitionAndTestWithAdvancedMetrics(DecisionTreeClassifier(), df, CLASSES, FEATURE_NAMES, TEST_DATA_PERCENTAGE, True))) # 6\n",
    "    \n",
    "    # display(advancedTreeBuilding(df)) # 7\n",
    "    \n",
    "    (metrics, xTest, yTest) = crossValidation(df, FEATURE_NAMES, CLASSES, TEST_DATA_PERCENTAGE)\n",
    "    display(metrics)\n",
    "    if PRINT_METRIC_ANALYSIS_TO_CSV:\n",
    "        metrics.to_csv(path_or_buf=OUTPUT_CSV_PATH)\n",
    "    \n",
    "    testMetrics(findBestConfiguration(metrics), xTest, yTest, True)\n",
    "    \n",
    "    \n",
    "main()"
   ]
  },
  {
   "cell_type": "code",
   "execution_count": null,
   "metadata": {},
   "outputs": [],
   "source": []
  },
  {
   "cell_type": "code",
   "execution_count": null,
   "metadata": {},
   "outputs": [],
   "source": []
  }
 ],
 "metadata": {
  "kernelspec": {
   "display_name": ".venv",
   "language": "python",
   "name": "python3"
  },
  "language_info": {
   "codemirror_mode": {
    "name": "ipython",
    "version": 3
   },
   "file_extension": ".py",
   "mimetype": "text/x-python",
   "name": "python",
   "nbconvert_exporter": "python",
   "pygments_lexer": "ipython3",
   "version": "3.12.0"
  }
 },
 "nbformat": 4,
 "nbformat_minor": 2
}
