{
 "cells": [
  {
   "cell_type": "markdown",
   "metadata": {},
   "source": [
    "### MODULES\n",
    "All the modules, constant, imports and libraries used"
   ]
  },
  {
   "cell_type": "code",
   "execution_count": null,
   "metadata": {},
   "outputs": [],
   "source": [
    "import pandas as pd\n",
    "\n",
    "FILE_INPUT_TSV = 'pois_all_info'\n",
    "INPUT_IDS = 'ny_municipality_pois_id.csv'"
   ]
  },
  {
   "cell_type": "markdown",
   "metadata": {},
   "source": [
    "### READS THE MUNICIPALITY FILE\n",
    "Reads the file containing the id of all the elements inside the municipality of New York. <br>\n",
    "The file is organized as it follows: \n",
    "<ul>\n",
    "<li>one id per row, where each id is a POI in New York municipality</li>\n",
    "</ul>\n",
    "Returns:\n",
    "<ul>\n",
    "<li>The set of IDs</li>\n",
    "</ul>"
   ]
  },
  {
   "cell_type": "code",
   "execution_count": null,
   "metadata": {},
   "outputs": [],
   "source": [
    "def readIds(file:str)->set[str]:\n",
    "    "
   ]
  },
  {
   "cell_type": "markdown",
   "metadata": {},
   "source": [
    "### READ TSV FILE\n",
    "Reads the tsv file containing all the info, the file is organized as it follows:\n",
    "<ul>\n",
    "<li>@id: a unique id for each point of interest.</li>\n",
    "<li>@lat: latitude coordinate of the POI in decimal degrees.</li>\n",
    "<li>@lon: longitude coordinate of the POI in decimal degrees.</li>\n",
    "<li>amenity name: if the POI category is amenity its type is reported in this field.</li>\n",
    "<li>shop: if the POI category is shop its type is reported in this field.\n",
    "<li>public_transport: if the POI category is public transport its type is reported in this field.</li>\n",
    "<li>highway: if the POI category is highway its type is reported in this field.</li>\n",
    "</ul>\n",
    "\n",
    "Returns a dataFrame"
   ]
  },
  {
   "cell_type": "code",
   "execution_count": null,
   "metadata": {},
   "outputs": [],
   "source": []
  },
  {
   "cell_type": "markdown",
   "metadata": {},
   "source": []
  },
  {
   "cell_type": "code",
   "execution_count": null,
   "metadata": {},
   "outputs": [],
   "source": []
  },
  {
   "cell_type": "markdown",
   "metadata": {},
   "source": []
  },
  {
   "cell_type": "code",
   "execution_count": null,
   "metadata": {},
   "outputs": [],
   "source": []
  },
  {
   "cell_type": "markdown",
   "metadata": {},
   "source": [
    "## MAIN FUNCTION\n",
    "This is the main function of the file that will control the flow of the program\n"
   ]
  },
  {
   "cell_type": "code",
   "execution_count": null,
   "metadata": {},
   "outputs": [],
   "source": []
  }
 ],
 "metadata": {
  "kernelspec": {
   "display_name": ".venv",
   "language": "python",
   "name": "python3"
  },
  "language_info": {
   "name": "python",
   "version": "3.12.0"
  }
 },
 "nbformat": 4,
 "nbformat_minor": 2
}
