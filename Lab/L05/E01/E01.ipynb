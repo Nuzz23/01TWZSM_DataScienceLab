{
 "cells": [
  {
   "cell_type": "markdown",
   "metadata": {},
   "source": [
    "### MODULES\n",
    "All the modules, constant, imports and libraries used"
   ]
  },
  {
   "cell_type": "code",
   "execution_count": 8,
   "metadata": {},
   "outputs": [],
   "source": [
    "import pandas as pd\n",
    "import numpy as np\n",
    "\n",
    "FILE_INPUT_TSV = 'pois_all_info'\n",
    "INPUT_IDS = 'ny_municipality_pois_id.csv'\n",
    "PERCENTAGE_TO_PRINT_DATA = 0.20"
   ]
  },
  {
   "cell_type": "markdown",
   "metadata": {},
   "source": [
    "### READS THE MUNICIPALITY FILE\n",
    "Reads the file containing the id of all the elements inside the municipality of New York. <br>\n",
    "The file is organized as it follows: \n",
    "<ul>\n",
    "<li>one id per row, where each id is a POI in New York municipality</li>\n",
    "</ul>\n",
    "Returns:\n",
    "<ul>\n",
    "<li>The list of IDs</li>\n",
    "</ul>"
   ]
  },
  {
   "cell_type": "code",
   "execution_count": 9,
   "metadata": {},
   "outputs": [],
   "source": [
    "def readIds(file:str)->list[str]:\n",
    "    \"\"\"reads the id of the municipality of New York\n",
    "\n",
    "    Args:\n",
    "        file (str): the path of the file containing the IDs\n",
    "\n",
    "    Returns:\n",
    "        list[str]: the list of ids\n",
    "    \"\"\"\n",
    "    with open(file, \"r\", encoding='UTF-8') as fp:\n",
    "        return [int(row.strip()) for row in fp]"
   ]
  },
  {
   "cell_type": "markdown",
   "metadata": {},
   "source": [
    "### READ TSV FILE\n",
    "Reads the tsv file containing all the filtered data, the file is organized as it follows:\n",
    "<ul>\n",
    "<li>@id: a unique id for each point of interest.</li>\n",
    "<li>@lat: latitude coordinate of the POI in decimal degrees.</li>\n",
    "<li>@lon: longitude coordinate of the POI in decimal degrees.</li>\n",
    "<li>amenity name: if the POI category is amenity its type is reported in this field.</li>\n",
    "<li>shop: if the POI category is shop its type is reported in this field.\n",
    "<li>public_transport: if the POI category is public transport its type is reported in this field.</li>\n",
    "<li>highway: if the POI category is highway its type is reported in this field.</li>\n",
    "</ul>\n",
    "\n",
    "The function requires as inputs:\n",
    "<ol>\n",
    "<li>The path to the file containing all the data of POI</li>\n",
    "<li>The path to the file containing all the ids of the POI in NY municipality</li>\n",
    "</ol>\n",
    "\n",
    "Returns:\n",
    "<ol>\n",
    "<li>A dataFrame containing the mentioned columns and that uses @id as index</li>\n",
    "</ol>"
   ]
  },
  {
   "cell_type": "code",
   "execution_count": 10,
   "metadata": {},
   "outputs": [],
   "source": [
    "def readPOIs(dataFile:str, POIsUnique:str)->pd.DataFrame:\n",
    "       \"\"\"\n",
    "       Reads the data and saves them into a pandas dataFrame\n",
    "\n",
    "       Args:\n",
    "           dataFile (str): the file of the path containing the TSV\n",
    "           POIsUnique (str): the file containing the IDs of New York\n",
    "\n",
    "       Returns:\n",
    "           DataFrame (pd.DataFrame): The data frame containing all the given data of the municipality of New York\n",
    "       \"\"\"\n",
    "       return (pd.read_csv(dataFile, sep='\\t', header=0, encoding='UTF-8', \n",
    "                       dtype={'@id':int, 'name':str, 'amenity':str,'shop':str, \n",
    "                              'public_transport':str,'highway':str}, \n",
    "                       index_col='@id')\n",
    "            ).loc[readIds(POIsUnique)]"
   ]
  },
  {
   "cell_type": "markdown",
   "metadata": {},
   "source": [
    "### PLOTS THE HISTOGRAM OF ALL POIs\n",
    "\n",
    "This function plots the histogram of all the columns here\n"
   ]
  },
  {
   "cell_type": "code",
   "execution_count": null,
   "metadata": {},
   "outputs": [],
   "source": [
    "def plotPOIHistogram(df:pd.DataFrame, percentage:float, columns:set[str])->None:\n",
    "    for i in columns:\n",
    "        print(i)"
   ]
  },
  {
   "cell_type": "markdown",
   "metadata": {},
   "source": []
  },
  {
   "cell_type": "code",
   "execution_count": null,
   "metadata": {},
   "outputs": [],
   "source": []
  },
  {
   "cell_type": "markdown",
   "metadata": {},
   "source": [
    "## MAIN FUNCTION\n",
    "This is the main function of the file that will control the flow of the program, it executes what follows:\n",
    "<ol>\n",
    "<li>Reads the file containing all POIs (already filtered)</li>\n",
    "<li>Plots the histogram of the distribution types only for data above a certain threshold</li>\n",
    "<li></li>\n",
    "<li></li>\n",
    "<li></li>\n",
    "<li></li>\n",
    "</ol>\n"
   ]
  },
  {
   "cell_type": "code",
   "execution_count": null,
   "metadata": {},
   "outputs": [
    {
     "name": "stdout",
     "output_type": "stream",
     "text": [
      "@type\n",
      "@lat\n",
      "@lon\n",
      "amenity\n",
      "name\n",
      "shop\n",
      "public_transport\n",
      "highway\n"
     ]
    }
   ],
   "source": [
    "def main()->None:\n",
    "    pois = readPOIs(FILE_INPUT_TSV, INPUT_IDS)\n",
    "    plotPOIHistogram(pois, PERCENTAGE_TO_PRINT_DATA,{\"amenity\", 'shop', 'public_transport', 'highway'})\n",
    "    \n",
    "    \n",
    "main()"
   ]
  },
  {
   "cell_type": "code",
   "execution_count": null,
   "metadata": {},
   "outputs": [],
   "source": []
  }
 ],
 "metadata": {
  "kernelspec": {
   "display_name": ".venv",
   "language": "python",
   "name": "python3"
  },
  "language_info": {
   "codemirror_mode": {
    "name": "ipython",
    "version": 3
   },
   "file_extension": ".py",
   "mimetype": "text/x-python",
   "name": "python",
   "nbconvert_exporter": "python",
   "pygments_lexer": "ipython3",
   "version": "3.12.0"
  }
 },
 "nbformat": 4,
 "nbformat_minor": 2
}
