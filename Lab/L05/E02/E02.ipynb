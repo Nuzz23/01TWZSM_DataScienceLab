{
 "cells": [
  {
   "cell_type": "markdown",
   "metadata": {},
   "source": [
    "### 0 - MODULES\n",
    "\n",
    "all modules, libraries, imports and constant used in this program"
   ]
  },
  {
   "cell_type": "code",
   "execution_count": 321,
   "metadata": {},
   "outputs": [],
   "source": [
    "import pandas as pd\n",
    "import matplotlib.pyplot as plt\n",
    "\n",
    "FLIGHT_DELAY_INPUT = \"FlightSchedule.csv\" \n",
    "TOL = 0.0001"
   ]
  },
  {
   "cell_type": "markdown",
   "metadata": {},
   "source": [
    "<h3> 1 - READ FLIGHT DETAIL</h3>\n",
    "\n",
    "This function reads the flight detail from the csv file, <br> the file is organized as:\n",
    "<ol>\n",
    "<li>FL_DATE: day of the flight in format YYYY-mm-dd.</li>\n",
    "<li>TAIL_NUM: aircraft registration number, unique to a single aircraft.</li>\n",
    "<li>UNIQUE_CARRIER: flight carrier id.</li>\n",
    "<li>FL_NUM: number of the flight</li>\n",
    "<li>ORIGIN: departure airport code.</li>\n",
    "<li>DEST: destination airport code.</li>\n",
    "<li>CRS_DEP_TIME: scheduled departure time (local time: HHMM) shown in the carriers’ Computerized\n",
    "Reservations Systems (CRS)</li>\n",
    "<li>DEP_TIME: actual departure time (local time: HHMM)</li>\n",
    "<li>DEP_DELAY: overall delay at departure. Difference in minutes (floating point number) between scheduled and actual departure time. Early departures set to 0.</li>\n",
    "<li>CRS_ARR_TIME: scheduled arrival time (local time: HHMM) shown in the carriers’ Computerized\n",
    "Reservations Systems (CRS)</li>\n",
    "<li>ARR_TIME: actual arrival time (local time: HHMM)</li>\n",
    "<li>ARR_DELAY: overall delay. Difference in minutes (floating point number) between scheduled and\n",
    "actual arrival time. Early arrivals show negative numbers.</li>\n",
    "<li>CARRIER_DELAY: delay in minutes (floating point number) caused by the carrier</li>\n",
    "<li>WEATHER_DELAY: delay in minutes (floating point number) caused by the weather.</li>\n",
    "<li>NAS_DELAY: delay in minutes (floating point number) caused by the National Air System (NAS).</li>\n",
    "<li>SECURITY_DELAY: delay in minutes (floating point number) caused by the security</li>\n",
    "<li>LATE_AIRCRAFT_DELAY: delay in minutes (floating point number) caused by the aircraft</li>\n",
    "<li>There are some other fields in this dataset</li>\n",
    "</ol>\n",
    "Returns the pandas dataFrame filtering out the last column"
   ]
  },
  {
   "cell_type": "code",
   "execution_count": 322,
   "metadata": {},
   "outputs": [],
   "source": [
    "import numpy as np\n",
    "def readFileInputFlight(file:str)->pd.DataFrame:\n",
    "    return pd.read_csv(file).iloc[:, :-1]"
   ]
  },
  {
   "cell_type": "markdown",
   "metadata": {},
   "source": [
    "### 2 - ANSWER THE FOLLOWING QUESTION\n",
    "\n",
    "Use the info() and describe() methods to analyze how your records are distributed. <br>\n",
    "Before continuing, try to answer the following questions:\n",
    "<ol>\n",
    "<li>which type does each column have?</li>\n",
    "<li>are there any missing values?</li>\n",
    "<li>how many unique carriers are present?</li>\n",
    "<li>how many unique airports are present?</li>\n",
    "<li>from which time interval data were collected?</li>\n",
    "</ol>"
   ]
  },
  {
   "cell_type": "code",
   "execution_count": 323,
   "metadata": {},
   "outputs": [],
   "source": [
    "def answerQuestion(df:pd.DataFrame)->None:\n",
    "    df.info() # 1\n",
    "\n",
    "    df.describe() #2\n",
    "    \n",
    "    temp = df.loc[:, \"UNIQUE_CARRIER\"].unique()\n",
    "    display(temp)\n",
    "    print(len(temp))\n",
    "\n",
    "    temp = (df.loc[:, \"ORIGIN_AIRPORT_ID\"] + df.loc[:, \"DEST_AIRPORT_ID\"]).unique() #4\n",
    "    display(temp)\n",
    "    print(len(temp))\n",
    "\n",
    "    print(min(df.loc[:, \"FL_DATE\"]), max(df.loc[:, \"FL_DATE\"])) # 5\n",
    "    \n",
    "    "
   ]
  },
  {
   "cell_type": "markdown",
   "metadata": {},
   "source": [
    "### 3 - Filter out all canceled flight\n",
    "\n",
    "This function filters out all the canceled flight from the dataFrame"
   ]
  },
  {
   "cell_type": "code",
   "execution_count": 324,
   "metadata": {},
   "outputs": [],
   "source": [
    "def filterCancelFlight(df:pd.DataFrame)->pd.DataFrame:\n",
    "    return df[df.loc[:, 'CANCELLED'] < TOL].drop(columns=['CANCELLED', 'CANCELLATION_CODE'])"
   ]
  },
  {
   "cell_type": "markdown",
   "metadata": {},
   "source": [
    "### 4 - QUERIES \n",
    "Use any pandas method and functionality to answer the following queries:\n",
    "- how many flights had each carrier operated?\n",
    "- for each carrier, compute the mean delay considering all possible reasons (due to the carrier,\n",
    "weather, etc.)\n"
   ]
  },
  {
   "cell_type": "code",
   "execution_count": 325,
   "metadata": {},
   "outputs": [],
   "source": [
    "def meanCarriersDelay(df: pd.DataFrame, vers:bool)->pd.Series:\n",
    "    if vers:\n",
    "        return (df.loc[:, [col for col in df.columns if 'delay' in col.strip().lower()]]\n",
    "            .set_index(keys=df.loc[:, 'UNIQUE_CARRIER']).sum(axis=1, numeric_only=True)\n",
    "            .groupby(['UNIQUE_CARRIER'], axis=0)\n",
    "            .mean(numeric_only=True)) \n",
    "    else:\n",
    "        return (df.loc[:, ['UNIQUE_CARRIER']+[col for col in df.columns if 'delay' in col.strip().lower()]]\n",
    "            .groupby(['UNIQUE_CARRIER']).mean(numeric_only=True)) \n",
    "\n",
    "\n",
    "def queries(df:pd.DataFrame) -> None:\n",
    "    print(\"Unique Carriers flight\")\n",
    "    ans = df.loc[:, 'UNIQUE_CARRIER'].value_counts()\n",
    "    for k in ans.index:\n",
    "        print(k, '\\t', ans[k])\n",
    "        \n",
    "    print(\"Mean delay for carriers \")\n",
    "    display(meanCarriersDelay(df, False))"
   ]
  },
  {
   "cell_type": "markdown",
   "metadata": {},
   "source": [
    "### 5 - Adding columns\n",
    "add two new columns to your DataFrame:\n",
    "- weekday: it is the day of the week expressed as an integer number. Check out Pandas dayofweek\n",
    "attribute.\n",
    "- delaydelta: it is the difference between the arrival delay and the departure one."
   ]
  },
  {
   "cell_type": "code",
   "execution_count": 326,
   "metadata": {},
   "outputs": [],
   "source": [
    "def addWeekDay(df:pd.DataFrame)->None:\n",
    "    df.insert(loc=1, column='DayOfWeek', value=pd.Series(pd.to_datetime(df.loc[:, \"FL_DATE\"].values)).dt.day_name())\n",
    "    \n",
    "def addDelayDelta(df: pd.DataFrame)->None:\n",
    "    df.insert(loc=26, column='DelayDelta', value=df.loc[:, 'ARR_DELAY']-df.loc[:, 'DEP_DELAY'])"
   ]
  },
  {
   "cell_type": "markdown",
   "metadata": {},
   "source": [
    "### 6 - Correlation between delay and day of the week\n",
    "Choose one of the visualization tools that you know and inspect the arrival delay as a function of the\n",
    "day of the week. Can you find any correlation?"
   ]
  },
  {
   "cell_type": "code",
   "execution_count": 327,
   "metadata": {},
   "outputs": [],
   "source": [
    "def mappingFloatDelay(delay:float)->str:\n",
    "    if delay < 5:\n",
    "        return 'no delay'\n",
    "    elif 5 <= delay <= 30:\n",
    "        return 'small delay'\n",
    "    elif 30 < delay < 60:\n",
    "        return 'medium delay'\n",
    "    else:\n",
    "        return 'severe delay' \n",
    "\n",
    "def delayByDayOfWeek(df:pd.DataFrame, )->None:\n",
    "    df['DelayCategory'] = df['ARR_DELAY'].apply(mappingFloatDelay)\n",
    "    \n",
    "    (df.groupby(['DayOfWeek', 'DelayCategory']).size().unstack().fillna(0) \n",
    "    .drop(labels='no delay', axis=1)\n",
    "    .plot(kind='bar', stacked=False))\n",
    "    \n",
    "    plt.xlabel('Day of the Week')\n",
    "    plt.ylabel('Count of Delays')\n",
    "    plt.title('Delay Categories by Day of the Week')\n",
    "    plt.legend(title='Delay Category')\n",
    "    plt.show()\n",
    "    \n",
    "    df.drop(['DelayCategory'])    "
   ]
  },
  {
   "cell_type": "markdown",
   "metadata": {},
   "source": [
    "### 7 - WeekEnd Stats\n",
    "\n",
    "Consider the weekend days only, compute, for each carrier, the mean arrival delay. <br>\n",
    "Now consider the working days and compute, for each carrier, the mean arrival time.\n",
    "<br>Then, compare the delays in working days and in weekends for each company.\n",
    "<br>Are you able to identify companies that are delayed only in weekends or only in working days?\n",
    "Why?\n"
   ]
  },
  {
   "cell_type": "code",
   "execution_count": null,
   "metadata": {},
   "outputs": [],
   "source": [
    "def meanArrivalDelayTime(df:pd.DataFrame, days:list[str], col:str)->None:\n",
    "    temp = df.loc[:, ['UNIQUE_CARRIER', 'DayOfWeek', col]]\n",
    "    display(temp[temp['DayOfWeek'].isin(days)].groupby(['UNIQUE_CARRIER', 'DayOfWeek']).mean(numeric_only=True).unstack())\n",
    "    \n",
    "\n",
    "def meanArrivalArrivalTime(df: pd.DataFrame, daysToAvoid: list[str])->None:\n",
    "    df['DELTA_TIME'] = df.loc[:, 'ARR_TIME']-df.loc[:, 'DEP_TIME']\n",
    "    temp = df.loc[:, ['UNIQUE_CARRIER', 'DayOfWeek', 'DELTA_TIME']]\n",
    "    display(temp[~temp['DayOfWeek'].isin(daysToAvoid)].groupby(['UNIQUE_CARRIER', 'DayOfWeek']).mean(numeric_only=True).unstack())\n",
    "    \n",
    "    \n",
    "def compareDelayByDayOfWeek(df: pd.DataFrame, weekEnd:list[str])->None:\n",
    "    temp = df.loc[:, ['UNIQUE_CARRIER', 'DayOfWeek', 'DelayDelta']]\n",
    "    temp = (temp[temp['DayOfWeek'].isin(weekEnd)].rename(columns={'DelayDelta':'WeekEndDelay'}, inplace=False).groupby(['UNIQUE_CARRIER']).agg({'WeekEndDelay':['min', 'max', 'sum', 'mean']})\n",
    "    .join(+temp[~temp['DayOfWeek'].isin(weekEnd)].rename(columns={'DelayDelta':'WeekDelay'}, inplace=False).groupby(['UNIQUE_CARRIER']).agg({'WeekDelay':['min', 'max', 'sum', 'mean']})))\n",
    "    display(temp)\n",
    "    display(temp.agg('min', axis=0).unstack())"
   ]
  },
  {
   "cell_type": "markdown",
   "metadata": {},
   "source": [
    "### 8 - Multi Index\n",
    "Create a Pandas DataFrame with a multi-index composed of the columns: tunique_carrier, origin,\n",
    "dest, fl_date."
   ]
  },
  {
   "cell_type": "code",
   "execution_count": 351,
   "metadata": {},
   "outputs": [],
   "source": [
    "def multiIndex(df:pd.DataFrame, indexes:list[str])->pd.DataFrame:\n",
    "    return df.set_index(keys=indexes)"
   ]
  },
  {
   "cell_type": "markdown",
   "metadata": {},
   "source": [
    "### 9 - Queries\n",
    "For each flight operated by American Airlines (AA) and Delta Airlines (DL), taken off from the Los\n",
    "Angeles International Airport (LAX) and for each date, display the departure time and delay.\n"
   ]
  },
  {
   "cell_type": "code",
   "execution_count": 360,
   "metadata": {},
   "outputs": [],
   "source": [
    "def queriesAAandDL(df:pd.DataFrame)->None:\n",
    "    print(df.index)"
   ]
  },
  {
   "cell_type": "markdown",
   "metadata": {},
   "source": [
    "### MAIN FUNCTION\n",
    "This is the main function of our program, it does:\n",
    "<ol>\n",
    "<li>Read the input flight file</li>\n",
    "<li>Answers a set of questions</li>\n",
    "<li>Filters out the cancelled flights</li>\n",
    "<li>Answers a set of queries</li>\n",
    "<li>Adds two new columns to the dataFrame</li>\n",
    "</ol>"
   ]
  },
  {
   "cell_type": "code",
   "execution_count": 361,
   "metadata": {},
   "outputs": [
    {
     "name": "stdout",
     "output_type": "stream",
     "text": [
      "MultiIndex([('AA',          'New York, NY',       'Los Angeles, CA', ...),\n",
      "            ('AA',       'Los Angeles, CA',          'New York, NY', ...),\n",
      "            ('AA',       'Los Angeles, CA',          'New York, NY', ...),\n",
      "            ('AA', 'Dallas/Fort Worth, TX',          'Honolulu, HI', ...),\n",
      "            ('AA',           'Kahului, HI', 'Dallas/Fort Worth, TX', ...),\n",
      "            ('AA', 'Dallas/Fort Worth, TX',           'Kahului, HI', ...),\n",
      "            ('AA',          'Honolulu, HI', 'Dallas/Fort Worth, TX', ...),\n",
      "            ('AA',          'New York, NY',     'San Francisco, CA', ...),\n",
      "            ('AA',       'Los Angeles, CA',          'New York, NY', ...),\n",
      "            ('AA',     'San Francisco, CA',          'New York, NY', ...),\n",
      "            ...\n",
      "            ('DL',        'Fort Myers, FL',           'Atlanta, GA', ...),\n",
      "            ('DL',             'Omaha, NE',           'Atlanta, GA', ...),\n",
      "            ('DL',          'New York, NY',           'Orlando, FL', ...),\n",
      "            ('DL',           'Atlanta, GA',        'Pittsburgh, PA', ...),\n",
      "            ('DL',          'New York, NY',           'Detroit, MI', ...),\n",
      "            ('DL',    'Salt Lake City, UT',       'Minneapolis, MN', ...),\n",
      "            ('DL',           'Atlanta, GA',        'Huntsville, AL', ...),\n",
      "            ('DL',        'Huntsville, AL',           'Atlanta, GA', ...),\n",
      "            ('DL',         'Lafayette, LA',           'Atlanta, GA', ...),\n",
      "            ('DL', 'Charleston/Dunbar, WV',           'Atlanta, GA', ...)],\n",
      "           names=['UNIQUE_CARRIER', 'ORIGIN_CITY_NAME', 'DEST_CITY_NAME', 'FL_DATE'], length=441131)\n"
     ]
    }
   ],
   "source": [
    "def main()->None:\n",
    "    df = readFileInputFlight(FLIGHT_DELAY_INPUT) # 1\n",
    "    #answerQuestion(df) # 2\n",
    "    df = filterCancelFlight(df) # 3\n",
    "    df = df.reindex(index=list(range(len(df))))\n",
    "    # queries(df) # 4\n",
    "    addWeekDay(df) # 5\n",
    "    addDelayDelta(df) # 5\n",
    "    # delayByDayOfWeek(df) # 6\n",
    "    # meanArrivalDelayTime(df, ['Saturday','Sunday'], 'ARR_DELAY') # 7\n",
    "    # meanArrivalArrivalTime(df, ['Saturday', 'Sunday']) # 7\n",
    "    #compareDelayByDayOfWeek(df,['Saturday', 'Sunday']) # 7\n",
    "    df = multiIndex(df, [\"UNIQUE_CARRIER\", \"ORIGIN_CITY_NAME\", \"DEST_CITY_NAME\",\"FL_DATE\"]) # 8\n",
    "    queriesAAandDL(df) #9\n",
    "    \n",
    "main()"
   ]
  },
  {
   "cell_type": "code",
   "execution_count": null,
   "metadata": {},
   "outputs": [],
   "source": []
  }
 ],
 "metadata": {
  "kernelspec": {
   "display_name": ".venv",
   "language": "python",
   "name": "python3"
  },
  "language_info": {
   "codemirror_mode": {
    "name": "ipython",
    "version": 3
   },
   "file_extension": ".py",
   "mimetype": "text/x-python",
   "name": "python",
   "nbconvert_exporter": "python",
   "pygments_lexer": "ipython3",
   "version": "3.12.0"
  }
 },
 "nbformat": 4,
 "nbformat_minor": 2
}
