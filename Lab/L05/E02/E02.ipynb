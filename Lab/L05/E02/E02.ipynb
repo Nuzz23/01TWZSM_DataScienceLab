{
 "cells": [
  {
   "cell_type": "markdown",
   "metadata": {},
   "source": [
    "### 0 - MODULES\n",
    "\n",
    "all modules, libraries, imports and constant used in this program"
   ]
  },
  {
   "cell_type": "code",
   "execution_count": 29,
   "metadata": {},
   "outputs": [],
   "source": [
    "import pandas as pd\n",
    "\n",
    "FLIGHT_DELAY_INPUT = \"FlightSchedule.csv\" "
   ]
  },
  {
   "cell_type": "markdown",
   "metadata": {},
   "source": [
    "<h3> 1 - READ FLIGHT DETAIL</h3>\n",
    "\n",
    "This function reads the flight detail from the csv file, <br> the file is organized as:\n",
    "<ol>\n",
    "<li>FL_DATE: day of the flight in format YYYY-mm-dd.</li>\n",
    "<li>TAIL_NUM: aircraft registration number, unique to a single aircraft.</li>\n",
    "<li>UNIQUE_CARRIER: flight carrier id.</li>\n",
    "<li>FL_NUM: number of the flight</li>\n",
    "<li>ORIGIN: departure airport code.</li>\n",
    "<li>DEST: destination airport code.</li>\n",
    "<li>CRS_DEP_TIME: scheduled departure time (local time: HHMM) shown in the carriers’ Computerized\n",
    "Reservations Systems (CRS)</li>\n",
    "<li>DEP_TIME: actual departure time (local time: HHMM)</li>\n",
    "<li>DEP_DELAY: overall delay at departure. Difference in minutes (floating point number) between scheduled and actual departure time. Early departures set to 0.</li>\n",
    "<li>CRS_ARR_TIME: scheduled arrival time (local time: HHMM) shown in the carriers’ Computerized\n",
    "Reservations Systems (CRS)</li>\n",
    "<li>ARR_TIME: actual arrival time (local time: HHMM)</li>\n",
    "<li>ARR_DELAY: overall delay. Difference in minutes (floating point number) between scheduled and\n",
    "actual arrival time. Early arrivals show negative numbers.</li>\n",
    "<li>CARRIER_DELAY: delay in minutes (floating point number) caused by the carrier</li>\n",
    "<li>WEATHER_DELAY: delay in minutes (floating point number) caused by the weather.</li>\n",
    "<li>NAS_DELAY: delay in minutes (floating point number) caused by the National Air System (NAS).</li>\n",
    "<li>SECURITY_DELAY: delay in minutes (floating point number) caused by the security</li>\n",
    "<li>LATE_AIRCRAFT_DELAY: delay in minutes (floating point number) caused by the aircraft</li>\n",
    "<li>There are some other fields in this dataset</li>\n",
    "</ol>\n",
    "Returns the pandas dataFrame filtering out the last column"
   ]
  },
  {
   "cell_type": "code",
   "execution_count": 30,
   "metadata": {},
   "outputs": [],
   "source": [
    "def readFileInputFlight(file:str)->pd.DataFrame:\n",
    "    return pd.read_csv(file).iloc[:, :-1]"
   ]
  },
  {
   "cell_type": "markdown",
   "metadata": {},
   "source": [
    "### 2 - ANSWER THE FOLLOWING QUESTION\n",
    "\n",
    "Use the info() and describe() methods to analyze how your records are distributed. <br>\n",
    "Before continuing, try to answer the following questions:\n",
    "<ol>\n",
    "<li>which type does each column have?</li>\n",
    "<li>are there any missing values?</li>\n",
    "<li>how many unique carriers are present?</li>\n",
    "<li>how many unique airports are present?</li>\n",
    "<li>from which time interval data were collected?</li>\n",
    "</ol>"
   ]
  },
  {
   "cell_type": "code",
   "execution_count": 31,
   "metadata": {},
   "outputs": [],
   "source": [
    "def answerQuestion(df:pd.DataFrame)->None:\n",
    "    df.info() # 1\n",
    "\n",
    "    df.describe() #2\n",
    "    \n",
    "    temp = df.loc[:, \"UNIQUE_CARRIER\"].unique()\n",
    "    display(temp)\n",
    "    print(len(temp))\n",
    "\n",
    "    temp = (df.loc[:, \"ORIGIN_AIRPORT_ID\"] + df.loc[:, \"DEST_AIRPORT_ID\"]).unique() #4\n",
    "    display(temp)\n",
    "    print(len(temp))\n",
    "\n",
    "    print(min(df.loc[:, \"FL_DATE\"]), max(df.loc[:, \"FL_DATE\"])) # 5\n",
    "    \n",
    "    "
   ]
  },
  {
   "cell_type": "markdown",
   "metadata": {},
   "source": [
    "### 3 - Filter out all canceled flight\n",
    "\n",
    "This function filters out all the canceled flight from the dataFrame"
   ]
  },
  {
   "cell_type": "code",
   "execution_count": null,
   "metadata": {},
   "outputs": [],
   "source": [
    "def filterCancelFlight(df:pd.DataFrame)->pd.DataFrame:\n",
    "    return df.filter(axis=0)"
   ]
  },
  {
   "cell_type": "markdown",
   "metadata": {},
   "source": [
    "### MAIN FUNCTION\n",
    "This is the main function of our program, it does:\n",
    "<ol>\n",
    "<li>Read the input flight file</li>\n",
    "<li>Answers a set of questions</li>\n",
    "</ol>"
   ]
  },
  {
   "cell_type": "code",
   "execution_count": null,
   "metadata": {},
   "outputs": [
    {
     "name": "stdout",
     "output_type": "stream",
     "text": [
      "<class 'pandas.core.frame.DataFrame'>\n",
      "RangeIndex: 450017 entries, 0 to 450016\n",
      "Data columns (total 32 columns):\n",
      " #   Column                 Non-Null Count   Dtype  \n",
      "---  ------                 --------------   -----  \n",
      " 0   FL_DATE                450017 non-null  object \n",
      " 1   UNIQUE_CARRIER         450017 non-null  object \n",
      " 2   AIRLINE_ID             450017 non-null  int64  \n",
      " 3   TAIL_NUM               449378 non-null  object \n",
      " 4   FL_NUM                 450017 non-null  int64  \n",
      " 5   ORIGIN_AIRPORT_ID      450017 non-null  int64  \n",
      " 6   ORIGIN_AIRPORT_SEQ_ID  450017 non-null  int64  \n",
      " 7   ORIGIN_CITY_MARKET_ID  450017 non-null  int64  \n",
      " 8   ORIGIN                 450017 non-null  object \n",
      " 9   ORIGIN_CITY_NAME       450017 non-null  object \n",
      " 10  DEST_AIRPORT_ID        450017 non-null  int64  \n",
      " 11  DEST_AIRPORT_SEQ_ID    450017 non-null  int64  \n",
      " 12  DEST_CITY_MARKET_ID    450017 non-null  int64  \n",
      " 13  DEST                   450017 non-null  object \n",
      " 14  DEST_CITY_NAME         450017 non-null  object \n",
      " 15  CRS_DEP_TIME           450017 non-null  int64  \n",
      " 16  DEP_TIME               441476 non-null  float64\n",
      " 17  DEP_DELAY              441476 non-null  float64\n",
      " 18  TAXI_OUT               441244 non-null  float64\n",
      " 19  WHEELS_OFF             441244 non-null  float64\n",
      " 20  WHEELS_ON              440746 non-null  float64\n",
      " 21  TAXI_IN                440746 non-null  float64\n",
      " 22  CRS_ARR_TIME           450017 non-null  int64  \n",
      " 23  ARR_TIME               440746 non-null  float64\n",
      " 24  ARR_DELAY              439645 non-null  float64\n",
      " 25  CANCELLED              450017 non-null  float64\n",
      " 26  CANCELLATION_CODE      8886 non-null    object \n",
      " 27  CARRIER_DELAY          97699 non-null   float64\n",
      " 28  WEATHER_DELAY          97699 non-null   float64\n",
      " 29  NAS_DELAY              97699 non-null   float64\n",
      " 30  SECURITY_DELAY         97699 non-null   float64\n",
      " 31  LATE_AIRCRAFT_DELAY    97699 non-null   float64\n",
      "dtypes: float64(14), int64(10), object(8)\n",
      "memory usage: 109.9+ MB\n"
     ]
    },
    {
     "data": {
      "text/plain": [
       "array(['AA', 'B6', 'EV', 'HA', 'NK', 'OO', 'UA', 'VX', 'AS', 'WN', 'DL',\n",
       "       'F9'], dtype=object)"
      ]
     },
     "metadata": {},
     "output_type": "display_data"
    },
    {
     "name": "stdout",
     "output_type": "stream",
     "text": [
      "12\n"
     ]
    },
    {
     "data": {
      "text/plain": [
       "array([25370, 23471, 25128, ..., 28301, 30430, 24817])"
      ]
     },
     "metadata": {},
     "output_type": "display_data"
    },
    {
     "name": "stdout",
     "output_type": "stream",
     "text": [
      "1837\n",
      "2017-01-01 2017-01-31\n"
     ]
    }
   ],
   "source": [
    "def main()->None:\n",
    "    df = readFileInputFlight(FLIGHT_DELAY_INPUT) # 1\n",
    "    #answerQuestion(df) # 2\n",
    "    df = filterCancelFlight(df)\n",
    "\n",
    "    \n",
    "main()"
   ]
  },
  {
   "cell_type": "code",
   "execution_count": null,
   "metadata": {},
   "outputs": [],
   "source": []
  }
 ],
 "metadata": {
  "kernelspec": {
   "display_name": ".venv",
   "language": "python",
   "name": "python3"
  },
  "language_info": {
   "codemirror_mode": {
    "name": "ipython",
    "version": 3
   },
   "file_extension": ".py",
   "mimetype": "text/x-python",
   "name": "python",
   "nbconvert_exporter": "python",
   "pygments_lexer": "ipython3",
   "version": "3.12.0"
  }
 },
 "nbformat": 4,
 "nbformat_minor": 2
}
