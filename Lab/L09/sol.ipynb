{
 "cells": [
  {
   "cell_type": "markdown",
   "metadata": {},
   "source": [
    "# MODULES AND CONSTANTS "
   ]
  },
  {
   "cell_type": "markdown",
   "metadata": {},
   "source": [
    "### MODULES, CONSTANT AND IMPORTS"
   ]
  },
  {
   "cell_type": "code",
   "execution_count": 3,
   "metadata": {},
   "outputs": [],
   "source": [
    "import pandas as pd\n",
    "import numpy as np\n",
    "import matplotlib.pyplot as plt"
   ]
  },
  {
   "cell_type": "markdown",
   "metadata": {},
   "source": [
    "### CONSTANTS"
   ]
  },
  {
   "cell_type": "code",
   "execution_count": 4,
   "metadata": {},
   "outputs": [],
   "source": [
    "INPUT_TRAINING_DATA = './NYC_Airbnb/Data/development.csv'\n",
    "INPUT_TESTING_DATA = './NYC_Airbnb/Data/evaluation.csv'"
   ]
  },
  {
   "cell_type": "markdown",
   "metadata": {},
   "source": [
    "# READ INPUT DATA"
   ]
  },
  {
   "cell_type": "markdown",
   "metadata": {},
   "source": [
    "reads the input data, organized as such:\n",
    "Each file has an initial header line, containing the names of attributes at your disposal:\n",
    "- <b>id</b>: a unique identifier of the listing\n",
    "- <b>name</b>\n",
    "- <b>host_id</b>: a unique identifier of the host\n",
    "- <b>host_name</b> \n",
    "- <b>neighborhood_group</b>: neighborhood location in the city\n",
    "- <b>neighborhood</b>: name of the neighborhood\n",
    "- <b>latitude</b>: coordinate expressed as floating point number\n",
    "- <b>longitude</b>: coordinate expressed as floating point number\n",
    "- <b>room_type</b>\n",
    "- <b>price</b>: price per night expressed in dollars\n",
    "- <b>minimum_nights</b>: minimum nights requested by the host\n",
    "- <b>number_of_reviews</b>\n",
    "- <b>last_review</b>: date of the last review expressed as YYYY-MM-DD\n",
    "- <b>reviews_per_month</b>: average number of reviews per month\n",
    "- <b>calculated_host_listings_count</b>: amount of listing of the host\n",
    "- <b>availability_365</b>: number of days when the listing is available for booking"
   ]
  },
  {
   "cell_type": "code",
   "execution_count": 5,
   "metadata": {},
   "outputs": [],
   "source": [
    "def readData(path:str)->pd.DataFrame:\n",
    "    return pd.read_csv(filepath_or_buffer=path, header=0, index_col=0)"
   ]
  },
  {
   "cell_type": "markdown",
   "metadata": {},
   "source": [
    "# FILLS NA"
   ]
  },
  {
   "cell_type": "markdown",
   "metadata": {},
   "source": [
    "Fills the found np.nan value:\n",
    "<br>name                   13\n",
    "<br>host_name              19\n",
    "<br>last_review          8041\n",
    "<br>reviews_per_month    8041"
   ]
  },
  {
   "cell_type": "code",
   "execution_count": 6,
   "metadata": {},
   "outputs": [],
   "source": [
    "def replaceNa(df:pd.DataFrame)->pd.DataFrame:\n",
    "    df['name'] = df['name'].replace({np.nan:'Anonimum'})\n",
    "    df['host_name'] = df['host_name'].replace({np.nan:'Anonimum'})\n",
    "    df['reviews_per_month'] = df['reviews_per_month'].replace({np.nan:0})\n",
    "    return df.drop(columns=['last_review'])"
   ]
  },
  {
   "cell_type": "markdown",
   "metadata": {},
   "source": [
    "# APPLY ONE HOT ENCODING"
   ]
  },
  {
   "cell_type": "code",
   "execution_count": 7,
   "metadata": {},
   "outputs": [],
   "source": [
    "def applyOneHot(df:pd.DataFrame, encoded:list[str]=None, dropNeigh: bool=True)->pd.DataFrame:\n",
    "    for column in encoded or ['room_type', 'neighbourhood_group']:\n",
    "        for label in set(df[column].values):\n",
    "            df[label] = df[column].map(lambda x: 1 if x == label else 0)\n",
    "        df = df.drop(labels=[column], axis=1)\n",
    "    \n",
    "    return df.drop(columns=['neighbourhood']) if dropNeigh else df  "
   ]
  },
  {
   "cell_type": "markdown",
   "metadata": {},
   "source": [
    "# FILTER DATA"
   ]
  },
  {
   "cell_type": "markdown",
   "metadata": {},
   "source": [
    "Filters the data by removing the outliers:\n",
    "- price higher than $\\mu + 3 *\\sigma$\n",
    "- price lower than 2 $"
   ]
  },
  {
   "cell_type": "code",
   "execution_count": 8,
   "metadata": {},
   "outputs": [],
   "source": [
    "def filterData(df:pd.DataFrame) -> pd.DataFrame:\n",
    "    return df[\n",
    "        (df['price'] >= 20)\n",
    "        & (df['price'] <= df['price'].mean() + 1.8* df['price'].std())\n",
    "    ]"
   ]
  },
  {
   "cell_type": "markdown",
   "metadata": {},
   "source": [
    "# MAIN FUNCTION"
   ]
  },
  {
   "cell_type": "markdown",
   "metadata": {},
   "source": []
  },
  {
   "cell_type": "code",
   "execution_count": 11,
   "metadata": {},
   "outputs": [],
   "source": [
    "def main()->pd.DataFrame:\n",
    "    return filterData(applyOneHot(replaceNa(readData(INPUT_TRAINING_DATA)), dropNeigh=False))\n",
    "    \n",
    "df = main()\n",
    "\n",
    "df = df.drop(['name', 'host_name'], axis=1)\n",
    "\n",
    "\n",
    "# import seaborn as sns\n",
    "# sns.pairplot(df)  # Pairwise scatter plots for all features"
   ]
  },
  {
   "cell_type": "code",
   "execution_count": null,
   "metadata": {},
   "outputs": [
    {
     "data": {
      "text/plain": [
       "array([False,  True, False, False, False, False, False, False, False,\n",
       "       False, False, False, False, False, False, False, False])"
      ]
     },
     "execution_count": 16,
     "metadata": {},
     "output_type": "execute_result"
    }
   ],
   "source": [
    "df\n",
    "dfNoPrice = df.drop(columns=['price'])\n"
   ]
  },
  {
   "cell_type": "code",
   "execution_count": 17,
   "metadata": {},
   "outputs": [
    {
     "data": {
      "text/plain": [
       "np.float64(3938.141571737563)"
      ]
     },
     "execution_count": 17,
     "metadata": {},
     "output_type": "execute_result"
    }
   ],
   "source": [
    "from sklearn.ensemble import HistGradientBoostingRegressor\n",
    "from sklearn.model_selection import train_test_split\n",
    "from sklearn.metrics import mean_squared_error\n",
    "\n",
    "\n",
    "xtrain, xtest, ytrain, ytest = train_test_split(dfNoPrice, df['price'], test_size=0.20)\n",
    "\n",
    "mean_squared_error(ytest, HistGradientBoostingRegressor(categorical_features=(dfNoPrice.dtypes == 'object').values).fit(xtrain, ytrain).predict(xtest))\n",
    "\n"
   ]
  },
  {
   "cell_type": "code",
   "execution_count": null,
   "metadata": {},
   "outputs": [],
   "source": []
  }
 ],
 "metadata": {
  "kernelspec": {
   "display_name": ".venv",
   "language": "python",
   "name": "python3"
  },
  "language_info": {
   "codemirror_mode": {
    "name": "ipython",
    "version": 3
   },
   "file_extension": ".py",
   "mimetype": "text/x-python",
   "name": "python",
   "nbconvert_exporter": "python",
   "pygments_lexer": "ipython3",
   "version": "3.12.0"
  }
 },
 "nbformat": 4,
 "nbformat_minor": 2
}
