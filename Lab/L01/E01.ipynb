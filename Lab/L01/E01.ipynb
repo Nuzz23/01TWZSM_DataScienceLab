{
 "cells": [
  {
   "cell_type": "markdown",
   "metadata": {},
   "source": [
    "All the libraries and constant used in this file <br>\n",
    "I'm using an enum for the index of the lists"
   ]
  },
  {
   "cell_type": "code",
   "execution_count": 2,
   "metadata": {},
   "outputs": [],
   "source": [
    "from iris_enum import irisEnum\n",
    "\n",
    "FILE_NAME = 'iris.csv'\n",
    "\n",
    "myEnum = irisEnum()"
   ]
  },
  {
   "cell_type": "markdown",
   "metadata": {},
   "source": [
    "This function reads from the given file <br>\n",
    "the data are stored in a dictionary that has: <ul>\n",
    "<li>as key the name of the flower</li>\n",
    "<li>as values a list containing all the measurements (stored in 4 elements sub list)</li>\n",
    "</ul>\n",
    "The 4 fields of the sub lists are respectively:\n",
    "<ol>\n",
    "<li>sepal length, in cm</li>\n",
    "<li>sepal width, in cm</li>\n",
    "<li>petal length, in cm</li>\n",
    "<li>petal width, in cm</li>\n",
    "</ol>\n"
   ]
  },
  {
   "cell_type": "code",
   "execution_count": 6,
   "metadata": {},
   "outputs": [],
   "source": [
    "def load_file() -> list[list]:\n",
    "    val = [[], [], [], [], []]\n",
    "\n",
    "    with open('iris.csv', \"r\", encoding='UTF-8') as fp:\n",
    "        for row in fp:\n",
    "            row = row.strip().split(\",\")\n",
    "            try:\n",
    "                val[myEnum.PETAL_LENGTH].append(float(row[myEnum.PETAL_LENGTH]))\n",
    "                val[myEnum.SEPAL_LENGTH].append(float(row[myEnum.SEPAL_LENGTH]))\n",
    "                val[myEnum.SEPAL_WIDTH].append(float(row[myEnum.SEPAL_WIDTH]))\n",
    "                val[myEnum.PETAL_WIDTH].append(float(row[myEnum.PETAL_WIDTH]))\n",
    "                val[myEnum.SPECIES].append(row[myEnum.SPECIES]) \n",
    "            except IndexError:\n",
    "                continue\n",
    "    return val"
   ]
  },
  {
   "cell_type": "markdown",
   "metadata": {},
   "source": [
    "This function computes the average of a given list of elements"
   ]
  },
  {
   "cell_type": "code",
   "execution_count": 9,
   "metadata": {},
   "outputs": [],
   "source": [
    "def compute_average(elements:list[float])-> float:\n",
    "    return round(sum(elements)/len(elements),6)"
   ]
  },
  {
   "cell_type": "code",
   "execution_count": null,
   "metadata": {},
   "outputs": [],
   "source": [
    "def compute_dev_std(elements, avg)->list:\n",
    "    return [round((item/len(elements))**0.5, 6) for item in lista[::]]\n",
    "\n",
    "\n",
    "\n",
    "def print_data(species, avg, dev_std):\n",
    "    print(\"Data for species : \"+species)\n",
    "    print(f\"{enum.value2string(myEnum.SEPAL_LENGTH)} : \\t MEAN\")\n",
    "    \n",
    "\n",
    "\n",
    "avg = compute_average(data)\n",
    "print(avg)\n",
    "print(compute_dev_std(data, avg))\n",
    "\n",
    "for key in diz:\n",
    "    print(key, end='\\t')\n",
    "    avg = compute_average(diz[key])\n",
    "    print(avg, end='\\t')\n",
    "    print(compute_dev_std(diz[key], avg))"
   ]
  }
 ],
 "metadata": {
  "kernelspec": {
   "display_name": "Python 3",
   "language": "python",
   "name": "python3"
  },
  "language_info": {
   "codemirror_mode": {
    "name": "ipython",
    "version": 3
   },
   "file_extension": ".py",
   "mimetype": "text/x-python",
   "name": "python",
   "nbconvert_exporter": "python",
   "pygments_lexer": "ipython3",
   "version": "3.12.0"
  }
 },
 "nbformat": 4,
 "nbformat_minor": 2
}
