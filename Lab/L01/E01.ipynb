{
 "cells": [
  {
   "cell_type": "markdown",
   "metadata": {},
   "source": [
    "All the libraries and constant used in this file"
   ]
  },
  {
   "cell_type": "code",
   "execution_count": 2,
   "metadata": {},
   "outputs": [],
   "source": [
    "from iris_enum import irisEnum\n",
    "\n",
    "FILE_NAME = 'iris.csv'\n",
    "\n",
    "myEnum = irisEnum()"
   ]
  },
  {
   "cell_type": "markdown",
   "metadata": {},
   "source": [
    "This function reads from the given file <br>\n",
    "the data are stored in a dictionary that has: <ul>\n",
    "<li>as key the name of the flower</li>\n",
    "<li>as values a list containing all the measurements (stored in 4 elements sub list)</li>\n",
    "</ul>\n",
    "The 4 fields of the sub lists are respectively:\n",
    "<ol>\n",
    "<li>sepal length, in cm</li>\n",
    "<li>sepal width, in cm</li>\n",
    "<li>petal length, in cm</li>\n",
    "<li>petal width, in cm</li>\n",
    "</ol>\n"
   ]
  },
  {
   "cell_type": "code",
   "execution_count": 3,
   "metadata": {},
   "outputs": [
    {
     "ename": "SyntaxError",
     "evalue": "invalid syntax (4241828242.py, line 8)",
     "output_type": "error",
     "traceback": [
      "\u001b[1;36m  Cell \u001b[1;32mIn[3], line 8\u001b[1;36m\u001b[0m\n\u001b[1;33m    val[] =\u001b[0m\n\u001b[1;37m        ^\u001b[0m\n\u001b[1;31mSyntaxError\u001b[0m\u001b[1;31m:\u001b[0m invalid syntax\n"
     ]
    }
   ],
   "source": [
    "def load_file() -> dict:\n",
    "    val = [[], [], [], [], []]\n",
    "     \n",
    "    with open('iris.csv', \"r\", encoding='UTF-8') as fp:\n",
    "        for row in fp:\n",
    "            row = row.strip().split(\",\")\n",
    "            try:\n",
    "                val[] = \n",
    "            except IndexError:\n",
    "                continue\n",
    "    return val"
   ]
  },
  {
   "cell_type": "markdown",
   "metadata": {},
   "source": []
  },
  {
   "cell_type": "code",
   "execution_count": 23,
   "metadata": {},
   "outputs": [
    {
     "name": "stdout",
     "output_type": "stream",
     "text": [
      "Iris-setosa\t[0.1, 0.066, 0.028, 0.004]\n",
      "Iris-versicolor\t[0.114, 0.056, 0.082, 0.026]\n",
      "Iris-virginica\t[0.118, 0.06, 0.102, 0.036]\n"
     ]
    }
   ],
   "source": [
    "def compute_average(elements)-> list:\n",
    "    lista = [0,0,0,0]\n",
    "    \n",
    "    for item in elements:\n",
    "        lista[0] = item[0]\n",
    "        lista[1] = item[1]\n",
    "        lista[2] = item[2]\n",
    "        lista[3] = item[3]\n",
    "    \n",
    "    return [round(item/len(elements),6) for item in lista[::]]\n",
    "    \n",
    "diz = load_file()\n",
    "for key in diz:\n",
    "    print(key, end='\\t')\n",
    "    print(compute_average(diz[key]))"
   ]
  },
  {
   "cell_type": "code",
   "execution_count": null,
   "metadata": {},
   "outputs": [],
   "source": [
    "def compute_dev_std(elements, avg)->list:\n",
    "    lista = [0,0,0,0]\n",
    "    \n",
    "    for item in elements:\n",
    "        lista[myEnum.SEPAL_LENGTH] += (item[myEnum.SEPAL_LENGTH] - avg[myEnum.SEPAL_LENGTH])**2\n",
    "        lista[myEnum.SEPAL_WIDTH] += (item[myEnum.SEPAL_WIDTH] - avg[myEnum.SEPAL_WIDTH])**2\n",
    "        lista[myEnum.PETAL_LENGTH] += (item[myEnum.PETAL_LENGTH] - avg[myEnum.PETAL_LENGTH])**2\n",
    "        lista[myEnum.PETAL_WIDTH] += (item[myEnum.PETAL_WIDTH] - avg[myEnum.PETAL_WIDTH])**2\n",
    "\n",
    "    return [round((item/len(elements))**0.5, 6) for item in lista[::]]\n",
    "\n",
    "\n",
    "\n",
    "def print_data(species, avg, dev_std):\n",
    "    print(\"Data for species : \"+species)\n",
    "    print(f\"{enum.value2string(myEnum.SEPAL_LENGTH)} : \\t MEAN\")\n",
    "    \n",
    "\n",
    "\n",
    "\n",
    "diz = load_file()\n",
    "data = list()\n",
    "for key in diz:\n",
    "    for item in diz[key]:\n",
    "        data.append(item)\n",
    "\n",
    "\n",
    "avg = compute_average(data)\n",
    "print(avg)\n",
    "print(compute_dev_std(data, avg))\n",
    "\n",
    "\n",
    "\n",
    "\n",
    "for key in diz:\n",
    "    print(key, end='\\t')\n",
    "    avg = compute_average(diz[key])\n",
    "    print(avg, end='\\t')\n",
    "    print(compute_dev_std(diz[key], avg))\n",
    "\n"
   ]
  }
 ],
 "metadata": {
  "kernelspec": {
   "display_name": "Python 3",
   "language": "python",
   "name": "python3"
  },
  "language_info": {
   "codemirror_mode": {
    "name": "ipython",
    "version": 3
   },
   "file_extension": ".py",
   "mimetype": "text/x-python",
   "name": "python",
   "nbconvert_exporter": "python",
   "pygments_lexer": "ipython3",
   "version": "3.12.0"
  }
 },
 "nbformat": 4,
 "nbformat_minor": 2
}
