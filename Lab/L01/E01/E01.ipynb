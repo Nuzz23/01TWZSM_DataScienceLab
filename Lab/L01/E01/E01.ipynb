{
 "cells": [
  {
   "cell_type": "markdown",
   "metadata": {},
   "source": [
    "All the libraries and constant used in this file <br>\n",
    "I'm using an enum for the index of the lists"
   ]
  },
  {
   "cell_type": "code",
   "execution_count": 1,
   "metadata": {},
   "outputs": [],
   "source": [
    "from iris_enum import irisEnum\n",
    "\n",
    "FILE_NAME = 'iris.csv'\n",
    "\n",
    "myEnum = irisEnum()"
   ]
  },
  {
   "cell_type": "markdown",
   "metadata": {},
   "source": [
    "This function reads from the given file <br>\n",
    "the data are stored in a dictionary that has: <ul>\n",
    "<li>as key the name of the flower</li>\n",
    "<li>as values a list containing all the measurements (stored in 4 elements sub list)</li>\n",
    "</ul>\n",
    "The 4 fields of the sub lists are respectively:\n",
    "<ol>\n",
    "<li>sepal length, in cm</li>\n",
    "<li>sepal width, in cm</li>\n",
    "<li>petal length, in cm</li>\n",
    "<li>petal width, in cm</li>\n",
    "</ol>\n"
   ]
  },
  {
   "cell_type": "code",
   "execution_count": 2,
   "metadata": {},
   "outputs": [],
   "source": [
    "def load_file() -> list[list[float], list[float], list[float], list[float], list[str]]:\n",
    "    val = [[], [], [], [], []]\n",
    "\n",
    "    with open('iris.csv', \"r\", encoding='UTF-8') as fp:\n",
    "        for row in fp:\n",
    "            row = row.strip().split(\",\")\n",
    "            try:\n",
    "                val[myEnum.PETAL_LENGTH].append(float(row[myEnum.PETAL_LENGTH]))\n",
    "                val[myEnum.SEPAL_LENGTH].append(float(row[myEnum.SEPAL_LENGTH]))\n",
    "                val[myEnum.SEPAL_WIDTH].append(float(row[myEnum.SEPAL_WIDTH]))\n",
    "                val[myEnum.PETAL_WIDTH].append(float(row[myEnum.PETAL_WIDTH]))\n",
    "                val[myEnum.SPECIES].append(row[myEnum.SPECIES]) \n",
    "            except IndexError:\n",
    "                continue\n",
    "    return val"
   ]
  },
  {
   "cell_type": "markdown",
   "metadata": {},
   "source": [
    "This function computes the average of a given list of elements"
   ]
  },
  {
   "cell_type": "code",
   "execution_count": 3,
   "metadata": {},
   "outputs": [],
   "source": [
    "def compute_average(elements:list[float])-> float:\n",
    "    return round(sum(elements)/len(elements),6)"
   ]
  },
  {
   "cell_type": "markdown",
   "metadata": {},
   "source": [
    "This function computes the standard deviation for a given list of elements"
   ]
  },
  {
   "cell_type": "code",
   "execution_count": 4,
   "metadata": {},
   "outputs": [],
   "source": [
    "def compute_dev_std(elements:list[float], avg:float=None)->float:\n",
    "    avg = avg if avg else compute_average(elements)\n",
    "    return  round((sum([(item - avg)**2 for item in elements])/len(elements))**0.5, 6)"
   ]
  },
  {
   "cell_type": "markdown",
   "metadata": {},
   "source": [
    "This functions prints the Mean and the average to screen for a given component of a given flower"
   ]
  },
  {
   "cell_type": "code",
   "execution_count": 5,
   "metadata": {},
   "outputs": [],
   "source": [
    "def print_single_data(type:str, avg:float, dev_std:float)->None:\n",
    "    print(type + f\": \\t Average = {avg} \\t Standard Deviation = {dev_std}\")\n",
    "    \n",
    "    \n",
    "def print_data(species:str, avg:list[float], dev_std:list[float])->None:\n",
    "    print(\"Species : \"+ species)\n",
    "    for i in range(0, len(avg), 1):\n",
    "        print_single_data(myEnum.value2string(i), avg[i], dev_std[i])"
   ]
  },
  {
   "cell_type": "markdown",
   "metadata": {},
   "source": [
    "Evaluates the median and standard deviation of a given data list and prints the result"
   ]
  },
  {
   "cell_type": "code",
   "execution_count": 6,
   "metadata": {},
   "outputs": [],
   "source": [
    "def evaluate_all_data(data:list[list[float]], type:str=None)->list[list[float, float]]:\n",
    "    avg = list()\n",
    "    dev_std = list()\n",
    "    for item in data[:len(data)-1:]:\n",
    "        avg.append(compute_average(item))\n",
    "        dev_std.append(compute_dev_std(item, avg[-1]))\n",
    "    \n",
    "    print_data(type if type else \"All types\", avg, dev_std)\n",
    "    print(\"\\n\")\n",
    "    return [[avg[i], dev_std[i]] for i in range(0, len(avg), 1)]\n",
    "    "
   ]
  },
  {
   "cell_type": "markdown",
   "metadata": {},
   "source": [
    "Main function of the file:"
   ]
  },
  {
   "cell_type": "code",
   "execution_count": 7,
   "metadata": {},
   "outputs": [
    {
     "name": "stdout",
     "output_type": "stream",
     "text": [
      "Species : All types\n",
      "Sepal length: \t Average = 5.843333 \t Standard Deviation = 0.825301\n",
      "Sepal width: \t Average = 3.054 \t Standard Deviation = 0.432147\n",
      "Petal length: \t Average = 3.758667 \t Standard Deviation = 1.758529\n",
      "Petal width: \t Average = 1.198667 \t Standard Deviation = 0.760613\n",
      "\n",
      "\n",
      "Species : Iris-versicolor\n",
      "Sepal length: \t Average = 5.936 \t Standard Deviation = 0.510983\n",
      "Sepal width: \t Average = 2.77 \t Standard Deviation = 0.310644\n",
      "Petal length: \t Average = 4.26 \t Standard Deviation = 0.465188\n",
      "Petal width: \t Average = 1.326 \t Standard Deviation = 0.195765\n",
      "\n",
      "\n",
      "Species : Iris-virginica\n",
      "Sepal length: \t Average = 6.588 \t Standard Deviation = 0.629489\n",
      "Sepal width: \t Average = 2.974 \t Standard Deviation = 0.319255\n",
      "Petal length: \t Average = 5.552 \t Standard Deviation = 0.546348\n",
      "Petal width: \t Average = 2.026 \t Standard Deviation = 0.27189\n",
      "\n",
      "\n",
      "Species : Iris-setosa\n",
      "Sepal length: \t Average = 5.006 \t Standard Deviation = 0.348947\n",
      "Sepal width: \t Average = 3.418 \t Standard Deviation = 0.377195\n",
      "Petal length: \t Average = 1.464 \t Standard Deviation = 0.171767\n",
      "Petal width: \t Average = 0.244 \t Standard Deviation = 0.106132\n",
      "\n",
      "\n"
     ]
    }
   ],
   "source": [
    "def main()->None:\n",
    "    data = load_file()\n",
    "    complete = evaluate_all_data(data)\n",
    "    partial = dict()\n",
    "\n",
    "    for item in set(row for row in data[myEnum.SPECIES]):\n",
    "        lista = [[], [], [], [], []]\n",
    "        for i in range(0, len(data[myEnum.SPECIES]), 1):\n",
    "            if data[myEnum.SPECIES][i] == item:\n",
    "                for value in myEnum.allValues():\n",
    "                    lista[value].append(data[value][i])\n",
    "        partial[item] = evaluate_all_data(lista, item)\n",
    "\n",
    "\n",
    "\n",
    "        \n",
    "main()"
   ]
  }
 ],
 "metadata": {
  "kernelspec": {
   "display_name": "Python 3",
   "language": "python",
   "name": "python3"
  },
  "language_info": {
   "codemirror_mode": {
    "name": "ipython",
    "version": 3
   },
   "file_extension": ".py",
   "mimetype": "text/x-python",
   "name": "python",
   "nbconvert_exporter": "python",
   "pygments_lexer": "ipython3",
   "version": "3.12.0"
  }
 },
 "nbformat": 4,
 "nbformat_minor": 2
}
