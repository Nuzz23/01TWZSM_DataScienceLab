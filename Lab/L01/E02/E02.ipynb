{
 "cells": [
  {
   "cell_type": "markdown",
   "metadata": {},
   "source": [
    "All the modules, libraries and constant used in this file"
   ]
  },
  {
   "cell_type": "code",
   "execution_count": 210,
   "metadata": {},
   "outputs": [],
   "source": [
    "from json import load\n",
    "from math import cos, acos, sin\n",
    "from Counter import Counter\n",
    "\n",
    "FILE_INPUT='data.json'"
   ]
  },
  {
   "cell_type": "markdown",
   "metadata": {},
   "source": [
    "Reading the json file and returning the dictionary"
   ]
  },
  {
   "cell_type": "code",
   "execution_count": 211,
   "metadata": {},
   "outputs": [],
   "source": [
    "def load_json(file:str)->dict:\n",
    "    with open(file, \"r\", encoding='UTF-8') as fp:\n",
    "        data = load(fp)\n",
    "        \n",
    "    data['network']['stations'] = sorted(data['network']['stations'], key=lambda x:x['name'])\n",
    "    return data['network'] "
   ]
  },
  {
   "cell_type": "markdown",
   "metadata": {},
   "source": [
    "This function counts and prints the number of active station (extra.status==online)"
   ]
  },
  {
   "cell_type": "code",
   "execution_count": 212,
   "metadata": {},
   "outputs": [],
   "source": [
    "def active_station(data:dict, status:str)->None:\n",
    "    print(f\"Total count of active station = \"+ \n",
    "          str(len([print(station['name']) for station in data['stations'] if station['extra']['status']==status])), end='\\n'*2)\n",
    "    "
   ]
  },
  {
   "cell_type": "markdown",
   "metadata": {},
   "source": [
    "This function counts and prints the total number of bikes available (field free_bikes)"
   ]
  },
  {
   "cell_type": "code",
   "execution_count": 213,
   "metadata": {},
   "outputs": [],
   "source": [
    "def bikes_available(data:dict)->None:\n",
    "    c = Counter()\n",
    "    print(f\"Total number of free bikes present : {c.totValue()} \" \n",
    "          if len([print((station['name']+str(c.addValue(station['free_bikes'])))[:-len(str(c.totValue())):])\n",
    "           for station in data['stations'] if station[\"free_bikes\"]])!=-1  else \" \", end=\"\\n\"*2)"
   ]
  },
  {
   "cell_type": "markdown",
   "metadata": {},
   "source": [
    "This function counts and prints the total number of free docks throughout all stations"
   ]
  },
  {
   "cell_type": "code",
   "execution_count": 214,
   "metadata": {},
   "outputs": [],
   "source": [
    "def docks_available(data:dict)->None:\n",
    "    c = Counter()\n",
    "    print(f\"Total number of free docks present : {c.totValue()} \" \n",
    "          if len([print((station['name']+str(c.addValue(station['empty_slots'])))[:-len(str(c.totValue())):])\n",
    "           for station in data['stations'] if station[\"empty_slots\"]])!=-1  else \" \", end=\"\\n\"*2)"
   ]
  },
  {
   "cell_type": "markdown",
   "metadata": {},
   "source": [
    "This function allows the user to:\n",
    "- input latitude and longitude of a place\n",
    "- to look for the closest bike station that has available bikes "
   ]
  },
  {
   "cell_type": "code",
   "execution_count": null,
   "metadata": {},
   "outputs": [],
   "source": [
    "def insert_search_coordinates(data:dict)->None:\n",
    "    \n",
    "    while True:\n",
    "        print(\"Insert the coordinate of the place : \")\n",
    "        \n",
    "        try:\n",
    "            latitude = float(input(\"Insert latitude (-90 to 90), anything else to exit : \"))\n",
    "            if latitude < -90 or latitude >90:\n",
    "                raise ValueError()\n",
    "        except ValueError:\n",
    "            break\n",
    "            \n",
    "\n",
    "        try:\n",
    "            longitude = float(input(\"Insert longitude (-180 to 180), anything else to exit : \"))\n",
    "            if longitude < -180 or longitude >180:\n",
    "                raise ValueError()\n",
    "        except ValueError:\n",
    "            break\n",
    "\n",
    "    \n",
    "        search_coordinates(data, latitude, longitude)\n",
    "    \n",
    "    "
   ]
  },
  {
   "cell_type": "markdown",
   "metadata": {},
   "source": [
    "This is the main function that coordinates all the execution of the program\n",
    "<ol>\n",
    "<li>Loads the data</li>\n",
    "<li>Count and print the number of active stations</li>\n",
    "<li>Count and print the total number of bikes available throughout all stations</li>\n",
    "<li>Count and print the total number of free docks throughout all stations</li>\n",
    "<li>Given the coordinates (latitude, longitude) of a point, identify the\n",
    "closest bike station to it that has available bikes</li>\n",
    "</ol>"
   ]
  },
  {
   "cell_type": "code",
   "execution_count": 215,
   "metadata": {},
   "outputs": [
    {
     "name": "stdout",
     "output_type": "stream",
     "text": [
      "02. BIKE POINT Mandria\n",
      "Total count of active station = 1\n",
      "\n",
      "01. Certosa / P.le Avis\n",
      "01. Gerbido\n",
      "01. Largo Oropa\n",
      "01. Municipio\n",
      "02. BIKE POINT Mandria\n",
      "02. Berlinguer\n",
      "02. Fabbrichetta\n",
      "03. Borgo\n",
      "04. Metro Paradiso\n",
      "04. Villa Claretta\n",
      "05. Savonera\n",
      "05. Universita`\n",
      "06. Le Serre\n",
      "07. Stazione F.S.\n",
      "07. Stazione Ferroviaria Paradiso\n",
      "08. Gramsci\n",
      "08. Lupo\n",
      "09. Rigola\n",
      "10. Europa Unita\n",
      "Total number of free bikes present : 95 \n",
      "\n",
      "01. Certosa / P.le Avis\n",
      "01. Gerbido\n",
      "01. Largo Oropa\n",
      "01. Municipio\n",
      "02. BIKE POINT Mandria\n",
      "02. Berlinguer\n",
      "02. Fabbrichetta\n",
      "03. Borgo\n",
      "04. Metro Paradiso\n",
      "04. Villa Claretta\n",
      "05. Savonera\n",
      "05. Universita`\n",
      "06. Le Serre\n",
      "07. Stazione F.S.\n",
      "07. Stazione Ferroviaria Paradiso\n",
      "08. Gramsci\n",
      "08. Lupo\n",
      "09. Rigola\n",
      "10. Europa Unita\n",
      "Total number of free docks present : 57 \n",
      "\n"
     ]
    }
   ],
   "source": [
    "def main()->None:\n",
    "    data = load_json(FILE_INPUT)\n",
    "    active_station(data, \"online\")\n",
    "    bikes_available(data)\n",
    "    docks_available(data)\n",
    "    insert_search_coordinates(data)\n",
    "    \n",
    "    \n",
    "main()"
   ]
  }
 ],
 "metadata": {
  "kernelspec": {
   "display_name": "Python 3",
   "language": "python",
   "name": "python3"
  },
  "language_info": {
   "codemirror_mode": {
    "name": "ipython",
    "version": 3
   },
   "file_extension": ".py",
   "mimetype": "text/x-python",
   "name": "python",
   "nbconvert_exporter": "python",
   "pygments_lexer": "ipython3",
   "version": "3.12.0"
  }
 },
 "nbformat": 4,
 "nbformat_minor": 2
}
