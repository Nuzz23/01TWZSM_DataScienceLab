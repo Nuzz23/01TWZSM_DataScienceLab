{
 "cells": [
  {
   "cell_type": "markdown",
   "metadata": {},
   "source": [
    "All the constants, libraries and modules used in this file \n",
    "<ol>\n",
    "<li>Path to input file</li>\n",
    "<li>Threshold between pixels of value 1 (greater) and 0 (lower)</li>\n",
    "<li>Match between numbers (as intervals) and the corresponding character</li>\n",
    "</ol>"
   ]
  },
  {
   "cell_type": "code",
   "execution_count": 59,
   "metadata": {},
   "outputs": [],
   "source": [
    "FILE_INPUT = \"data.csv\"\n",
    "THRESHOLD = 128\n",
    "INTERVALS = {(0, 64):' ', (64, 128):\".\", (128, 192):\"*\", (192, 256):\"#\"}"
   ]
  },
  {
   "cell_type": "markdown",
   "metadata": {},
   "source": [
    "This function reads the data from the given file:"
   ]
  },
  {
   "cell_type": "code",
   "execution_count": 60,
   "metadata": {},
   "outputs": [],
   "source": [
    "def read_data(file_path:str)->list[list[int]]:\n",
    "    with open(file_path, \"r\", encoding='UTF-8') as fp:\n",
    "        return [[int(item) for item in row.split(\",\")] for row in fp]    "
   ]
  },
  {
   "cell_type": "markdown",
   "metadata": {},
   "source": [
    "This function converts a number to the respective symbol:"
   ]
  },
  {
   "cell_type": "code",
   "execution_count": 61,
   "metadata": {},
   "outputs": [],
   "source": [
    "def int2symbol(val:int)->str:\n",
    "    for key in INTERVALS:\n",
    "        if key[0] <= val < key[1]:\n",
    "            return INTERVALS[key]\n",
    "    return ''"
   ]
  },
  {
   "cell_type": "markdown",
   "metadata": {},
   "source": [
    "This function allows to print on screen the given item set as symbols "
   ]
  },
  {
   "cell_type": "code",
   "execution_count": 62,
   "metadata": {},
   "outputs": [],
   "source": [
    "def print_as_symbols(data:list[list[int]]) -> None:\n",
    "    for row in data:\n",
    "        for item in row:\n",
    "            print(int2symbol(item), end='')\n",
    "        print()"
   ]
  },
  {
   "cell_type": "markdown",
   "metadata": {},
   "source": [
    "This function returns the distance between the rows in a given set, <br>\n",
    "the difference will be evaluated for all the possible combination of rows "
   ]
  },
  {
   "cell_type": "code",
   "execution_count": 63,
   "metadata": {},
   "outputs": [],
   "source": [
    "def computeEuclideanDistance(data:list[list[int]], rows:set[int]) -> dict[str:float]:\n",
    "    rows = sorted(list(rows))\n",
    "    dist = dict()\n",
    "\n",
    "    for i in range(len(rows)):\n",
    "        for j in range(i+1, len(rows)):\n",
    "            dist[f\"{rows[i]}-{rows[j]}\"] = (\n",
    "                sum(\n",
    "                    (data[rows[i] - 1][k] - data[rows[j] - 1][k]) ** 2\n",
    "                    for k in range(0, len(data[0]))\n",
    "                )\n",
    "                ** 0.5\n",
    "            )\n",
    "\n",
    "    return dist\n",
    "    "
   ]
  },
  {
   "cell_type": "markdown",
   "metadata": {},
   "source": [
    "This function computes the maximum absolute distance between pixels of type 0 and 1:"
   ]
  },
  {
   "cell_type": "code",
   "execution_count": 69,
   "metadata": {},
   "outputs": [],
   "source": [
    "def findMaxPixelDifference(data:list[list[int]])-> tuple[int, int]:\n",
    "    zeros = [0]*len(data[0])\n",
    "    ones = [0]*len(data[0])\n",
    "\n",
    "    for row in data:\n",
    "        for j in range(len(row)):\n",
    "            if row[j] > THRESHOLD:\n",
    "                ones[j]+=1\n",
    "            else:\n",
    "                zeros[j]+=1\n",
    "             \n",
    "    dist = 0\n",
    "    coord = 0    \n",
    "    for i in range(len(zeros)):\n",
    "        if abs(zeros[i]-ones[i]) > dist:\n",
    "            coord=i \n",
    "        \n",
    "    return coord\n"
   ]
  },
  {
   "cell_type": "markdown",
   "metadata": {},
   "source": [
    "The main function of the file that will execute every step "
   ]
  },
  {
   "cell_type": "code",
   "execution_count": 71,
   "metadata": {},
   "outputs": [
    {
     "name": "stdout",
     "output_type": "stream",
     "text": [
      "{'26-30': 3539.2233611344736, '26-32': 3556.420110166964, '26-35': 3223.2145445191823, '30-32': 1171.8293391104355, '30-35': 2531.010470148237, '32-35': 2515.5671328748117}\n",
      "784\n"
     ]
    }
   ],
   "source": [
    "def main()->None:\n",
    "    data = read_data(FILE_INPUT)\n",
    "    # print_as_symbols(data)\n",
    "    dist = computeEuclideanDistance(data, {26, 30, 32, 35})\n",
    "    #print(dist)\n",
    "    print(findMaxPixelDifference(data))\n",
    "\n",
    "\n",
    "main()  "
   ]
  }
 ],
 "metadata": {
  "kernelspec": {
   "display_name": ".venv",
   "language": "python",
   "name": "python3"
  },
  "language_info": {
   "codemirror_mode": {
    "name": "ipython",
    "version": 3
   },
   "file_extension": ".py",
   "mimetype": "text/x-python",
   "name": "python",
   "nbconvert_exporter": "python",
   "pygments_lexer": "ipython3",
   "version": "3.12.0"
  }
 },
 "nbformat": 4,
 "nbformat_minor": 2
}
