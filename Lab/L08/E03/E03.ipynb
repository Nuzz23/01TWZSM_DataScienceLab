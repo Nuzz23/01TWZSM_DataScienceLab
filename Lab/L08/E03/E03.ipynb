{
 "cells": [
  {
   "cell_type": "markdown",
   "metadata": {},
   "source": [
    "# MODULES AND CONSTANTS"
   ]
  },
  {
   "cell_type": "markdown",
   "metadata": {},
   "source": [
    "### MODULES, IMPORTS AND LIBRARIES USED"
   ]
  },
  {
   "cell_type": "code",
   "execution_count": 71,
   "metadata": {},
   "outputs": [],
   "source": [
    "import numpy as np\n",
    "import pandas as pd\n",
    "\n"
   ]
  },
  {
   "cell_type": "markdown",
   "metadata": {},
   "source": [
    "### CONSTANTS USED"
   ]
  },
  {
   "cell_type": "code",
   "execution_count": 72,
   "metadata": {},
   "outputs": [],
   "source": [
    "DATA_PATH = 'SummaryofWeather.csv'"
   ]
  },
  {
   "cell_type": "markdown",
   "metadata": {},
   "source": [
    "# 1 - READ FILE"
   ]
  },
  {
   "cell_type": "markdown",
   "metadata": {},
   "source": [
    "Load the Second World War Weather dataset. In particular you have to load the data contained in\n",
    "SummaryofWeather.csv"
   ]
  },
  {
   "cell_type": "code",
   "execution_count": 73,
   "metadata": {},
   "outputs": [],
   "source": [
    "def loadDataFrame(path:str):\n",
    "    return pd.read_csv(filepath_or_buffer=path, header=0, dtype={7:str, 8:str, 18:str, 25:str}).replace({'#VALUE!':np.nan})"
   ]
  },
  {
   "cell_type": "markdown",
   "metadata": {},
   "source": [
    "# 2 - MISSING VALUES"
   ]
  },
  {
   "cell_type": "markdown",
   "metadata": {},
   "source": [
    "Inspect the content of the dataset identifying if there are missing values for the sensors in the dataset,\n",
    "checking for the top 10 most complete sensors (in terms of collected data) the distribution of the\n",
    "recorded mean temperatures (MeanTemp column).\n",
    "- Can you identify if these sensors are located in part of the world with similar weather conditions?.\n",
    "- Is it necessary to normalize the data in this case?\n",
    "- Which pre-processing step can be useful to solve the forecasting task?"
   ]
  },
  {
   "cell_type": "code",
   "execution_count": 101,
   "metadata": {},
   "outputs": [],
   "source": [
    "def removeMissingColumns(df:pd.DataFrame)->pd.Series:\n",
    "    temp = df.isna().sum()\n",
    "    return df[[k for k in temp.index if temp[k] < df.shape[0]]]\n",
    "\n",
    "def displayNMostCompleteSensors(df: pd.DataFrame, n:int, printOnScreen:bool=False) -> list[str]:\n",
    "    res = df.groupby(['STA']).agg('count').sum(axis=1).sort_values(ascending=False).head(n)\n",
    "    if printOnScreen:\n",
    "        print(f\"Top {n} most active sensors\")\n",
    "        display(res)\n",
    "        \n",
    "    return list(res.index)"
   ]
  },
  {
   "cell_type": "markdown",
   "metadata": {},
   "source": [
    "# 3 - SENSOR SELECTION"
   ]
  },
  {
   "cell_type": "markdown",
   "metadata": {},
   "source": [
    "For simplicity, we will exploit the data collected by a specific sensor. Filter the data by STA (Station)\n",
    "and extract the mean temperature measurements corresponding to sensor with id 22508.\n",
    "<br><br>\n",
    "Info: Do not forget to keep track also of the date on which each measurements has been taken\n",
    "and be sure that each date is properly converted to a Datetime data type like the datetime64\n",
    "type provided by numpy."
   ]
  },
  {
   "cell_type": "code",
   "execution_count": 129,
   "metadata": {},
   "outputs": [],
   "source": [
    "def filterDataFrame(df:pd.DataFrame, sensor:int=22508)->pd.DataFrame:\n",
    "    df = df[df['STA']==sensor][['MeanTemp', 'Date']]\n",
    "    df['Date'] = pd.to_datetime(df['Date'])\n",
    "    return df"
   ]
  },
  {
   "cell_type": "markdown",
   "metadata": {},
   "source": [
    "# MAIN FUNCTION"
   ]
  },
  {
   "cell_type": "markdown",
   "metadata": {},
   "source": [
    "This is the main function of the file, it does:\n",
    "<ol>\n",
    "<li>Load the data frame and removes the np.nan columns</li>\n",
    "<li>Looks for the most complete sensors</li>\n",
    "<li>Filters the dataframe for a specific sensor</li>\n",
    "<li></li>\n",
    "<li></li>\n",
    "<li></li>\n",
    "<li></li>\n",
    "<li></li>\n",
    "<li></li>\n",
    "</ol>"
   ]
  },
  {
   "cell_type": "code",
   "execution_count": 130,
   "metadata": {},
   "outputs": [
    {
     "data": {
      "text/html": [
       "<div>\n",
       "<style scoped>\n",
       "    .dataframe tbody tr th:only-of-type {\n",
       "        vertical-align: middle;\n",
       "    }\n",
       "\n",
       "    .dataframe tbody tr th {\n",
       "        vertical-align: top;\n",
       "    }\n",
       "\n",
       "    .dataframe thead th {\n",
       "        text-align: right;\n",
       "    }\n",
       "</style>\n",
       "<table border=\"1\" class=\"dataframe\">\n",
       "  <thead>\n",
       "    <tr style=\"text-align: right;\">\n",
       "      <th></th>\n",
       "      <th>MeanTemp</th>\n",
       "      <th>Date</th>\n",
       "    </tr>\n",
       "  </thead>\n",
       "  <tbody>\n",
       "    <tr>\n",
       "      <th>57877</th>\n",
       "      <td>20.000000</td>\n",
       "      <td>1940-01-01</td>\n",
       "    </tr>\n",
       "    <tr>\n",
       "      <th>57878</th>\n",
       "      <td>19.444444</td>\n",
       "      <td>1940-01-02</td>\n",
       "    </tr>\n",
       "    <tr>\n",
       "      <th>57879</th>\n",
       "      <td>20.000000</td>\n",
       "      <td>1940-01-03</td>\n",
       "    </tr>\n",
       "    <tr>\n",
       "      <th>57880</th>\n",
       "      <td>21.111111</td>\n",
       "      <td>1940-01-04</td>\n",
       "    </tr>\n",
       "    <tr>\n",
       "      <th>57881</th>\n",
       "      <td>18.333333</td>\n",
       "      <td>1940-01-05</td>\n",
       "    </tr>\n",
       "    <tr>\n",
       "      <th>...</th>\n",
       "      <td>...</td>\n",
       "      <td>...</td>\n",
       "    </tr>\n",
       "    <tr>\n",
       "      <th>60064</th>\n",
       "      <td>20.555556</td>\n",
       "      <td>1945-12-27</td>\n",
       "    </tr>\n",
       "    <tr>\n",
       "      <th>60065</th>\n",
       "      <td>21.111111</td>\n",
       "      <td>1945-12-28</td>\n",
       "    </tr>\n",
       "    <tr>\n",
       "      <th>60066</th>\n",
       "      <td>20.000000</td>\n",
       "      <td>1945-12-29</td>\n",
       "    </tr>\n",
       "    <tr>\n",
       "      <th>60067</th>\n",
       "      <td>21.111111</td>\n",
       "      <td>1945-12-30</td>\n",
       "    </tr>\n",
       "    <tr>\n",
       "      <th>60068</th>\n",
       "      <td>21.666667</td>\n",
       "      <td>1945-12-31</td>\n",
       "    </tr>\n",
       "  </tbody>\n",
       "</table>\n",
       "<p>2192 rows × 2 columns</p>\n",
       "</div>"
      ],
      "text/plain": [
       "        MeanTemp       Date\n",
       "57877  20.000000 1940-01-01\n",
       "57878  19.444444 1940-01-02\n",
       "57879  20.000000 1940-01-03\n",
       "57880  21.111111 1940-01-04\n",
       "57881  18.333333 1940-01-05\n",
       "...          ...        ...\n",
       "60064  20.555556 1945-12-27\n",
       "60065  21.111111 1945-12-28\n",
       "60066  20.000000 1945-12-29\n",
       "60067  21.111111 1945-12-30\n",
       "60068  21.666667 1945-12-31\n",
       "\n",
       "[2192 rows x 2 columns]"
      ]
     },
     "metadata": {},
     "output_type": "display_data"
    }
   ],
   "source": [
    "def main()->None:\n",
    "    df = removeMissingColumns(loadDataFrame(DATA_PATH)) # 1,2\n",
    "    # print(df[df['STA'].isin(displayNMostCompleteSensors(df, 10))][['STA','MeanTemp']].groupby('STA').agg('mean')) # 2\n",
    "    df = filterDataFrame(df, 22508)\n",
    "    display(df)\n",
    "    \n",
    "    \n",
    "main()"
   ]
  },
  {
   "cell_type": "code",
   "execution_count": null,
   "metadata": {},
   "outputs": [],
   "source": []
  }
 ],
 "metadata": {
  "kernelspec": {
   "display_name": ".venv",
   "language": "python",
   "name": "python3"
  },
  "language_info": {
   "codemirror_mode": {
    "name": "ipython",
    "version": 3
   },
   "file_extension": ".py",
   "mimetype": "text/x-python",
   "name": "python",
   "nbconvert_exporter": "python",
   "pygments_lexer": "ipython3",
   "version": "3.12.0"
  }
 },
 "nbformat": 4,
 "nbformat_minor": 2
}
