{
 "cells": [
  {
   "cell_type": "markdown",
   "metadata": {},
   "source": [
    "All the libraries, modules, imports and constants used in this program "
   ]
  },
  {
   "cell_type": "code",
   "execution_count": 81,
   "metadata": {},
   "outputs": [],
   "source": [
    "import pandas as pd\n",
    "from mlxtend.frequent_patterns import fpgrowth, apriori, association_rules\n",
    "from time import time\n",
    "\n",
    "FILE_INPUT = \"online_retail.csv\"\n",
    "USE_DICT_OVER_SET = False\n",
    "USE_FPGROWTH = True\n",
    "USE_APRIORI = False"
   ]
  },
  {
   "cell_type": "markdown",
   "metadata": {},
   "source": [
    "This functions reads from the given file creating a dictionary of invoices:\n",
    "<ol>\n",
    "<li>skips the first row\n",
    "<li>if the row starts with \"C\" is a cancellation -> to be skipped</li>\n",
    "<li>split the row and convert it to integer</li>\n",
    "<li>add the invoiceCode if not present to the data dictionary</li>\n",
    "<li>if not present add the product code and description to the other dictionary</li>\n",
    "<li>finally match invoice number with product number</li>\n",
    "</ol>\n",
    "Returns:\n",
    "<ol>\n",
    "<li>The dictionary #Invoice : set(#products)</li>\n",
    "<li>The dictionary #products : description  or the set of #products</li>\n",
    "</ol>"
   ]
  },
  {
   "cell_type": "code",
   "execution_count": 82,
   "metadata": {},
   "outputs": [],
   "source": [
    "def read_file(FILE_INPUT:str) -> [dict[int:str], dict[str:str]|set[str]]: # type: ignore\n",
    "    invoices = dict()\n",
    "    products = dict() if USE_DICT_OVER_SET else set()\n",
    "    \n",
    "    with open(FILE_INPUT, \"r\", encoding='UTF-8') as file:\n",
    "        columns = file.readline().strip().split(\",\")\n",
    "\n",
    "        for row in file:    \n",
    "            try:\n",
    "                row = row.strip().split(\",\")\n",
    "                row[0] = int(row[0])\n",
    "                if len(row[1]) <= 1 or len(row[2]) <= 1:\n",
    "                    raise ValueError \n",
    "            except ValueError:\n",
    "                continue\n",
    "\n",
    "            if row[0] not in invoices:\n",
    "                invoices[row[0]] = set()\n",
    "\n",
    "            if USE_DICT_OVER_SET:\n",
    "                if row[1] not in products:\n",
    "                    products[row[1]] = row[2] \n",
    "            else:\n",
    "                products.add(row[2]) # use 1 for product id\n",
    "\n",
    "            invoices[row[0]].add(row[2]) # use 1 for product id\n",
    "\n",
    "    return [invoices, products, columns]"
   ]
  },
  {
   "cell_type": "markdown",
   "metadata": {},
   "source": [
    "This functions creates a matrix starting from the products and the invoices:\n",
    "- The rows are the invoices (which are sorted in ascending order)\n",
    "- The columns are the products code (sorted in ascending order)\n",
    "- The element (i, j) of the matrix is 1 if the product i is present in the invoice j, 0 otherwise\n",
    "\n",
    "The matrix is then returned as a pd data frame"
   ]
  },
  {
   "cell_type": "code",
   "execution_count": 83,
   "metadata": {},
   "outputs": [],
   "source": [
    "def create_matrix(invoices:dict[int:set[str]], invoice_ids:list[int], product_ids:list[str])->list[list[bool]]:            \n",
    "    return pd.DataFrame(data=[[product in invoices[invoice] for product in product_ids] for invoice in invoice_ids],\n",
    "                        columns=product_ids, index=invoice_ids) "
   ]
  },
  {
   "cell_type": "markdown",
   "metadata": {},
   "source": [
    "This function operates just like the previously defined function, although it's much faster due to dictionary lookup"
   ]
  },
  {
   "cell_type": "code",
   "execution_count": 84,
   "metadata": {},
   "outputs": [],
   "source": [
    "def moreEfficientCreateMatrix(invoices:dict[int:set[str]], invoice_ids:list[int], product_ids:set[str]) -> list[list[bool]]:\n",
    "    product_ids = {v:k for k,v in enumerate(product_ids)} \n",
    "    matrix = [[False]*len(product_ids)]*len(invoice_ids)\n",
    "    \n",
    "    for i in range(len(invoice_ids)):\n",
    "        for item in invoices[invoice_ids[i]]:\n",
    "            matrix[i][product_ids[item]] = True\n",
    "        \n",
    "    return pd.DataFrame(data=matrix, columns=product_ids, index=invoice_ids)\n",
    "    "
   ]
  },
  {
   "cell_type": "markdown",
   "metadata": {},
   "source": [
    "This is the main function of the program that will have all the main instructions and function calls of the whole program"
   ]
  },
  {
   "cell_type": "code",
   "execution_count": 85,
   "metadata": {},
   "outputs": [
    {
     "name": "stdout",
     "output_type": "stream",
     "text": [
      "      support                                           itemsets\n",
      "284  0.023054  (JAM MAKING SET WITH JARS, JAM MAKING SET PRIN...\n",
      "285  0.031259  (ALARM CLOCK BAKELIKE GREEN, ALARM CLOCK BAKEL...\n",
      "286  0.022956  (ALARM CLOCK BAKELIKE RED , ALARM CLOCK BAKELI...\n",
      "287  0.020416  (ALARM CLOCK BAKELIKE GREEN, ALARM CLOCK BAKEL...\n",
      "288  0.026326  (WOODEN PICTURE FRAME WHITE FINISH, WOODEN FRA...\n",
      "..        ...                                                ...\n",
      "357  0.026668        (JUMBO BAG APPLES, JUMBO BAG RED RETROSPOT)\n",
      "358  0.020221      (JUMBO BAG ALPHABET, JUMBO BAG RED RETROSPOT)\n",
      "359  0.023591                    (PARTY BUNTING, SPOTTY BUNTING)\n",
      "360  0.020758  (JUMBO BAG VINTAGE LEAF, JUMBO BAG RED RETROSPOT)\n",
      "361  0.026668  (GARDENERS KNEELING PAD CUP OF TEA , GARDENERS...\n",
      "\n",
      "[78 rows x 2 columns]\n",
      "2\n",
      "                                                          antecedents                         consequents  antecedent support  consequent support   support  confidence       lift  leverage  conviction  zhangs_metric\n",
      "0   (GREEN REGENCY TEACUP AND SAUCER, PINK REGENCY TEACUP AND SAUCER)  (ROSES REGENCY TEACUP AND SAUCER )            0.030917            0.052066  0.026473    0.856240  16.445272  0.024863    6.593870       0.969156\n",
      "1  (PINK REGENCY TEACUP AND SAUCER, ROSES REGENCY TEACUP AND SAUCER )   (GREEN REGENCY TEACUP AND SAUCER)            0.029257            0.049575  0.026473    0.904841  18.251944  0.025022    9.987799       0.973698\n"
     ]
    }
   ],
   "source": [
    "def main()->None:\n",
    "    \n",
    "    [invoices, product, columns] = read_file(FILE_INPUT)\n",
    "    dataFrame = create_matrix(invoices, sorted(invoices.keys()), sorted(product.keys()) if USE_DICT_OVER_SET else sorted(product))\n",
    "    #dataFrame = moreEfficientCreateMatrix(invoices, sorted(invoices.keys()), product)\n",
    "\n",
    "    if USE_FPGROWTH:\n",
    "        fp = fpgrowth(df=dataFrame, min_support=0.02, use_colnames=True)\n",
    "        #print(\"items present = \", len(fp))\n",
    "        #print(fp.to_string())\n",
    "    \n",
    "    print(fp[fp['itemsets'].map(len) > 1])\n",
    "    \n",
    "    if USE_APRIORI:\n",
    "        ap = apriori(df=dataFrame, min_support=0.05, use_colnames=True)\n",
    "        print(\"items apriori = \", len(ap))\n",
    "        print(ap.to_string())\n",
    "        \n",
    "    asr = association_rules(df=fp if USE_FPGROWTH else ap, metric='confidence', min_threshold=0.85)\n",
    "    print(len(asr))\n",
    "    print(asr.to_string())    \n",
    "    \n",
    "        \n",
    "main()"
   ]
  }
 ],
 "metadata": {
  "kernelspec": {
   "display_name": ".venv",
   "language": "python",
   "name": "python3"
  },
  "language_info": {
   "codemirror_mode": {
    "name": "ipython",
    "version": 3
   },
   "file_extension": ".py",
   "mimetype": "text/x-python",
   "name": "python",
   "nbconvert_exporter": "python",
   "pygments_lexer": "ipython3",
   "version": "3.12.0"
  }
 },
 "nbformat": 4,
 "nbformat_minor": 2
}
