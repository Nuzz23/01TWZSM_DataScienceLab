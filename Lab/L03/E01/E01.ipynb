{
 "cells": [
  {
   "cell_type": "markdown",
   "metadata": {},
   "source": [
    "All the libraries, modules, imports and constants used in this program "
   ]
  },
  {
   "cell_type": "code",
   "execution_count": 88,
   "metadata": {},
   "outputs": [],
   "source": [
    "import pandas as pd\n",
    "import mlxtend as ml\n",
    "\n",
    "FILE_INPUT = \"online_retail.csv\""
   ]
  },
  {
   "cell_type": "markdown",
   "metadata": {},
   "source": [
    "This functions reads from the given file creating a dictionary of invoices:\n",
    "<ol>\n",
    "<li>skips the first row\n",
    "<li>if the row starts with \"C\" is a cancellation -> to be skipped</li>\n",
    "<li>split the row and convert it to integer</li>\n",
    "<li>add the invoiceCode if not present to the data dictionary</li>\n",
    "<li>if not present add the product code and description to the other dictionary</li>\n",
    "<li>finally match invoice number with product number</li>\n",
    "</ol>\n",
    "Returns:\n",
    "<ol>\n",
    "<li>The dictionary #Invoice : set(#products)</li>\n",
    "<li>The dictionary #products : description </li>\n",
    "</ol>"
   ]
  },
  {
   "cell_type": "code",
   "execution_count": 89,
   "metadata": {},
   "outputs": [],
   "source": [
    "def read_file(FILE_INPUT:str)->[dict[int:str], dict[int:str]]: # type: ignore\n",
    "    invoices = dict()\n",
    "    products = dict()\n",
    "    \n",
    "    with open(FILE_INPUT, \"r\", encoding='UTF-8') as file:\n",
    "        file.readline()\n",
    "        \n",
    "        for row in file:    \n",
    "            try:\n",
    "                row = row.strip().split(\",\")\n",
    "                row[0] = int(row[0])\n",
    "                if len(row[1]) <= 1 or len(row[2]) <= 1:\n",
    "                    raise ValueError \n",
    "            except ValueError:\n",
    "                continue\n",
    "            \n",
    "            if row[0] not in invoices:\n",
    "                invoices[row[0]] = set()\n",
    "                \n",
    "            if row[1] not in products:\n",
    "                products[row[1]] = row[2]\n",
    "                \n",
    "            invoices[row[0]].add(row[1])\n",
    "    \n",
    "    return [invoices, products]"
   ]
  },
  {
   "cell_type": "markdown",
   "metadata": {},
   "source": [
    "This functions creates a matrix starting from the products and the invoices:\n",
    "- The rows are the invoices (which are sorted in ascending order)\n",
    "- The columns are the products code (sorted in ascending order)\n",
    "- The element (i, j) of the matrix is 1 if the product i is present in the invoice j, 0 otherwise\n",
    "\n",
    "The matrix is then returned as a pd data frame"
   ]
  },
  {
   "cell_type": "code",
   "execution_count": 90,
   "metadata": {},
   "outputs": [],
   "source": [
    "def create_matrix(invoices:dict[int:set[str]], invoices_id:list[int], products_id:list[str])->list[list[int]]:            \n",
    "    return pd.DataFrame(data=[[1 if products_id[j] in invoices[invoices_id[i]] else 0 for j in range(len(products_id))] for i in range(len(invoices_id))],\n",
    "                        columns= products_id, index=invoices_id) "
   ]
  },
  {
   "cell_type": "markdown",
   "metadata": {},
   "source": [
    "This is the main function of the program that will have all the main instructions and function calls of the whole program"
   ]
  },
  {
   "cell_type": "code",
   "execution_count": 91,
   "metadata": {},
   "outputs": [
    {
     "ename": "TypeError",
     "evalue": "Passing a set as an indexer is not supported. Use a list instead.",
     "output_type": "error",
     "traceback": [
      "\u001b[1;31m---------------------------------------------------------------------------\u001b[0m",
      "\u001b[1;31mTypeError\u001b[0m                                 Traceback (most recent call last)",
      "Cell \u001b[1;32mIn[91], line 6\u001b[0m\n\u001b[0;32m      2\u001b[0m     [invoices, product] \u001b[38;5;241m=\u001b[39m read_file(FILE_INPUT)\n\u001b[0;32m      3\u001b[0m     matrix \u001b[38;5;241m=\u001b[39m create_matrix(invoices, \u001b[38;5;28msorted\u001b[39m(invoices\u001b[38;5;241m.\u001b[39mkeys()), \u001b[38;5;28msorted\u001b[39m(product\u001b[38;5;241m.\u001b[39mkeys()))\n\u001b[1;32m----> 6\u001b[0m \u001b[43mmain\u001b[49m\u001b[43m(\u001b[49m\u001b[43m)\u001b[49m\n",
      "Cell \u001b[1;32mIn[91], line 3\u001b[0m, in \u001b[0;36mmain\u001b[1;34m()\u001b[0m\n\u001b[0;32m      1\u001b[0m \u001b[38;5;28;01mdef\u001b[39;00m \u001b[38;5;21mmain\u001b[39m()\u001b[38;5;241m-\u001b[39m\u001b[38;5;241m>\u001b[39m\u001b[38;5;28;01mNone\u001b[39;00m:\n\u001b[0;32m      2\u001b[0m     [invoices, product] \u001b[38;5;241m=\u001b[39m read_file(FILE_INPUT)\n\u001b[1;32m----> 3\u001b[0m     matrix \u001b[38;5;241m=\u001b[39m \u001b[43mcreate_matrix\u001b[49m\u001b[43m(\u001b[49m\u001b[43minvoices\u001b[49m\u001b[43m,\u001b[49m\u001b[43m \u001b[49m\u001b[38;5;28;43msorted\u001b[39;49m\u001b[43m(\u001b[49m\u001b[43minvoices\u001b[49m\u001b[38;5;241;43m.\u001b[39;49m\u001b[43mkeys\u001b[49m\u001b[43m(\u001b[49m\u001b[43m)\u001b[49m\u001b[43m)\u001b[49m\u001b[43m,\u001b[49m\u001b[43m \u001b[49m\u001b[38;5;28;43msorted\u001b[39;49m\u001b[43m(\u001b[49m\u001b[43mproduct\u001b[49m\u001b[38;5;241;43m.\u001b[39;49m\u001b[43mkeys\u001b[49m\u001b[43m(\u001b[49m\u001b[43m)\u001b[49m\u001b[43m)\u001b[49m\u001b[43m)\u001b[49m\n",
      "Cell \u001b[1;32mIn[90], line 12\u001b[0m, in \u001b[0;36mcreate_matrix\u001b[1;34m(invoices, invoices_id, products_id)\u001b[0m\n\u001b[0;32m     10\u001b[0m \u001b[38;5;28;01mfor\u001b[39;00m invoice_id, products \u001b[38;5;129;01min\u001b[39;00m invoices\u001b[38;5;241m.\u001b[39mitems():\n\u001b[0;32m     11\u001b[0m     \u001b[38;5;28;01mif\u001b[39;00m invoice_id \u001b[38;5;129;01min\u001b[39;00m invoices_id:\n\u001b[1;32m---> 12\u001b[0m         \u001b[43mmatrix\u001b[49m\u001b[38;5;241;43m.\u001b[39;49m\u001b[43mloc\u001b[49m\u001b[43m[\u001b[49m\u001b[43minvoice_id\u001b[49m\u001b[43m,\u001b[49m\u001b[43m \u001b[49m\u001b[43mproducts\u001b[49m\u001b[38;5;241;43m.\u001b[39;49m\u001b[43mintersection\u001b[49m\u001b[43m(\u001b[49m\u001b[43mproducts_id\u001b[49m\u001b[43m)\u001b[49m\u001b[43m]\u001b[49m \u001b[38;5;241m=\u001b[39m \u001b[38;5;241m1\u001b[39m\n\u001b[0;32m     14\u001b[0m \u001b[38;5;28;01mreturn\u001b[39;00m matrix\u001b[38;5;241m.\u001b[39mreindex(index\u001b[38;5;241m=\u001b[39minvoices_id, columns\u001b[38;5;241m=\u001b[39mproducts_id)\n",
      "File \u001b[1;32mc:\\Users\\utente\\OneDrive\\Desktop\\Magistrale\\01TWZSM_DataScienceLab\\.venv\\Lib\\site-packages\\pandas\\core\\indexing.py:900\u001b[0m, in \u001b[0;36m_LocationIndexer.__setitem__\u001b[1;34m(self, key, value)\u001b[0m\n\u001b[0;32m    895\u001b[0m     \u001b[38;5;28;01mif\u001b[39;00m ctr \u001b[38;5;241m<\u001b[39m\u001b[38;5;241m=\u001b[39m ref_count:\n\u001b[0;32m    896\u001b[0m         warnings\u001b[38;5;241m.\u001b[39mwarn(\n\u001b[0;32m    897\u001b[0m             _chained_assignment_warning_msg, \u001b[38;5;167;01mFutureWarning\u001b[39;00m, stacklevel\u001b[38;5;241m=\u001b[39m\u001b[38;5;241m2\u001b[39m\n\u001b[0;32m    898\u001b[0m         )\n\u001b[1;32m--> 900\u001b[0m \u001b[43mcheck_dict_or_set_indexers\u001b[49m\u001b[43m(\u001b[49m\u001b[43mkey\u001b[49m\u001b[43m)\u001b[49m\n\u001b[0;32m    901\u001b[0m \u001b[38;5;28;01mif\u001b[39;00m \u001b[38;5;28misinstance\u001b[39m(key, \u001b[38;5;28mtuple\u001b[39m):\n\u001b[0;32m    902\u001b[0m     key \u001b[38;5;241m=\u001b[39m \u001b[38;5;28mtuple\u001b[39m(\u001b[38;5;28mlist\u001b[39m(x) \u001b[38;5;28;01mif\u001b[39;00m is_iterator(x) \u001b[38;5;28;01melse\u001b[39;00m x \u001b[38;5;28;01mfor\u001b[39;00m x \u001b[38;5;129;01min\u001b[39;00m key)\n",
      "File \u001b[1;32mc:\\Users\\utente\\OneDrive\\Desktop\\Magistrale\\01TWZSM_DataScienceLab\\.venv\\Lib\\site-packages\\pandas\\core\\indexing.py:2774\u001b[0m, in \u001b[0;36mcheck_dict_or_set_indexers\u001b[1;34m(key)\u001b[0m\n\u001b[0;32m   2766\u001b[0m \u001b[38;5;250m\u001b[39m\u001b[38;5;124;03m\"\"\"\u001b[39;00m\n\u001b[0;32m   2767\u001b[0m \u001b[38;5;124;03mCheck if the indexer is or contains a dict or set, which is no longer allowed.\u001b[39;00m\n\u001b[0;32m   2768\u001b[0m \u001b[38;5;124;03m\"\"\"\u001b[39;00m\n\u001b[0;32m   2769\u001b[0m \u001b[38;5;28;01mif\u001b[39;00m (\n\u001b[0;32m   2770\u001b[0m     \u001b[38;5;28misinstance\u001b[39m(key, \u001b[38;5;28mset\u001b[39m)\n\u001b[0;32m   2771\u001b[0m     \u001b[38;5;129;01mor\u001b[39;00m \u001b[38;5;28misinstance\u001b[39m(key, \u001b[38;5;28mtuple\u001b[39m)\n\u001b[0;32m   2772\u001b[0m     \u001b[38;5;129;01mand\u001b[39;00m \u001b[38;5;28many\u001b[39m(\u001b[38;5;28misinstance\u001b[39m(x, \u001b[38;5;28mset\u001b[39m) \u001b[38;5;28;01mfor\u001b[39;00m x \u001b[38;5;129;01min\u001b[39;00m key)\n\u001b[0;32m   2773\u001b[0m ):\n\u001b[1;32m-> 2774\u001b[0m     \u001b[38;5;28;01mraise\u001b[39;00m \u001b[38;5;167;01mTypeError\u001b[39;00m(\n\u001b[0;32m   2775\u001b[0m         \u001b[38;5;124m\"\u001b[39m\u001b[38;5;124mPassing a set as an indexer is not supported. Use a list instead.\u001b[39m\u001b[38;5;124m\"\u001b[39m\n\u001b[0;32m   2776\u001b[0m     )\n\u001b[0;32m   2778\u001b[0m \u001b[38;5;28;01mif\u001b[39;00m (\n\u001b[0;32m   2779\u001b[0m     \u001b[38;5;28misinstance\u001b[39m(key, \u001b[38;5;28mdict\u001b[39m)\n\u001b[0;32m   2780\u001b[0m     \u001b[38;5;129;01mor\u001b[39;00m \u001b[38;5;28misinstance\u001b[39m(key, \u001b[38;5;28mtuple\u001b[39m)\n\u001b[0;32m   2781\u001b[0m     \u001b[38;5;129;01mand\u001b[39;00m \u001b[38;5;28many\u001b[39m(\u001b[38;5;28misinstance\u001b[39m(x, \u001b[38;5;28mdict\u001b[39m) \u001b[38;5;28;01mfor\u001b[39;00m x \u001b[38;5;129;01min\u001b[39;00m key)\n\u001b[0;32m   2782\u001b[0m ):\n\u001b[0;32m   2783\u001b[0m     \u001b[38;5;28;01mraise\u001b[39;00m \u001b[38;5;167;01mTypeError\u001b[39;00m(\n\u001b[0;32m   2784\u001b[0m         \u001b[38;5;124m\"\u001b[39m\u001b[38;5;124mPassing a dict as an indexer is not supported. Use a list instead.\u001b[39m\u001b[38;5;124m\"\u001b[39m\n\u001b[0;32m   2785\u001b[0m     )\n",
      "\u001b[1;31mTypeError\u001b[0m: Passing a set as an indexer is not supported. Use a list instead."
     ]
    }
   ],
   "source": [
    "def main()->None:\n",
    "    [invoices, product] = read_file(FILE_INPUT)\n",
    "    matrix = create_matrix(invoices, sorted(invoices.keys()), sorted(product.keys()))\n",
    "\n",
    "    \n",
    "main()"
   ]
  }
 ],
 "metadata": {
  "kernelspec": {
   "display_name": ".venv",
   "language": "python",
   "name": "python3"
  },
  "language_info": {
   "codemirror_mode": {
    "name": "ipython",
    "version": 3
   },
   "file_extension": ".py",
   "mimetype": "text/x-python",
   "name": "python",
   "nbconvert_exporter": "python",
   "pygments_lexer": "ipython3",
   "version": "3.12.0"
  }
 },
 "nbformat": 4,
 "nbformat_minor": 2
}
