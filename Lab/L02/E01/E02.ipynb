{
 "cells": [
  {
   "cell_type": "markdown",
   "metadata": {},
   "source": [
    "libraries, constants and imports required for the program:\n",
    "<ul>\n",
    "<li>Import the enum class created by me</li>\n",
    "<li>Define the file name</li>\n",
    "<li>Define if using the default values or allows the user to insert them</li>\n",
    "<li>Define the default location value</li>\n",
    "<li>Define the default number of elements value</li>\n",
    "</ul>"
   ]
  },
  {
   "cell_type": "code",
   "execution_count": 267,
   "metadata": {},
   "outputs": [],
   "source": [
    "from Enum_data import EnumData\n",
    "import matplotlib.pyplot as plt\n",
    "\n",
    "FILE_INPUT = \"dati.csv\"\n",
    "ALLOW_USER_INPUT = 0\n",
    "CITY = \"Rome\"\n",
    "N = 5"
   ]
  },
  {
   "cell_type": "markdown",
   "metadata": {},
   "source": [
    "This function is used to fill data missing as described by the rule"
   ]
  },
  {
   "cell_type": "code",
   "execution_count": 268,
   "metadata": {},
   "outputs": [],
   "source": [
    "def fill_values(data:list[list], start:int, stop:int, first:float, last:float, col:int)->None:            \n",
    "    while start < stop:\n",
    "        data[start][col] = round((first+last)/2,3)\n",
    "        first = data[start][col]\n",
    "        start+=1"
   ]
  },
  {
   "cell_type": "markdown",
   "metadata": {},
   "source": [
    "This function reads the file, drops the first line and fills the missing values: <br>\n",
    "it creates the two enums required (one for temperature, one for missing values) <br>\n",
    "if a measurement is missing the data are read until a the next usable value is found <br>\n"
   ]
  },
  {
   "cell_type": "code",
   "execution_count": 269,
   "metadata": {},
   "outputs": [],
   "source": [
    "def read_file(FILE_INPUT:str) -> list[list[str, float, float, str, str, str, str]]:\n",
    "    data = []\n",
    "\n",
    "    with open(FILE_INPUT, \"r\", encoding='UTF-8') as fp:\n",
    "        fp.readline()\n",
    "\n",
    "        enumData = EnumData()\n",
    "        missingTemp=-1\n",
    "        missingDelta=-1\n",
    "\n",
    "\n",
    "        for i, line in enumerate(fp):\n",
    "            line = line.strip().split(\",\")\n",
    "            try:\n",
    "                line[enumData.AVG_TEMP] = round(float(line[enumData.AVG_TEMP]), 3)\n",
    "            except ValueError:\n",
    "                missingTemp = i if missingTemp == -1 else missingTemp\n",
    "\n",
    "            try:\n",
    "                line[enumData.AVG_DELTA] = round(float(line[enumData.AVG_DELTA]),3)\n",
    "            except ValueError:\n",
    "                missingDelta = i if missingDelta == -1 else missingDelta\n",
    "\n",
    "            data.append(line)\n",
    "\n",
    "            if isinstance(line[enumData.AVG_TEMP], float) and missingTemp != -1:\n",
    "                fill_values(data, missingTemp, i,\n",
    "                        data[missingTemp - 1][enumData.AVG_TEMP]\n",
    "                        if missingTemp > 1\n",
    "                        else 0,\n",
    "                    line[enumData.AVG_TEMP], enumData.AVG_TEMP) \n",
    "                missingTemp = -1\n",
    "\n",
    "\n",
    "            if isinstance(line[enumData.AVG_DELTA], float) and missingDelta != -1:\n",
    "                fill_values(data, missingDelta, i,\n",
    "                        data[missingDelta - 1][enumData.AVG_DELTA]\n",
    "                        if missingDelta > 1\n",
    "                        else 0,\n",
    "                    line[enumData.AVG_DELTA], enumData.AVG_DELTA)\n",
    "                missingDelta = -1\n",
    "\n",
    "        if missingTemp != -1:\n",
    "            fill_values(data, missingTemp, len(data), data[missingTemp - 1][enumData.AVG_TEMP],0, enumData.AVG_TEMP) \n",
    "            \n",
    "        if missingDelta != -1:\n",
    "            fill_values(data, missingDelta, len(data), data[missingDelta - 1][enumData.AVG_DELTA],0, enumData.AVG_DELTA) \n",
    "            \n",
    "\n",
    "    return data"
   ]
  },
  {
   "cell_type": "markdown",
   "metadata": {},
   "source": [
    "This function allows the user to input the name of the city and the number of rows wanted"
   ]
  },
  {
   "cell_type": "code",
   "execution_count": 270,
   "metadata": {},
   "outputs": [],
   "source": [
    "def user_inputs(max:int)->tuple[str, int]:\n",
    "    n = -1\n",
    "    city = \"\"  \n",
    "    \n",
    "    while not city:\n",
    "        city = input(\"Insert the city to look for : \").strip()\n",
    "    \n",
    "    while n < 1 or n>=max:\n",
    "        try:\n",
    "            n = int(input(\"Insert the number of rows : \").strip())\n",
    "        except ValueError:\n",
    "            n = -1\n",
    "        \n",
    "    return (city, n)\n",
    "    "
   ]
  },
  {
   "cell_type": "markdown",
   "metadata": {},
   "source": [
    "This function prints the N coldest and N hottest measurements for the given city"
   ]
  },
  {
   "cell_type": "code",
   "execution_count": 271,
   "metadata": {},
   "outputs": [],
   "source": [
    "def searchNHottestColdest(data:list[list], info:list[str, int])->None:\n",
    "    enum = EnumData()\n",
    "    lista = sorted(filter(lambda x: x[enum.CITY]==info[0], data), key=lambda x:x[enum.AVG_TEMP])\n",
    "    \n",
    "    print(f\"{info[1]} COLDEST MEASUREMENT FOR {info[0].upper()}\")\n",
    "    for item in lista[:info[1]]:\n",
    "        print(f\"Date = {item[enum.DATE]} \\t Temperature = {item[enum.AVG_TEMP]}\")\n",
    "        \n",
    "    print(f\"\\n\\n{info[1]} HOTTEST MEASUREMENT FOR {info[0].upper()}\")\n",
    "    for item in lista[len(lista)-info[1]:]:\n",
    "        print(f\"Date = {item[enum.DATE]} \\t Temperature = {item[enum.AVG_TEMP]}\")"
   ]
  },
  {
   "cell_type": "markdown",
   "metadata": {},
   "source": [
    "This function evaluates both the mean and the variance of a series of temperatures"
   ]
  },
  {
   "cell_type": "code",
   "execution_count": 272,
   "metadata": {},
   "outputs": [],
   "source": [
    "def evaluate_avg_var(data:list[list[str, float]]) -> list[float, float]:\n",
    "    avg = sum(item[1] for item in data)/len(data)\n",
    "\n",
    "    return [round(avg,6), round(sum((item[1]-avg)**2 for item in data)/len(data), 6)]"
   ]
  },
  {
   "cell_type": "markdown",
   "metadata": {},
   "source": [
    "This function prints on screen the different temperatures registered for cities in a given\n",
    "list or set"
   ]
  },
  {
   "cell_type": "code",
   "execution_count": 273,
   "metadata": {},
   "outputs": [],
   "source": [
    "def searchForAnomalies(data:list[list], cities:list[str])->None:\n",
    "    enum = EnumData()\n",
    "    diz = dict()\n",
    "    \n",
    "    diz = {city:sorted(map(lambda x:[x[enum.DATE], x[enum.AVG_TEMP]], filter(lambda y:y[enum.CITY] == city, data)), key=lambda x:x[0]) for city in cities}\n",
    "        \n",
    "    for city in diz:\n",
    "        plt.hist([y[1] for y in diz[city]], label=city)\n",
    "    \n",
    "    plt.title(\"Average temperature for the cities \")\n",
    "    plt.xlabel(\"Average Temperature\")\n",
    "    plt.ylabel(\"# Counts\")\n",
    "    plt.legend()\n",
    "    plt.show()\n",
    "    \n",
    "    for city in diz:\n",
    "        [avg, var] = evaluate_avg_var(diz[city]) \n",
    "        print(f\"city = {city} \\t Avg Temperature = {avg} \\t Variance ={var} \\t Dev Std = {round(var**0.5, 6)}\")\n",
    "    \n",
    "    "
   ]
  },
  {
   "cell_type": "markdown",
   "metadata": {},
   "source": [
    "This function plots the given cities converting the temperature from fahrenheit to celsius "
   ]
  },
  {
   "cell_type": "code",
   "execution_count": 274,
   "metadata": {},
   "outputs": [],
   "source": [
    "def printWithConversion(data:list[list], citiesCelsius:list[str], citiesFahrenheit:list[str])->None:\n",
    "    enum = EnumData()\n",
    "    diz = dict()\n",
    "    \n",
    "    cities = set(citiesCelsius).union(citiesFahrenheit)\n",
    "    \n",
    "    #diz = ({city:sorted(map(lambda x:[x[enum.DATE], x[enum.AVG_TEMP]], filter(lambda y:y[enum.CITY] == city, data)), key=lambda x:x[0]) for city in citiesCelsius} \n",
    "    #       | {city:sorted(map(lambda x:[x[enum.DATE], x[enum.AVG_TEMP]/1.8-32], filter(lambda y:y[enum.CITY] == city, data)), key=lambda x:x[0]) for city in citiesFahrenheit})\n",
    "    \n",
    "    \n",
    "    diz = {city:sorted(\n",
    "            map(lambda x:[x[enum.DATE], \n",
    "                          x[enum.AVG_TEMP] if city in citiesCelsius else x[enum.AVG_TEMP]/1.8-32], \n",
    "                filter(lambda y:y[enum.CITY] == city, data)), key=lambda x:x[0]) \n",
    "           for city in cities} \n",
    "          \n",
    "    for city in diz:\n",
    "        plt.hist([y[1] for y in diz[city]], label=city)\n",
    "    \n",
    "    plt.title(\"Average temperature for the cities \")\n",
    "    plt.xlabel(\"Average Temperature\")\n",
    "    plt.ylabel(\"# Counts\")\n",
    "    plt.legend()\n",
    "    plt.show()\n",
    "    \n",
    "    for city in diz:\n",
    "        [avg, var] = evaluate_avg_var(diz[city]) \n",
    "        print(f\"city = {city} \\t Avg Temperature = {avg} \\t Variance ={var} \\t Dev Std = {round(var**0.5, 6)}\")\n",
    "    \n",
    "    "
   ]
  },
  {
   "cell_type": "markdown",
   "metadata": {},
   "source": [
    "The main function that regulates the code execution:\n",
    "<ol>\n",
    "<li>Reads the input data</li>\n",
    "<li>Checks which values should be used and allows the user to input them</li>\n",
    "<li>Prints the N coldest/hottest measurements of the previously defined city</li>\n",
    "<li>Prints the graph that shows the temperature land temperature for the city of Rome and Bangkok </li>\n",
    "</ol>"
   ]
  },
  {
   "cell_type": "code",
   "execution_count": 275,
   "metadata": {},
   "outputs": [
    {
     "name": "stdout",
     "output_type": "stream",
     "text": [
      "5 COLDEST MEASUREMENT FOR ROME\n",
      "Date = 1942-01-01 \t Temperature = -1.441\n",
      "Date = 1956-02-01 \t Temperature = -1.304\n",
      "Date = 1864-01-01 \t Temperature = -1.019\n",
      "Date = 1830-01-01 \t Temperature = -0.871\n",
      "Date = 1893-01-01 \t Temperature = -0.783\n",
      "\n",
      "\n",
      "5 HOTTEST MEASUREMENT FOR ROME\n",
      "Date = 2012-07-01 \t Temperature = 24.48\n",
      "Date = 2012-08-01 \t Temperature = 24.731\n",
      "Date = 1994-08-01 \t Temperature = 24.873\n",
      "Date = 2003-07-01 \t Temperature = 24.998\n",
      "Date = 2003-08-01 \t Temperature = 25.951\n"
     ]
    },
    {
     "data": {
      "image/png": "[encoded data removed]",
      "text/plain": [
       "<Figure size 640x480 with 1 Axes>"
      ]
     },
     "metadata": {},
     "output_type": "display_data"
    },
    {
     "name": "stdout",
     "output_type": "stream",
     "text": [
      "city = Rome \t Avg Temperature = 12.012435 \t Variance =44.799466 \t Dev Std = 6.69324\n",
      "city = Bangkok \t Avg Temperature = 80.727228 \t Variance =9.270265 \t Dev Std = 3.044711\n"
     ]
    },
    {
     "data": {
      "image/png": "[encoded data removed]",
      "text/plain": [
       "<Figure size 640x480 with 1 Axes>"
      ]
     },
     "metadata": {},
     "output_type": "display_data"
    },
    {
     "name": "stdout",
     "output_type": "stream",
     "text": [
      "city = Bangkok \t Avg Temperature = 12.84846 \t Variance =2.861193 \t Dev Std = 1.691506\n",
      "city = Rome \t Avg Temperature = 12.012435 \t Variance =44.799466 \t Dev Std = 6.69324\n"
     ]
    }
   ],
   "source": [
    "def main()->None:\n",
    "    data = read_file(FILE_INPUT)\n",
    "    \n",
    "    searchNHottestColdest(data, user_inputs(len(data)) if ALLOW_USER_INPUT else (CITY, N))\n",
    "    \n",
    "    searchForAnomalies(data, cities=[\"Rome\", \"Bangkok\"])\n",
    "    printWithConversion(data, citiesCelsius=[\"Rome\"], citiesFahrenheit=['Bangkok'])\n",
    "    \n",
    "        \n",
    "main()"
   ]
  }
 ],
 "metadata": {
  "kernelspec": {
   "display_name": ".venv",
   "language": "python",
   "name": "python3"
  },
  "language_info": {
   "codemirror_mode": {
    "name": "ipython",
    "version": 3
   },
   "file_extension": ".py",
   "mimetype": "text/x-python",
   "name": "python",
   "nbconvert_exporter": "python",
   "pygments_lexer": "ipython3",
   "version": "3.12.0"
  }
 },
 "nbformat": 4,
 "nbformat_minor": 2
}
