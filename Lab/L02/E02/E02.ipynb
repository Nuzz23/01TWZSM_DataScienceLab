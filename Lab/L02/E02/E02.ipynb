{
 "cells": [
  {
   "cell_type": "markdown",
   "metadata": {},
   "source": [
    "Here are listed all the modules, libraries, imports and constant used for the exercise"
   ]
  },
  {
   "cell_type": "code",
   "execution_count": 97,
   "metadata": {},
   "outputs": [],
   "source": [
    "from EnumReviews import enumReviews\n",
    "from math import log\n",
    "import string\n",
    "\n",
    "FILE_INPUT = \"reviews.txt\""
   ]
  },
  {
   "cell_type": "markdown",
   "metadata": {},
   "source": [
    "This function is used to read the file as a list of list of words (strings) and label (integer) "
   ]
  },
  {
   "cell_type": "code",
   "execution_count": 98,
   "metadata": {},
   "outputs": [],
   "source": [
    "def load_file(path2file:str)->list[list[str, int]]:\n",
    "    data = []\n",
    "    \n",
    "    with open(path2file, \"r\", encoding=\"UTF-8\") as fp:\n",
    "        fp.readline()\n",
    "\n",
    "        for line in fp:        \n",
    "            line=line.strip().split(\",\")\n",
    "            data.append([\",\".join(line[:-1]), int(line[-1])])\n",
    "          \n",
    "    return data"
   ]
  },
  {
   "cell_type": "markdown",
   "metadata": {},
   "source": [
    "This function applies the tokenization <br>\n",
    "Compute the tokens for each document.<br>\n",
    "Input: a list of strings. Each item is a document to tokenize.\n",
    "<br>Output: a list of lists. Each item is a list containing the tokens of the\n",
    "relative document."
   ]
  },
  {
   "cell_type": "code",
   "execution_count": 99,
   "metadata": {},
   "outputs": [],
   "source": [
    "def tokenize(data:list[list[str, int]])->list[list[str]]:\n",
    "    enum = enumReviews()\n",
    "    tokens = []\n",
    "    \n",
    "    for doc in data:\n",
    "        doc = doc[enum.DESC]\n",
    "        for punct in string.punctuation:\n",
    "            doc = doc.replace(punct, \" \")\n",
    "        split_doc = [token.lower() for token in doc.split(\" \") if token]\n",
    "        tokens.append(split_doc)\n",
    "        \n",
    "    return tokens\n"
   ]
  },
  {
   "cell_type": "markdown",
   "metadata": {},
   "source": [
    "This function counts the number of occurrence of words in a list of tokens"
   ]
  },
  {
   "cell_type": "code",
   "execution_count": 100,
   "metadata": {},
   "outputs": [],
   "source": [
    "def countFrequencies(token:list[list[str]])->list[dict[str:int]]:\n",
    "    # sourcery skip: inline-immediately-returned-variable, move-assign-in-block\n",
    "    # No good it's cubic !\n",
    "    # return [{word:token[i].count(word) for word in token[i]} for i in range(len(token))]\n",
    "\n",
    "    # This is quadratic, which is better\n",
    "    data = []\n",
    "    for text in token:\n",
    "        diz = dict()\n",
    "        for word in text:\n",
    "            if word in diz:\n",
    "                diz[word]+=1\n",
    "            else:\n",
    "                diz[word]=1\n",
    "        data.append(diz)\n",
    "    \n",
    "    return data\n",
    "    "
   ]
  },
  {
   "cell_type": "markdown",
   "metadata": {},
   "source": [
    "This function computes the DF and the IDF for each word in the text and returns the list in ascending order"
   ]
  },
  {
   "cell_type": "code",
   "execution_count": 101,
   "metadata": {},
   "outputs": [],
   "source": [
    "def computeIDF(freq:list[dict[str:int]]) -> dict[str:float]:\n",
    "    numberOfDoc = len(freq)\n",
    "    df = dict()\n",
    "    \n",
    "    for doc in freq:\n",
    "        for word in doc:\n",
    "            if word in df:\n",
    "                df[word]+=1\n",
    "            else:\n",
    "                df[word]=1\n",
    "                \n",
    "    return {word:log(numberOfDoc/df[word]) for word in df}"
   ]
  },
  {
   "cell_type": "markdown",
   "metadata": {},
   "source": [
    "This function computes the TF-IDFt,d = TFt,d × IDFt <br>\n",
    "In other words, TF-IDFt,d assigns to term t a weight in document d that is\n",
    "- high when t occurs many times within a small number of documents;\n",
    "- low when the term occurs fewer times in a document, or occurs in many documents (thus\n",
    "offering a less pronounced relevance signal);\n",
    "- lowest when the term occurs in virtually all documents"
   ]
  },
  {
   "cell_type": "code",
   "execution_count": 102,
   "metadata": {},
   "outputs": [],
   "source": [
    "def computeTF_IDF(freq:list[dict[str:int]], idf:dict[str:float])->list[dict[str:float]]:\n",
    "    return [{item:idf[item]*doc[item] for item in doc} for doc in freq]"
   ]
  },
  {
   "cell_type": "markdown",
   "metadata": {},
   "source": [
    "This function separates documents into positive and negatives:"
   ]
  },
  {
   "cell_type": "code",
   "execution_count": 103,
   "metadata": {},
   "outputs": [],
   "source": [
    "def separate_documents(data:list[list[str, int]])->list[set[int], set[int]]:\n",
    "    positive=set()\n",
    "    negative=set()\n",
    "    enum = enumReviews()\n",
    "    \n",
    "    for i in range(len(data)):\n",
    "        if data[i][enum.LABEL]:\n",
    "            positive.add(i)\n",
    "        else:\n",
    "            negative.add(i)\n",
    "    \n",
    "    return [positive, negative]\n",
    "    "
   ]
  },
  {
   "cell_type": "markdown",
   "metadata": {},
   "source": [
    "Compute the L2-norm of a vector representation"
   ]
  },
  {
   "cell_type": "code",
   "execution_count": 104,
   "metadata": {},
   "outputs": [],
   "source": [
    "def norm(d:dict[str:float])->float:\n",
    "    return sum(tf_idf**2 for t, tf_idf in d.items())**.5"
   ]
  },
  {
   "cell_type": "markdown",
   "metadata": {},
   "source": [
    "Compute the dot product between two vector representations"
   ]
  },
  {
   "cell_type": "code",
   "execution_count": 105,
   "metadata": {},
   "outputs": [],
   "source": [
    "def dot_product(d1:dict[str:float], d2:dict[str:float])->float:\n",
    "    word_set = set(list(d1.keys()) + list(d2.keys()))\n",
    "    return sum(d1.get(d, 0.0) * d2.get(d, 0.0) for d in word_set)"
   ]
  },
  {
   "cell_type": "markdown",
   "metadata": {},
   "source": [
    "Compute the cosine similarity between documents d1 and d2.<br>\n",
    "Input: two dictionaries representing the TF-IDF vectors for documents d1 and d2.<br>\n",
    "Output: the cosine similarity."
   ]
  },
  {
   "cell_type": "code",
   "execution_count": 106,
   "metadata": {},
   "outputs": [],
   "source": [
    "def cosine_similarity(d1:dict[str:float], d2:dict[str:float]):\n",
    "    return dot_product(d1, d2) / (norm(d1) * norm(d2))"
   ]
  },
  {
   "cell_type": "markdown",
   "metadata": {},
   "source": [
    "This function computes the sentiment analysis, so, if a given document is closer to positive or to negative reviews:\n",
    "<br>To do so, the cosine similarity is introduced: $\\text{cos sim}(d1,d2) = \\frac{V(d1) * V(d2)}{|V(d1)|\\cdot|V(d2)|}$\n"
   ]
  },
  {
   "cell_type": "code",
   "execution_count": 107,
   "metadata": {},
   "outputs": [],
   "source": [
    "def sentiments_analysis(tf_idf_doc:dict[str:float], tf_idf:list[dict[str:float]], positive:set[int], negative:set[int], skip:int)->None:\n",
    "    print(skip, end=' ' if skip%50 else '\\n')\n",
    "    return (1 \n",
    "        if sum(cosine_similarity(tf_idf_doc, tf_idf[i]) for i in positive if i != skip) > \n",
    "           sum(cosine_similarity(tf_idf_doc, tf_idf[i]) for i in negative if i != skip) \n",
    "        else 0)"
   ]
  },
  {
   "cell_type": "markdown",
   "metadata": {},
   "source": [
    "This is the main function of the program: <ol>\n",
    "<li>Creates the object enumerator for items</li>\n",
    "<li>Reads the input file</li>\n",
    "<li>Tokenize each document (reviews) read</li>\n",
    "<li>Compute the frequency of each token inside each document</li>\n",
    "<li>Computes the IDF (and DF) for each word in all documents</li>\n",
    "<li>Computes the TF_IDF for each word of each document</li>\n",
    "<li>Separates the document (starting from start) into positive and negatives one</li>\n",
    "<li>Computes the sentiment analysis on a given document</li>\n",
    "<li>Prints the accuracy of the model</li>\n",
    "</ol>"
   ]
  },
  {
   "cell_type": "code",
   "execution_count": 108,
   "metadata": {},
   "outputs": [
    {
     "name": "stdout",
     "output_type": "stream",
     "text": [
      "0\n",
      "1 2 3 4 5 6 7 8 9 10 11 12 13 14 15 16 17 18 19 20 21 22 23 24 25 26 27 28 29 30\n",
      "31 32 33 34 35 36 37 38 39 40 41 42 43 44 45 46 47 48 49 50 51 52 53 54 55 56 57 58 59 60\n",
      "61 62 63 64 65 66 67 68 69 70 71 72 73 74 75 76 77 78 79 80 81 82 83 84 85 86 87 88 89 90\n",
      "91 92 93 94 95 96 97 98 99 100 101 102 103 104 105 106 107 108 109 110 111 112 113 114 115 116 117 118 119 120\n",
      "121 122 123 124 125 126 127 128 129 130 131 132 133 134 135 136 137 138 139 140 141 142 143 144 145 146 147 148 149 150\n",
      "151 152 153 154 155 156 157 158 159 160 161 162 163 164 165 166 167 168 169 170 171 172 173 174 175 176 177 178 179 180\n",
      "181 182 183 184 185 186 187 188 189 190 191 192 193 194 195 196 197 198 199 200 201 202 203 204 205 206 207 208 209 210\n",
      "211 212 213 214 215 216 217 218 219 220 221 222 223 224 225 226 227 228 229 230 231 232 233 234 235 236 237 238 239 240\n",
      "241 242 243 244 245 246 247 248 249 250 251 252 253 254 255 256 257 258 Accuracy: 74.90%\n"
     ]
    }
   ],
   "source": [
    "def main() -> None:\n",
    "    enum = enumReviews()\n",
    "    data = load_file(FILE_INPUT)\n",
    "    token = tokenize(data)\n",
    "    frequencies = countFrequencies(token)\n",
    "    idf = computeIDF(frequencies)\n",
    "\n",
    "    #for word in dict(sorted(idf.items(), key=lambda x:x[1], reverse=True)):\n",
    "    #    print(word, \"\\t\", idf[word])\n",
    "\n",
    "    tf_idf = computeTF_IDF(frequencies, idf)\n",
    "    [positive, negative] = separate_documents(data)\n",
    "\n",
    "    sentiment = [sentiments_analysis(tf_idf[i], tf_idf, positive, negative, i) for i in range(len(tf_idf))]\n",
    "    \n",
    "    print(f'Accuracy: {sum(1 for i in range(len(sentiment)) if sentiment[i] == data[i][enum.LABEL]) / len(data) * 100:.2f}%')\n",
    "    \n",
    "    \n",
    "main()"
   ]
  }
 ],
 "metadata": {
  "kernelspec": {
   "display_name": ".venv",
   "language": "python",
   "name": "python3"
  },
  "language_info": {
   "codemirror_mode": {
    "name": "ipython",
    "version": 3
   },
   "file_extension": ".py",
   "mimetype": "text/x-python",
   "name": "python",
   "nbconvert_exporter": "python",
   "pygments_lexer": "ipython3",
   "version": "3.12.0"
  }
 },
 "nbformat": 4,
 "nbformat_minor": 2
}
